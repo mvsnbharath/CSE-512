{
 "cells": [
  {
   "cell_type": "code",
   "execution_count": 1,
   "metadata": {},
   "outputs": [],
   "source": [
    "import scipy.io as sio\n",
    "import matplotlib.pyplot as plt\n",
    "import numpy as np"
   ]
  },
  {
   "cell_type": "code",
   "execution_count": 2,
   "metadata": {},
   "outputs": [
    {
     "data": {
      "image/png": "[encoded data removed]",
      "text/plain": [
       "<Figure size 432x288 with 8 Axes>"
      ]
     },
     "metadata": {
      "needs_background": "light"
     },
     "output_type": "display_data"
    }
   ],
   "source": [
    "data = sio.loadmat('mnist.mat')\n",
    "for k in range(9):\n",
    "    plt.subplot(3,3,k+1)\n",
    "    plt.imshow(np.reshape(data['trainX'][k,:],(28,28)))\n",
    "    plt.title(data['trainY'][0,k])\n",
    "    plt.tight_layout()"
   ]
  },
  {
   "cell_type": "code",
   "execution_count": 3,
   "metadata": {},
   "outputs": [
    {
     "name": "stdout",
     "output_type": "stream",
     "text": [
      "XTrain Shape modified: (11791, 784)\n",
      "yTrain Shape modified: (11791,)\n",
      "XTest Shape modified: (1991, 784)\n",
      "yTest Shape modified: (1991,)\n"
     ]
    }
   ],
   "source": [
    "X = data['trainX']\n",
    "y = data['trainY']\n",
    "xTest = data['testX']\n",
    "yTest = data['testY']\n",
    "\n",
    "idx = np.logical_or(np.equal(y,4) , np.equal(y,9))\n",
    "idxTest = np.logical_or(np.equal(yTest,4) , np.equal(yTest,9))\n",
    "X = X[idx[0, :],  :]\n",
    "y = y[idx]\n",
    "xTest = xTest[idxTest[0, :],  :]\n",
    "yTest = yTest[idxTest]\n",
    "\n",
    "y[np.equal(y,4)] = 0\n",
    "y[np.equal(y,9)] = 1\n",
    "\n",
    "yTest[np.equal(yTest,4)] = 0\n",
    "yTest[np.equal(yTest,9)] = 1\n",
    "\n",
    "print(\"XTrain Shape modified: \" +str(np.shape(X)))\n",
    "print(\"yTrain Shape modified: \" +str(np.shape(y)))\n",
    "print(\"XTest Shape modified: \" +str(np.shape(xTest)))\n",
    "print(\"yTest Shape modified: \" +str(np.shape(yTest)))"
   ]
  },
  {
   "cell_type": "code",
   "execution_count": 16,
   "metadata": {},
   "outputs": [],
   "source": [
    "## Helper Functions\n",
    "\n",
    "def sigmoid(s):\n",
    "    return 1/(1 + np.exp(-s))\n",
    "\n",
    "def normalizeData(X):\n",
    "    # finding mean\n",
    "    mean=np.mean(X,axis=0)\n",
    "    # divide with (max -min)\n",
    "    # maxValue = 255, minValue = 0\n",
    "    X_norm = (X - mean)/255\n",
    "    return X_norm \n",
    "\n",
    "def costFunction(weights,X, y): \n",
    "    m=len(y)\n",
    "    z = np.dot(X, weights)\n",
    "    loss_for_1 = y * np.log(sigmoid(z))\n",
    "    loss_for_0 = (1 - y) * np.log(1 - sigmoid(z))\n",
    "    grad = 1/m * np.dot(X.transpose(),(sigmoid(z) - y))\n",
    "    return -sum(loss_for_1 + loss_for_0) / m, grad\n",
    "\n",
    "def gradientDescent(X,y,theta,alpha,num_iters):\n",
    "    m=len(y)\n",
    "    lossFunctionHistory =[]\n",
    "    \n",
    "    for i in range(num_iters):\n",
    "        loss, gradient = costFunction(theta,X,y)\n",
    "        theta = theta - (alpha * gradient)\n",
    "        lossFunctionHistory.append(loss)    \n",
    "    return theta , lossFunctionHistory\n",
    "\n",
    "\n",
    "def predict(theta, X):  \n",
    "    p = np.round(sigmoid(X.dot(theta)))\n",
    "    return p"
   ]
  },
  {
   "cell_type": "code",
   "execution_count": 17,
   "metadata": {},
   "outputs": [
    {
     "name": "stdout",
     "output_type": "stream",
     "text": [
      "Initial theta cost is [0.69314718]\n"
     ]
    }
   ],
   "source": [
    "m , n = X.shape[0], X.shape[1]\n",
    "X_normalized = normalizeData(X)\n",
    "X_normalized = np.append(np.ones((m,1)),X_normalized,axis=1)\n",
    "y = y.reshape(m,1)\n",
    "initial_theta = np.zeros((n+1,1))\n",
    "cost, grad= costFunction(initial_theta,X_normalized,y)\n",
    "print(\"Initial theta cost is\",cost)"
   ]
  },
  {
   "cell_type": "code",
   "execution_count": 18,
   "metadata": {},
   "outputs": [],
   "source": [
    "theta , J_history = gradientDescent(X_normalized,y,initial_theta,0.001,5000)"
   ]
  },
  {
   "cell_type": "code",
   "execution_count": 19,
   "metadata": {},
   "outputs": [
    {
     "data": {
      "text/plain": [
       "Text(0.5, 1.0, 'Cost function using Gradient Descent')"
      ]
     },
     "execution_count": 19,
     "metadata": {},
     "output_type": "execute_result"
    },
    {
     "data": {
      "image/png": "[encoded data removed]",
      "text/plain": [
       "<Figure size 432x288 with 1 Axes>"
      ]
     },
     "metadata": {
      "needs_background": "light"
     },
     "output_type": "display_data"
    }
   ],
   "source": [
    "plt.plot(J_history)\n",
    "plt.xlabel(\"Iteration\")\n",
    "plt.ylabel(\"$J(\\Theta)$\")\n",
    "plt.title(\"Cost function using Gradient Descent\")"
   ]
  },
  {
   "cell_type": "code",
   "execution_count": 20,
   "metadata": {},
   "outputs": [
    {
     "name": "stdout",
     "output_type": "stream",
     "text": [
      "Final Loss is  [0.25915116]\n"
     ]
    }
   ],
   "source": [
    "print(\"Final Loss is \",J_history[-1])"
   ]
  },
  {
   "cell_type": "code",
   "execution_count": 21,
   "metadata": {},
   "outputs": [
    {
     "name": "stdout",
     "output_type": "stream",
     "text": [
      "Train Accuracy: 50.01 %\n"
     ]
    }
   ],
   "source": [
    "m , n = xTest.shape[0], xTest.shape[1]\n",
    "Xtest_normalized = normalizeData(xTest)\n",
    "Xtest_normalized = np.append(np.ones((m,1)),Xtest_normalized,axis=1)\n",
    "p = predict(theta, Xtest_normalized)\n",
    "print('Train Accuracy: {:.2f} %'.format(np.mean(p == yTest) * 100))"
   ]
  },
  {
   "cell_type": "code",
   "execution_count": null,
   "metadata": {},
   "outputs": [],
   "source": []
  }
 ],
 "metadata": {
  "kernelspec": {
   "display_name": "Python 3",
   "language": "python",
   "name": "python3"
  },
  "language_info": {
   "codemirror_mode": {
    "name": "ipython",
    "version": 3
   },
   "file_extension": ".py",
   "mimetype": "text/x-python",
   "name": "python",
   "nbconvert_exporter": "python",
   "pygments_lexer": "ipython3",
   "version": "3.7.3"
  }
 },
 "nbformat": 4,
 "nbformat_minor": 2
}
