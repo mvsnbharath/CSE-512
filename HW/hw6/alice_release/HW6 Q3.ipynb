{
 "cells": [
  {
   "cell_type": "markdown",
   "metadata": {},
   "source": [
    "# HW6 Q3"
   ]
  },
  {
   "cell_type": "code",
   "execution_count": 1,
   "metadata": {},
   "outputs": [],
   "source": [
    "import numpy as np\n",
    "import pickle\n",
    "import matplotlib.pyplot as plt\n",
    "import copy\n",
    "\n",
    "from tabulate import tabulate\n",
    "import pandas as pd"
   ]
  },
  {
   "cell_type": "code",
   "execution_count": 2,
   "metadata": {},
   "outputs": [
    {
     "name": "stdout",
     "output_type": "stream",
     "text": [
      "current recovery rate 0.7716434266712013\n",
      "prob not misspelling alice vs alace 0.8\n",
      "prob not misspelling alice vs earth 1e-06\n",
      "prob not misspelling machinelearning vs machinedreaming 0.6666666666666666\n",
      "prob not misspelling machinelearning vs artificalintell 1e-06\n"
     ]
    }
   ],
   "source": [
    "with open('alice_spelling.pkl','rb') as f:\n",
    "    u = pickle._Unpickler(f)\n",
    "    u.encoding = 'latin1'\n",
    "    data = u.load()\n",
    "\n",
    "#Take a look at how the data looks, and let's make some helper functions.\n",
    "# data = pickle.load(open('alice_spelling.pkl','rb'))\n",
    "vocab = np.unique(data['corpus'])\n",
    "V = len(vocab)\n",
    "\n",
    "## CORRECT VS INCORRECT CORPUS\n",
    "##For now, we will hold onto both the correct and incorrect corpuses. Later, you will only process the incorrect corpus, and the correct corpus is only used as a reference to check for recovery accuracy.\n",
    "def recovery_rate(new_corpus, correct_corpus):\n",
    "    wrong = 0\n",
    "    for k in range(len(new_corpus)):\n",
    "        if new_corpus[k] != correct_corpus[k]:\n",
    "            wrong += 1\n",
    "    return 1.- wrong/(len(new_corpus)+0.)\n",
    "print('current recovery rate', recovery_rate(data['corpus'],data['corrupted_corpus'] ))\n",
    "\n",
    "## Probability of a word mispelling\n",
    "## We will use the following function to predict whether a misspelled word was actually another word. \n",
    "# To avoid numerical issues, we make sure that the probablity is always something nonzero.\n",
    "def prob_correct(word1,word2):\n",
    "    SMALLNUM = 0.000001\n",
    "    if len(word1) != len(word2): return SMALLNUM\n",
    "    num_wrong = np.sum(np.array([word1[k] == word2[k] for k in range(len(word1))]))\n",
    "    return np.maximum(num_wrong / (len(word1)),SMALLNUM)\n",
    "\n",
    "# print('prob not misspelling alice vs alace', prob_correct('alice','alice'))\n",
    "print('prob not misspelling alice vs alace', prob_correct('alice','alace'))\n",
    "print('prob not misspelling alice vs earth', prob_correct('alice','earth'))\n",
    "print('prob not misspelling machinelearning vs machinedreaming', prob_correct('machinelearning','machinedreaming'))\n",
    "print('prob not misspelling machinelearning vs artificalintell', prob_correct('machinelearning','artificalintell'))\n",
    "\n",
    "\n",
    "##HASHING\n",
    "#all of our objects should be vectors of length V or matrices which are V x V. \n",
    "#the kth word in the vocab list is represented by the kth element of the vector, and the relationship between the i,jth words is represented in the i,jth element in the matrix.\n",
    "# to easily go between the word indices and words themselves, we need to make a hash table. \n",
    "vocab_hash = {}\n",
    "for k in range(len(vocab)):\n",
    "    vocab_hash[vocab[k]] = k\n",
    "    \n",
    "#now, to access the $k$th word, we do vocab[k]. To access the index of a word, we call vocab_hash[word]."
   ]
  },
  {
   "cell_type": "code",
   "execution_count": 3,
   "metadata": {},
   "outputs": [
    {
     "name": "stdout",
     "output_type": "stream",
     "text": [
      "prob. of \"alice\" 0.014548615047424706\n",
      "prob. of \"queen\" 0.002569625514869818\n",
      "prob. of \"chapter\" 0.0009069266523069947\n",
      "prob. of \"the alice\" 0.0006105006105006105\n",
      "prob. of \"the queen\" 0.03968253968253968\n",
      "prob. of \"the chapter\" 0.031135531135531136\n"
     ]
    }
   ],
   "source": [
    "## FILL ME IN ##\n",
    "\n",
    "#WORD FREQUENCY\n",
    "#create an array of length V where V[k] returns the normalized frequency of word k in the entire data corpus. \n",
    "# Do so by filling in this function.\n",
    "def get_word_prob(corpus):\n",
    "    wordList,countArray = np.unique(corpus, return_counts=True)    \n",
    "    totalWords = sum(countArray)       \n",
    "    word_prob = np.zeros(len(wordList))\n",
    "    for i in range(len(wordList)):\n",
    "        word_prob[i] = countArray[i] / totalWords\n",
    "\n",
    "    return word_prob\n",
    "\n",
    "word_prob =  get_word_prob(data['corpus'])\n",
    "\n",
    "#report the answer of the following:\n",
    "print('prob. of \"alice\"', word_prob[vocab_hash['alice']])\n",
    "print('prob. of \"queen\"', word_prob[vocab_hash['queen']])\n",
    "print('prob. of \"chapter\"', word_prob[vocab_hash['chapter']])\n",
    "\n",
    "def getPrevWordAndCurrentWordDict():\n",
    "    prevWordAndCurrentWordDict = {}\n",
    "    prevWord = data['corpus'][0]\n",
    "    for i in range(1,len(data['corpus'])):\n",
    "        word = data['corpus'][i]\n",
    "        if prevWord not in prevWordAndCurrentWordDict:\n",
    "            prevWordAndCurrentWordDict[prevWord] = {}\n",
    "            prevWordAndCurrentWordDict[prevWord][word] = 1\n",
    "        elif word not in  prevWordAndCurrentWordDict[prevWord]:\n",
    "            prevWordAndCurrentWordDict[prevWord][word] = 1\n",
    "        elif word in  prevWordAndCurrentWordDict[prevWord]:\n",
    "            prevWordAndCurrentWordDict[prevWord][word] += 1\n",
    "        else:\n",
    "            print(\"Shouldn't happen\")\n",
    "        prevWord = word\n",
    "    return prevWordAndCurrentWordDict\n",
    "\n",
    "## FILL ME IN ##\n",
    "\n",
    "# Pr(word | prev word) \n",
    "# Using the uncorrupted corpus, accumulate the conditional transition probabilities. Do so via this formula:\n",
    "# pr(word | prev) = max(# times 'prev' preceded 'word' , 1) / # times prev appears\n",
    "# where again, we ensure that this number is never 0 with some small smoothing.\n",
    "def get_transition_matrix(corpus):\n",
    "\n",
    "    transition_matrix = np.zeros((len(vocab),len(vocab)))\n",
    "    wordList,countArray = np.unique(corpus, return_counts=True)\n",
    "    prevWordAndCurrentWordDict = getPrevWordAndCurrentWordDict()\n",
    "    for word in range(len(vocab)):\n",
    "        wordString = wordList[word]\n",
    "        for prevWord in range(len(vocab)):\n",
    "            prevWordString = wordList[prevWord]\n",
    "            prevWordPreceded = 0\n",
    "            if wordString in prevWordAndCurrentWordDict[prevWordString]:\n",
    "                prevWordPreceded = prevWordAndCurrentWordDict[prevWordString][wordString]            \n",
    "            occurences = max(prevWordPreceded, 1)\n",
    "            transition_matrix[word][prevWord] = occurences / countArray[prevWord]\n",
    "    return transition_matrix\n",
    "transition_matrix = get_transition_matrix(data['corpus'])\n",
    "\n",
    "print('prob. of \"the alice\"', transition_matrix[vocab_hash['alice'],vocab_hash['the']])\n",
    "print('prob. of \"the queen\"', transition_matrix[vocab_hash['queen'],vocab_hash['the']])\n",
    "print('prob. of \"the chapter\"', transition_matrix[vocab_hash['hatter'],vocab_hash['the']])"
   ]
  },
  {
   "cell_type": "code",
   "execution_count": 4,
   "metadata": {},
   "outputs": [
    {
     "name": "stdout",
     "output_type": "stream",
     "text": [
      "['abide', 'alice', 'above', 'voice', 'alive', 'twice', 'thick', 'dance', 'stick', 'prize']\n"
     ]
    }
   ],
   "source": [
    "#The prior probabilities are just the word frequencies\n",
    "prior = word_prob\n",
    "\n",
    "#write a function that returns the emission probability of a potentially misspelled word, by comparing its probabilities against every word in the correct vocabulary\n",
    "def get_emission(mword):\n",
    "    emission_prob = np.zeros(len(vocab))\n",
    "    for index, word in enumerate(vocab):\n",
    "        emission_prob[index] = prob_correct(mword,word)\n",
    "    return emission_prob\n",
    "\n",
    "#find the 10 closest words to 'abice' and report them\n",
    "idx = np.argsort(get_emission('abice'))[::-1]\n",
    "print([vocab[j] for j in idx[:10]])\n"
   ]
  },
  {
   "cell_type": "code",
   "execution_count": 5,
   "metadata": {},
   "outputs": [],
   "source": [
    "#now we reduce our attention to a small segment of the corrupted corpus\n",
    "corrupt_corpus =   data['corrupted_corpus'][:1000]\n",
    "correct_corpus =   data['corpus'][:1000]"
   ]
  },
  {
   "cell_type": "code",
   "execution_count": 6,
   "metadata": {},
   "outputs": [],
   "source": [
    "def normalize(vector):\n",
    "    return vector/np.sum(vector)"
   ]
  },
  {
   "cell_type": "code",
   "execution_count": 7,
   "metadata": {},
   "outputs": [],
   "source": [
    "# encode the HMM spelling corrector. \n",
    "# To debug, you can see the first hundred words of both the corrupted and proposed corpus, \n",
    "# to see if spelling words got corrupted.\n",
    "# report the recovery rate of the proposed (corrected) corpus.\n",
    "\n",
    "totalStates = len(transition_matrix)\n",
    "node_values_fwd = np.zeros((len(corrupt_corpus), totalStates))\n",
    "for i, sequence_val in enumerate(correct_corpus):    \n",
    "    if (i == 0):\n",
    "        word_prob =  get_word_prob(data['corpus'])\n",
    "        start_probs =  word_prob[vocab_hash[sequence_val]]\n",
    "        emission = get_emission(sequence_val)        \n",
    "        firstStateBeforeNormalisation = start_probs * emission\n",
    "        node_values_fwd[i, :] = normalize(firstStateBeforeNormalisation)\n",
    "    else:\n",
    "        emission = get_emission(sequence_val)\n",
    "        nextStateBeforeNormalization = np.multiply(emission,np.dot(transition_matrix ,node_values_fwd[i-1, :]))\n",
    "        node_values_fwd[i, :] = normalize(nextStateBeforeNormalization)\n",
    "        \n",
    "totalStates = len(transition_matrix)\n",
    "node_values_bwd = np.zeros((len(corrupt_corpus), totalStates))\n",
    "for i, e in reversed(list(enumerate(corrupt_corpus))):\n",
    "    if (i == len(corrupt_corpus)-1):\n",
    "        word_prob =  get_word_prob(data['corpus'])\n",
    "        start_probs =  word_prob[vocab_hash[sequence_val]]\n",
    "        emission = get_emission(sequence_val)        \n",
    "        firstStateBeforeNormalisation = start_probs * emission\n",
    "        node_values_bwd[i, :] = normalize(firstStateBeforeNormalisation)\n",
    "    else:\n",
    "        emission = get_emission(sequence_val)\n",
    "        nextStateBeforeNormalization = np.multiply(emission,np.dot(transition_matrix ,node_values_bwd[i+1, :]))\n",
    "        node_values_bwd[i, :] = normalize(nextStateBeforeNormalization)        "
   ]
  },
  {
   "cell_type": "code",
   "execution_count": 8,
   "metadata": {},
   "outputs": [
    {
     "name": "stdout",
     "output_type": "stream",
     "text": [
      "+----+----------------+-----------------+-----------------+\n",
      "|    | corpus_A       | corpus_B        |   recovery_rate |\n",
      "|----+----------------+-----------------+-----------------|\n",
      "|  0 | correct_corpus | corrupt_corpus  |           0.759 |\n",
      "|  1 | correct_corpus | proposed_corpus |           0.804 |\n",
      "+----+----------------+-----------------+-----------------+\n"
     ]
    }
   ],
   "source": [
    "forward_backward = np.multiply(node_values_fwd, node_values_bwd)\n",
    "row_index = np.argmax(forward_backward, axis=1)\n",
    "proposed_corpus = []\n",
    "for index in row_index:\n",
    "    proposed_corpus.append(vocab[index])   \n",
    "    \n",
    "results = []\n",
    "results.append(('correct_corpus','corrupt_corpus',recovery_rate(corrupt_corpus, correct_corpus)))\n",
    "results.append(('correct_corpus','proposed_corpus',recovery_rate(proposed_corpus, correct_corpus)))\n",
    "columns = ['corpus_A','corpus_B', 'recovery_rate']\n",
    "df = pd.DataFrame(results, columns=columns)\n",
    "print(tabulate(df, headers='keys', tablefmt='psql'))                                                                                                "
   ]
  }
 ],
 "metadata": {
  "kernelspec": {
   "display_name": "Python 3",
   "language": "python",
   "name": "python3"
  },
  "language_info": {
   "codemirror_mode": {
    "name": "ipython",
    "version": 3
   },
   "file_extension": ".py",
   "mimetype": "text/x-python",
   "name": "python",
   "nbconvert_exporter": "python",
   "pygments_lexer": "ipython3",
   "version": "3.7.3"
  }
 },
 "nbformat": 4,
 "nbformat_minor": 2
}
