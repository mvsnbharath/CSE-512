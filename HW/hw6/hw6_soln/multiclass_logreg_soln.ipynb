{
 "cells": [
  {
   "cell_type": "code",
   "execution_count": 1,
   "metadata": {},
   "outputs": [],
   "source": [
    "import numpy as np\n",
    "import matplotlib.pyplot as plt\n",
    "import scipy.io as sio\n"
   ]
  },
  {
   "cell_type": "code",
   "execution_count": 2,
   "metadata": {},
   "outputs": [],
   "source": [
    "data = sio.loadmat('mnist.mat')\n",
    "X, y = data['trainX'][:10000,:], data['trainY'][0,:][:10000]\n",
    "Xt, yt = data['testX'], data['testY'][0,:]\n"
   ]
  },
  {
   "cell_type": "code",
   "execution_count": 17,
   "metadata": {},
   "outputs": [
    {
     "name": "stdout",
     "output_type": "stream",
     "text": [
      "0.8999 0.902\n",
      "2.3025850929940463\n",
      "0 10 20 30 40 50 60 70 80 90 100 110 120 130 140 150 160 170 180 190 200 210 220 230 240 250 260 270 280 290 300 310 320 330 340 350 360 370 380 390 400 410 420 430 440 450 460 470 480 490 500 510 520 530 540 550 560 570 580 590 600 610 620 630 640 650 660 670 680 690 700 710 720 730 740 750 760 770 780 790 800 810 820 830 840 850 860 870 880 890 900 910 920 930 940 950 960 970 980 990\n"
     ]
    }
   ],
   "source": [
    "nclass = 10\n",
    "m,n = X.shape\n",
    "\n",
    "\n",
    "def get_obj(Theta, X, y):\n",
    "    term = np.dot(X,Theta)\n",
    "    logsumexp = np.log(np.sum(np.exp(term),axis=1))\n",
    "    \n",
    "    \n",
    "    loss = -np.sum(logsumexp)\n",
    "    for k in xrange(nclass):\n",
    "        idx = np.equal(y,k)\n",
    "        loss += np.sum(term[idx,k]) \n",
    "    return -loss / (m+0.)\n",
    "\n",
    "def get_grad(Theta, X, y):\n",
    "    term = np.dot(X,Theta)\n",
    "    sumexp = np.sum(np.exp(term),axis=1)\n",
    "    \n",
    "    \n",
    "    grad = -np.dot(X.T,(np.exp(term).T/sumexp).T)\n",
    "    \n",
    "    for k in xrange(nclass):\n",
    "        idx = np.equal(y,k)\n",
    "        grad[:,k] = grad[:,k] + np.sum( X[idx,:],axis=0)\n",
    "    \n",
    "    return -grad / (m+0.)\n",
    "def get_pred_label(X,Theta):\n",
    "    return np.argmax(np.dot(X,Theta),axis=1)\n",
    "\n",
    "def get_misclass(y,yhat):\n",
    "    return np.sum(np.not_equal(y,yhat))/(len(y)+0.)\n",
    "\n",
    "Theta = np.zeros((n,nclass))\n",
    "print get_misclass(y,get_pred_label(X,Theta)) , get_misclass(yt,get_pred_label(Xt,Theta))\n",
    "print get_obj(Theta,X,y)\n",
    "obj_old = get_obj(Theta,X,y)\n",
    "\n",
    "L = (2.*np.sum(np.power(X,2.)[:])/(m+0.))\n",
    "\n",
    "stepsize = 2./L\n",
    "stepsize = 1.e-5\n",
    "train_loss, test_loss, train_misclass, test_misclass = [],[],[],[]\n",
    "for iter in xrange(1000):\n",
    "    if iter % 10 == 0: print iter,\n",
    "    g = get_grad(Theta,X,y)\n",
    "    Theta = Theta - g*stepsize\n",
    "    \n",
    "    train_loss.append(get_obj(Theta,X,y))\n",
    "    test_loss.append(get_obj(Theta,Xt,yt))\n",
    "    train_misclass.append(get_misclass(y,get_pred_label(X,Theta)))\n",
    "    test_misclass.append(get_misclass(yt,get_pred_label(Xt,Theta)))\n",
    "\n",
    "train_loss = np.array(train_loss)\n",
    "test_loss = np.array(test_loss)\n",
    "train_misclass = np.array(train_misclass)\n",
    "test_misclass = np.array(test_misclass)\n",
    "\n",
    "\n"
   ]
  },
  {
   "cell_type": "code",
   "execution_count": 19,
   "metadata": {},
   "outputs": [
    {
     "data": {
      "image/png": "[encoded data removed]",
      "text/plain": [
       "<Figure size 432x288 with 2 Axes>"
      ]
     },
     "metadata": {
      "needs_background": "light"
     },
     "output_type": "display_data"
    }
   ],
   "source": [
    "\n",
    "\n",
    "plt.subplot(1,2,1)\n",
    "plt.plot(train_loss)\n",
    "plt.plot(test_loss)\n",
    "plt.xlabel('iterations')\n",
    "plt.ylabel('loss')\n",
    "plt.legend(['train','test'])\n",
    "\n",
    "\n",
    "plt.subplot(1,2,2)\n",
    "plt.plot(train_misclass)\n",
    "plt.plot(test_misclass)\n",
    "plt.xlabel('iterations')\n",
    "plt.ylabel('misclass rate')\n",
    "plt.legend(['train','test'])\n",
    "\n",
    "plt.tight_layout()\n",
    "plt.savefig('figs_soln/multiclass_logreg.eps')"
   ]
  },
  {
   "cell_type": "code",
   "execution_count": null,
   "metadata": {},
   "outputs": [],
   "source": []
  }
 ],
 "metadata": {
  "kernelspec": {
   "display_name": "Python 2",
   "language": "python",
   "name": "python2"
  },
  "language_info": {
   "codemirror_mode": {
    "name": "ipython",
    "version": 2
   },
   "file_extension": ".py",
   "mimetype": "text/x-python",
   "name": "python",
   "nbconvert_exporter": "python",
   "pygments_lexer": "ipython2",
   "version": "2.7.16"
  }
 },
 "nbformat": 4,
 "nbformat_minor": 2
}
