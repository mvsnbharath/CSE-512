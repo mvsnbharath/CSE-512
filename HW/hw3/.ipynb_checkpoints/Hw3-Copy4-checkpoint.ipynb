{
 "cells": [
  {
   "cell_type": "code",
   "execution_count": 20,
   "metadata": {},
   "outputs": [],
   "source": [
    "import numpy as np\n",
    "import pandas as pd\n",
    "import matplotlib.pyplot as plt\n",
    "import scipy.io as sio\n",
    "\n",
    "from collections import Counter\n",
    "import random\n",
    "\n",
    "from tabulate import tabulate"
   ]
  },
  {
   "cell_type": "code",
   "execution_count": 21,
   "metadata": {},
   "outputs": [],
   "source": [
    "data = sio.loadmat('mnist.mat')"
   ]
  },
  {
   "cell_type": "markdown",
   "metadata": {},
   "source": [
    "### Converting data from uint8 to float"
   ]
  },
  {
   "cell_type": "code",
   "execution_count": 22,
   "metadata": {},
   "outputs": [
    {
     "name": "stdout",
     "output_type": "stream",
     "text": [
      "Type Before type-casting: <class 'numpy.uint8'>\n",
      "Type After  type-casting: <class 'numpy.float64'>\n"
     ]
    }
   ],
   "source": [
    "print(\"Type Before type-casting: \"+str(type(data['trainX'][0][19])))\n",
    "\n",
    "XTrain = data['trainX'].astype(float)\n",
    "yTrain = data['trainY'][0].astype(float)\n",
    "\n",
    "XTest = data['testX'].astype(float)\n",
    "yTest = data['testY'][0].astype(float)\n",
    "\n",
    "print(\"Type After  type-casting: \"+str(type(XTrain[0][19])))"
   ]
  },
  {
   "cell_type": "code",
   "execution_count": 23,
   "metadata": {},
   "outputs": [
    {
     "name": "stdout",
     "output_type": "stream",
     "text": [
      "Shape of XTrain: (60000, 784)\n",
      "Shape of yTrain: (60000,)\n",
      "Shape of XTest: (10000, 784)\n",
      "Shape of yTest: (10000,)\n"
     ]
    }
   ],
   "source": [
    "print(\"Shape of XTrain: \"+str(np.shape(XTrain)))\n",
    "print(\"Shape of yTrain: \"+str(np.shape(yTrain)))\n",
    "\n",
    "print(\"Shape of XTest: \"+str(np.shape(XTest)))\n",
    "print(\"Shape of yTest: \"+str(np.shape(yTest)))"
   ]
  },
  {
   "cell_type": "markdown",
   "metadata": {},
   "source": [
    "# Helper Functions"
   ]
  },
  {
   "cell_type": "markdown",
   "metadata": {},
   "source": [
    "## Uniformly Random Dataset"
   ]
  },
  {
   "cell_type": "code",
   "execution_count": 24,
   "metadata": {},
   "outputs": [],
   "source": [
    "def getDataMatrix(X,y,m):        \n",
    "    index = np.random.choice(X.shape[0], m, replace=False)\n",
    "    x_random = X[index]\n",
    "    y_random = y[index]\n",
    "    return x_random, y_random    "
   ]
  },
  {
   "cell_type": "markdown",
   "metadata": {},
   "source": [
    "## Euclidean Distance\n",
    "\n",
    "\n",
    "\\begin{aligned}\n",
    "d(\\mathbf{a}, \\mathbf{b}) &=\\sqrt{\\left(a_{1}-b_{1}\\right)^{2}+\\left(a_{2}-b_{2}\\right)^{2}+\\cdots+\\left(a_{n}-b_{n}\\right)^{2}} \\\\\n",
    "&=\\sqrt{\\sum_{i=1}^{n}\\left(a_{i}-b_{i}\\right)^{2}}\n",
    "\\end{aligned}\n",
    "\n"
   ]
  },
  {
   "cell_type": "code",
   "execution_count": 25,
   "metadata": {},
   "outputs": [],
   "source": [
    "## Helper function to finds the euclidean distance between 2 images: x, y\n",
    "def getEuclideanDistance(x, y):    \n",
    "    return np.sqrt(sum((x - y) ** 2))"
   ]
  },
  {
   "cell_type": "markdown",
   "metadata": {},
   "source": [
    "# Majority Voting System\n",
    "\n",
    "Chose winner by random guess if it's a tie"
   ]
  },
  {
   "cell_type": "code",
   "execution_count": 26,
   "metadata": {},
   "outputs": [],
   "source": [
    "# Finds the majority class/label out of the given labels\n",
    "def majorityVotingSystem(all_possible_labels):\n",
    "    # Counter gives the frequency count\n",
    "    counter = Counter(all_possible_labels)\n",
    "    # Finding the majority class.\n",
    "    majority_count = max(counter.values())\n",
    "    possibleAnswers = []\n",
    "    for key, value in counter.items():\n",
    "        if value == majority_count:\n",
    "            # Add all possible candidates in the list\n",
    "            possibleAnswers.append(key)\n",
    "    # As we have 0 index, we are subtracting 1\n",
    "    possibleAnswersLength = len(possibleAnswers)-1\n",
    "    randomIndex = random.randint(0,possibleAnswersLength)\n",
    "    return possibleAnswers[randomIndex]  "
   ]
  },
  {
   "cell_type": "markdown",
   "metadata": {},
   "source": [
    "## PreComputed Distance Matrix\n",
    "\n",
    "This matrix Sacrifices memory but saves computation (as told in the HW dexription)"
   ]
  },
  {
   "cell_type": "code",
   "execution_count": 27,
   "metadata": {},
   "outputs": [],
   "source": [
    "def getPreComputedDistanceMatrix(XTest, XTrain, yTrain, yTest):\n",
    "    # PreComputed EuclideanDistance Matrix\n",
    "    allDistances = []\n",
    "    for indexValue,XTestImage in enumerate(XTest):\n",
    "        # Distance of 1 test image from every point in the training set\n",
    "        # Format: (distance, training Image Label)\n",
    "        distanceFromAllTrainImages = [(getEuclideanDistance(XTestImage, XTrainImage), XTrainLabel, index, yTest[indexValue])\n",
    "                        for index, (XTrainImage, XTrainLabel) in enumerate(zip(XTrain, yTrain))]\n",
    "\n",
    "        # Dimension for each test Image would be: ( m * 2)\n",
    "        # m -> no of training images\n",
    "        # 2 -> EuclideanDistance and the training image label\n",
    "        allDistances.append(distanceFromAllTrainImages)\n",
    "\n",
    "    # overaall shape: n * m * 2\n",
    "    # n -> no of test images\n",
    "    # m -> no of training labels\n",
    "    # 2 -> EuclideanDistance and the training image label\n",
    "    \n",
    "    # Assertions to confirm all matrixes are of expected size\n",
    "    allDistancesShape = np.shape(allDistances)     \n",
    "    assert (allDistancesShape[0] == np.shape(XTest)[0]),  f\"Expected:{np.shape(XTest)[0]} Found: {allDistancesShape[0]}\"\n",
    "    assert (allDistancesShape[1] == np.shape(XTrain)[0]), f\"Expected:{np.shape(XTrain)[0]} Found: {allDistancesShape[1]}\"\n",
    "    assert (allDistancesShape[2] == 4)                  , f\"Expected:{4} Found: {allDistancesShape[2]}\"\n",
    "\n",
    "    return allDistances"
   ]
  },
  {
   "cell_type": "code",
   "execution_count": 28,
   "metadata": {},
   "outputs": [],
   "source": [
    "def predict(k, train_images, train_labels, test_images, distances):\n",
    "    # sort the distances list by distances\n",
    "    sortedDistances = sorted(distances, key=lambda x:x[0])\n",
    "    # extract only k closest labels\n",
    "    k_labels = [label for (_, label,_,_) in sortedDistances[:k]]\n",
    "    # return the majority voted label\n",
    "    return majorityVotingSystem(k_labels)"
   ]
  },
  {
   "cell_type": "markdown",
   "metadata": {},
   "source": [
    "## Q4 a) Accuracy for different values of m and k"
   ]
  },
  {
   "cell_type": "code",
   "execution_count": 10,
   "metadata": {},
   "outputs": [
    {
     "name": "stdout",
     "output_type": "stream",
     "text": [
      "+----+-----+-----+------------+\n",
      "|    |   m |   k |   Accuracy |\n",
      "|----+-----+-----+------------|\n",
      "|  0 |  10 |   1 |    15.4885 |\n",
      "|  1 |  10 |   2 |    15.4885 |\n",
      "|  2 |  10 |   3 |    15.6384 |\n",
      "|  3 |  10 |   4 |    15.5984 |\n",
      "|  4 |  10 |   5 |    15.6684 |\n",
      "|  5 |  10 |   6 |    15.3685 |\n",
      "|  6 |  10 |   7 |    15.5284 |\n",
      "|  7 |  10 |   8 |    15.5084 |\n",
      "|  8 |  10 |   9 |    15.3085 |\n",
      "|  9 |  10 |  10 |    15.5584 |\n",
      "+----+-----+-----+------------+\n",
      "+----+-----+-----+------------+\n",
      "|    |   m |   k |   Accuracy |\n",
      "|----+-----+-----+------------|\n",
      "|  0 | 100 |   1 |    66.1934 |\n",
      "|  1 | 100 |   2 |    66.1834 |\n",
      "|  2 | 100 |   3 |    66.2134 |\n",
      "|  3 | 100 |   4 |    66.4934 |\n",
      "|  4 | 100 |   5 |    66.1334 |\n",
      "|  5 | 100 |   6 |    66.0134 |\n",
      "|  6 | 100 |   7 |    66.0334 |\n",
      "|  7 | 100 |   8 |    66.0334 |\n",
      "|  8 | 100 |   9 |    66.0934 |\n",
      "|  9 | 100 |  10 |    66.2034 |\n",
      "+----+-----+-----+------------+\n",
      "+----+------+-----+------------+\n",
      "|    |    m |   k |   Accuracy |\n",
      "|----+------+-----+------------|\n",
      "|  0 | 1000 |   1 |    87.7412 |\n",
      "|  1 | 1000 |   2 |    87.8512 |\n",
      "|  2 | 1000 |   3 |    87.6512 |\n",
      "|  3 | 1000 |   4 |    87.9612 |\n",
      "|  4 | 1000 |   5 |    87.8912 |\n",
      "|  5 | 1000 |   6 |    87.9012 |\n",
      "|  6 | 1000 |   7 |    87.9312 |\n",
      "|  7 | 1000 |   8 |    87.8212 |\n",
      "|  8 | 1000 |   9 |    87.8012 |\n",
      "|  9 | 1000 |  10 |    87.8812 |\n",
      "+----+------+-----+------------+\n",
      "+----+-------+-----+------------+\n",
      "|    |     m |   k |   Accuracy |\n",
      "|----+-------+-----+------------|\n",
      "|  0 | 10000 |   1 |    95.0305 |\n",
      "|  1 | 10000 |   2 |    95.0305 |\n",
      "|  2 | 10000 |   3 |    95.0005 |\n",
      "|  3 | 10000 |   4 |    95.0005 |\n",
      "|  4 | 10000 |   5 |    94.9805 |\n",
      "|  5 | 10000 |   6 |    95.0005 |\n",
      "|  6 | 10000 |   7 |    94.9605 |\n",
      "|  7 | 10000 |   8 |    95.0205 |\n",
      "|  8 | 10000 |   9 |    94.9805 |\n",
      "|  9 | 10000 |  10 |    95.0005 |\n",
      "+----+-------+-----+------------+\n"
     ]
    }
   ],
   "source": [
    "mValues = [10, 100, 1000, 10000]\n",
    "# mValues = [10]\n",
    "\n",
    "kValues = [1,2,3,4,5,6,7,8,9,10]\n",
    "# kValues = [1]\n",
    "\n",
    "\n",
    "for m in mValues:\n",
    "    results = []\n",
    "    train_images, train_labels = getDataMatrix(XTrain,yTrain,m)\n",
    "\n",
    "    test_images = XTest\n",
    "    test_labels = yTest\n",
    "\n",
    "    allDistances = getPreComputedDistanceMatrix(test_images, train_images, train_labels)\n",
    "\n",
    "    for k in kValues:                \n",
    "        total_correct = 0\n",
    "        for index,test_image in enumerate(test_images):\n",
    "            pred = predict(5, train_images, train_labels, test_image,allDistances[index])\n",
    "            if pred == test_labels[index]:\n",
    "                total_correct += 1\n",
    "            \n",
    "        acc = (total_correct / (index+1)) * 100\n",
    "        results.append([m,k,acc])\n",
    "    \n",
    "    columns = ['m','k', 'Accuracy']\n",
    "    df = pd.DataFrame(results, columns=columns)\n",
    "    print(tabulate(df, headers='keys', tablefmt='psql'))                                                                                            "
   ]
  },
  {
   "cell_type": "markdown",
   "metadata": {},
   "source": [
    "## Q4 b) Analyzing results."
   ]
  },
  {
   "cell_type": "code",
   "execution_count": 38,
   "metadata": {},
   "outputs": [
    {
     "data": {
      "image/png": "[encoded data removed]",
      "text/plain": [
       "<Figure size 432x288 with 3 Axes>"
      ]
     },
     "metadata": {
      "needs_background": "light"
     },
     "output_type": "display_data"
    },
    {
     "data": {
      "image/png": "[encoded data removed]",
      "text/plain": [
       "<Figure size 432x288 with 3 Axes>"
      ]
     },
     "metadata": {
      "needs_background": "light"
     },
     "output_type": "display_data"
    },
    {
     "data": {
      "image/png": "[encoded data removed]",
      "text/plain": [
       "<Figure size 432x288 with 3 Axes>"
      ]
     },
     "metadata": {
      "needs_background": "light"
     },
     "output_type": "display_data"
    },
    {
     "data": {
      "image/png": "[encoded data removed]",
      "text/plain": [
       "<Figure size 432x288 with 3 Axes>"
      ]
     },
     "metadata": {
      "needs_background": "light"
     },
     "output_type": "display_data"
    },
    {
     "data": {
      "image/png": "[encoded data removed]",
      "text/plain": [
       "<Figure size 432x288 with 3 Axes>"
      ]
     },
     "metadata": {
      "needs_background": "light"
     },
     "output_type": "display_data"
    },
    {
     "data": {
      "image/png": "[encoded data removed]",
      "text/plain": [
       "<Figure size 432x288 with 3 Axes>"
      ]
     },
     "metadata": {
      "needs_background": "light"
     },
     "output_type": "display_data"
    },
    {
     "data": {
      "image/png": "[encoded data removed]",
      "text/plain": [
       "<Figure size 432x288 with 3 Axes>"
      ]
     },
     "metadata": {
      "needs_background": "light"
     },
     "output_type": "display_data"
    },
    {
     "data": {
      "image/png": "[encoded data removed]",
      "text/plain": [
       "<Figure size 432x288 with 3 Axes>"
      ]
     },
     "metadata": {
      "needs_background": "light"
     },
     "output_type": "display_data"
    },
    {
     "data": {
      "image/png": "[encoded data removed]",
      "text/plain": [
       "<Figure size 432x288 with 3 Axes>"
      ]
     },
     "metadata": {
      "needs_background": "light"
     },
     "output_type": "display_data"
    },
    {
     "data": {
      "image/png": "[encoded data removed]",
      "text/plain": [
       "<Figure size 432x288 with 3 Axes>"
      ]
     },
     "metadata": {
      "needs_background": "light"
     },
     "output_type": "display_data"
    }
   ],
   "source": [
    "mValues = [100]\n",
    "\n",
    "test_images = XTest\n",
    "test_labels = yTest\n",
    "u, indices = np.unique(test_labels, return_index=True)\n",
    "\n",
    "for m in mValues:\n",
    "    \n",
    "    train_images, train_labels = getDataMatrix(XTrain,yTrain,m)    \n",
    "    allDistances = getPreComputedDistanceMatrix(test_images, train_images, train_labels, test_labels)    \n",
    "    \n",
    "    for index in indices:        \n",
    "        temp = allDistances[index]\n",
    "                \n",
    "        maxArray = list(filter(lambda x: x[1] ==  x[3], temp))\n",
    "        if len(maxArray) >0:\n",
    "            sorted(minArray, key=lambda x:x[0])    \n",
    "            maxIndex  = maxArray[-1][2] \n",
    "        else:\n",
    "            continue\n",
    "        \n",
    "        minArray = list(filter(lambda x: x[1]!=  x[3], temp))\n",
    "        if len(minArray) >0:\n",
    "            sorted(minArray, key=lambda x:x[0])\n",
    "            minXIndex = minArray[0][2] \n",
    "        else:\n",
    "            continue\n",
    "\n",
    "        fig = plt.figure()\n",
    "        minEuclideanDistance = round(minArray[0][0],2)\n",
    "        maxEuclideanDistance = round(maxArray[-1][0],2)\n",
    "        ax1 = fig.add_subplot(1,3,1)\n",
    "        ax1.imshow(np.reshape(test_images[index],(28,28)))\n",
    "        ax1.title.set_text('Label: '+str(int(test_labels[index])))\n",
    "        ax2 = fig.add_subplot(1,3,2)\n",
    "        ax2.imshow(np.reshape(train_images[maxIndex],(28,28))) \n",
    "        ax2.title.set_text(str(maxEuclideanDistance))\n",
    "        ax3 = fig.add_subplot(1,3,3)\n",
    "        ax3.imshow(np.reshape(train_images[minXIndex],(28,28)))\n",
    "        ax3.title.set_text(str(minEuclideanDistance))\n",
    "        plt.show()"
   ]
  },
  {
   "cell_type": "markdown",
   "metadata": {},
   "source": [
    "## Q4b) Final Comments\n",
    "\n",
    "### Procedure followed\n",
    "\n",
    "1) I have plotted the above graph for m = 100, i.e I have taken 100 random samples from the training set.\n",
    "\n",
    "2) There are a total of 10,000 samples in the test data.\n",
    "\n",
    "3) For each image in test set, we computed the distance from all the values in training set, i.e. we formed a 10,000 * 100 matrix.\n",
    "\n",
    "4) We then computed the following (for 10 samples):\n",
    "\n",
    "    maximum distance from the digit in the training sample furthest from that digit but with the same label.\n",
    "    \n",
    "    minimum distance from the digit in the training sample closest to that digit but with the different label.\n",
    "    \n",
    "### Conclusion\n",
    "\n",
    "1) As you can see, for same labels which are most apart, the distance is mostly due to the fact they are tilted , i.e. in different orientation (or) different thickness.\n",
    "\n",
    "2) For labels where there is a mismatch yet they are close is due to the fact, their orientation and thickness is almost same, i.e. most of the pixels look same and the difference between them is small, so we have a small euclidean distance but they have different label."
   ]
  },
  {
   "cell_type": "markdown",
   "metadata": {},
   "source": [
    "## Q4c)\n",
    "\n",
    "#### KNN isn't a great way to classify handwritten digits.\n",
    "\n",
    "### Reason:\n",
    "\n",
    "#### 1) Time Complexity: \n",
    "\n",
    "As for each data in the test set, we have to compare it with every value in the training data.\n",
    "\n",
    "This operation is very expensive and increases with the size of the training data.\n",
    "\n",
    "####  2) Space Complexity:\n",
    "\n",
    "If we store all the distances before, we can save some time during actual calculations.\n",
    "\n",
    "We either have an enormous time complexity (or) space complexity.\n",
    "\n",
    "\n",
    "### KNN has a pretty good accuracy (95% when we have a training data size of 10,000) but it's relatively slow\n",
    "\n",
    "### Comparison with SVM or logistic regression\n",
    "\n",
    "SVM is very similar to logistic regression but SVM has a stronger decision boundary, i.e. we have more confidence in our guesses.\n",
    "\n",
    "Both SVM and logistic regression become good with more training data, as we try to minimize the loss, i.e we penalize a model if it's making a wrong guess and with more examples, it gets better.\n",
    "\n",
    "Time complexity and space complexity is much lesser in both logistic regression and SVM as compared to KNN.\n",
    "\n",
    "## Final Conclusion:\n",
    "\n",
    "We can achieve a similar accuracy with logistic regression and SVM a s we did in KNN but with a  much lesser time ans space complexity."
   ]
  }
 ],
 "metadata": {
  "kernelspec": {
   "display_name": "Python 3",
   "language": "python",
   "name": "python3"
  },
  "language_info": {
   "codemirror_mode": {
    "name": "ipython",
    "version": 3
   },
   "file_extension": ".py",
   "mimetype": "text/x-python",
   "name": "python",
   "nbconvert_exporter": "python",
   "pygments_lexer": "ipython3",
   "version": "3.7.3"
  }
 },
 "nbformat": 4,
 "nbformat_minor": 2
}
