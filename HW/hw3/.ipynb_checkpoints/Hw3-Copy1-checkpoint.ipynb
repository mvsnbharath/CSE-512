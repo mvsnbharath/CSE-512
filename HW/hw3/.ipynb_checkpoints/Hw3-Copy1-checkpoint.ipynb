{
 "cells": [
  {
   "cell_type": "code",
   "execution_count": 1,
   "metadata": {},
   "outputs": [],
   "source": [
    "import numpy as np\n",
    "import pandas as pd\n",
    "import matplotlib.pyplot as plt\n",
    "import scipy.io as sio\n",
    "\n",
    "from collections import Counter\n",
    "import random\n",
    "\n",
    "from tabulate import tabulate"
   ]
  },
  {
   "cell_type": "code",
   "execution_count": 2,
   "metadata": {},
   "outputs": [],
   "source": [
    "data = sio.loadmat('mnist.mat')"
   ]
  },
  {
   "cell_type": "code",
   "execution_count": 3,
   "metadata": {},
   "outputs": [
    {
     "name": "stdout",
     "output_type": "stream",
     "text": [
      "Type Before type-casting: <class 'numpy.uint8'>\n",
      "Type After  type-casting: <class 'numpy.float64'>\n"
     ]
    }
   ],
   "source": [
    "print(\"Type Before type-casting: \"+str(type(data['trainX'][0][19])))\n",
    "\n",
    "XTrain = data['trainX'].astype(float)\n",
    "yTrain = data['trainY'][0].astype(float)\n",
    "\n",
    "XTest = data['testX'].astype(float)\n",
    "yTest = data['testY'][0].astype(float)\n",
    "\n",
    "print(\"Type After  type-casting: \"+str(type(XTrain[0][19])))"
   ]
  },
  {
   "cell_type": "code",
   "execution_count": 4,
   "metadata": {},
   "outputs": [
    {
     "name": "stdout",
     "output_type": "stream",
     "text": [
      "Shape of XTrain: (60000, 784)\n",
      "Shape of yTrain: (60000,)\n",
      "Shape of XTest: (10000, 784)\n",
      "Shape of yTest: (10000,)\n"
     ]
    }
   ],
   "source": [
    "print(\"Shape of XTrain: \"+str(np.shape(XTrain)))\n",
    "print(\"Shape of yTrain: \"+str(np.shape(yTrain)))\n",
    "\n",
    "print(\"Shape of XTest: \"+str(np.shape(XTest)))\n",
    "print(\"Shape of yTest: \"+str(np.shape(yTest)))"
   ]
  },
  {
   "cell_type": "markdown",
   "metadata": {},
   "source": [
    "# Helper Functions"
   ]
  },
  {
   "cell_type": "markdown",
   "metadata": {},
   "source": [
    "## Uniformly Random Dataset"
   ]
  },
  {
   "cell_type": "code",
   "execution_count": 5,
   "metadata": {},
   "outputs": [],
   "source": [
    "def getDataMatrix(X,y,m):        \n",
    "    index = np.random.choice(X.shape[0], m, replace=False)\n",
    "    x_random = X[index]\n",
    "    y_random = y[index]\n",
    "    return x_random, y_random    "
   ]
  },
  {
   "cell_type": "markdown",
   "metadata": {},
   "source": [
    "## Euclidean Distance\n",
    "\n",
    "\n",
    "\\begin{aligned}\n",
    "d(\\mathbf{a}, \\mathbf{b}) &=\\sqrt{\\left(a_{1}-b_{1}\\right)^{2}+\\left(a_{2}-b_{2}\\right)^{2}+\\cdots+\\left(a_{n}-b_{n}\\right)^{2}} \\\\\n",
    "&=\\sqrt{\\sum_{i=1}^{n}\\left(a_{i}-b_{i}\\right)^{2}}\n",
    "\\end{aligned}\n",
    "\n"
   ]
  },
  {
   "cell_type": "code",
   "execution_count": 6,
   "metadata": {},
   "outputs": [],
   "source": [
    "## Helper function to finds the euclidean distance between 2 images: x, y\n",
    "def getEuclideanDistance(x, y):    \n",
    "    return np.sqrt(sum((x - y) ** 2))"
   ]
  },
  {
   "cell_type": "markdown",
   "metadata": {},
   "source": [
    "# Majority Voting System\n",
    "\n",
    "Chose winner by random guess if it's a tie"
   ]
  },
  {
   "cell_type": "code",
   "execution_count": 7,
   "metadata": {},
   "outputs": [],
   "source": [
    "# Finds the majority class/label out of the given labels\n",
    "def majorityVotingSystem(all_possible_labels):\n",
    "    # Counter gives the frequency count\n",
    "    counter = Counter(all_possible_labels)\n",
    "    # Finding the majority class.\n",
    "    majority_count = max(counter.values())\n",
    "    possibleAnswers = []\n",
    "    for key, value in counter.items():\n",
    "        if value == majority_count:\n",
    "            # Add all possible candidates in the list\n",
    "            possibleAnswers.append(key)\n",
    "    # As we have 0 index, we are subtracting 1\n",
    "    possibleAnswersLength = len(possibleAnswers)-1\n",
    "    randomIndex = random.randint(0,possibleAnswersLength)\n",
    "    return possibleAnswers[randomIndex]  "
   ]
  },
  {
   "cell_type": "markdown",
   "metadata": {},
   "source": [
    "## PreComputed Distance Matrix\n",
    "\n",
    "This matrix Sacrifices memory but saves computation (as told in the HW dexription)"
   ]
  },
  {
   "cell_type": "code",
   "execution_count": 43,
   "metadata": {},
   "outputs": [],
   "source": [
    "def getPreComputedDistanceMatrix(XTest, XTrain, yTrain, yTest):\n",
    "    # PreComputed EuclideanDistance Matrix\n",
    "    allDistances = []\n",
    "    for indexValue,XTestImage in enumerate(XTest):\n",
    "        # Distance of 1 test image from every point in the training set\n",
    "        # Format: (distance, training Image Label)\n",
    "        distanceFromAllTrainImages = [(getEuclideanDistance(XTestImage, XTrainImage), XTrainLabel, index, yTest[indexValue])\n",
    "                        for index, (XTrainImage, XTrainLabel) in enumerate(zip(XTrain, yTrain))]\n",
    "\n",
    "        # Dimension for each test Image would be: ( m * 2)\n",
    "        # m -> no of training images\n",
    "        # 2 -> EuclideanDistance and the training image label\n",
    "        allDistances.append(distanceFromAllTrainImages)\n",
    "\n",
    "    # overaall shape: n * m * 2\n",
    "    # n -> no of test images\n",
    "    # m -> no of training labels\n",
    "    # 2 -> EuclideanDistance and the training image label\n",
    "    \n",
    "    # Assertions to confirm all matrixes are of expected size\n",
    "    allDistancesShape = np.shape(allDistances)     \n",
    "    assert (allDistancesShape[0] == np.shape(XTest)[0]),  f\"Expected:{np.shape(XTest)[0]} Found: {allDistancesShape[0]}\"\n",
    "    assert (allDistancesShape[1] == np.shape(XTrain)[0]), f\"Expected:{np.shape(XTrain)[0]} Found: {allDistancesShape[1]}\"\n",
    "    assert (allDistancesShape[2] == 4)                  , f\"Expected:{4} Found: {allDistancesShape[2]}\"\n",
    "\n",
    "    return allDistances"
   ]
  },
  {
   "cell_type": "code",
   "execution_count": 44,
   "metadata": {},
   "outputs": [],
   "source": [
    "def predict(k, train_images, train_labels, test_images, distances):\n",
    "    # sort the distances list by distances\n",
    "    sortedDistances = sorted(distances, key=lambda x:x[0])\n",
    "    # extract only k closest labels\n",
    "    k_labels = [label for (_, label,_,_) in sortedDistances[:k]]\n",
    "    # return the majority voted label\n",
    "    return majorityVotingSystem(k_labels)"
   ]
  },
  {
   "cell_type": "code",
   "execution_count": 121,
   "metadata": {},
   "outputs": [
    {
     "name": "stdout",
     "output_type": "stream",
     "text": [
      "+----+-----+-----+------------+\n",
      "|    |   m |   k |   Accuracy |\n",
      "|----+-----+-----+------------|\n",
      "|  0 |   2 |   1 |      10.89 |\n",
      "|  1 |   2 |   2 |      10.92 |\n",
      "|  2 |   2 |   3 |      10.75 |\n",
      "|  3 |   2 |   4 |      11.04 |\n",
      "|  4 |   2 |   5 |      10.41 |\n",
      "|  5 |   2 |   6 |      10.86 |\n",
      "|  6 |   2 |   7 |      11.06 |\n",
      "|  7 |   2 |   8 |      10.61 |\n",
      "|  8 |   2 |   9 |      10.53 |\n",
      "|  9 |   2 |  10 |      10.92 |\n",
      "+----+-----+-----+------------+\n"
     ]
    },
    {
     "data": {
      "image/png": "[encoded data removed]",
      "text/plain": [
       "<Figure size 432x288 with 3 Axes>"
      ]
     },
     "metadata": {
      "needs_background": "light"
     },
     "output_type": "display_data"
    },
    {
     "data": {
      "image/png": "[encoded data removed]",
      "text/plain": [
       "<Figure size 432x288 with 3 Axes>"
      ]
     },
     "metadata": {
      "needs_background": "light"
     },
     "output_type": "display_data"
    }
   ],
   "source": [
    "# mValues = [10, 100, 1000, 10000]\n",
    "mValues = [2]\n",
    "\n",
    "kValues = [1,2,3,4,5,6,7,8,9,10]\n",
    "# kValues = [1]\n",
    "\n",
    "test_images = XTest\n",
    "test_labels = yTest\n",
    "\n",
    "for m in mValues:\n",
    "    results = []\n",
    "    train_images, train_labels = getDataMatrix(XTrain,yTrain,m)\n",
    "    allDistances = getPreComputedDistanceMatrix(test_images, train_images, train_labels, test_labels)\n",
    "\n",
    "    for k in kValues:                \n",
    "        correctPrediction = 0\n",
    "        for index,test_image in enumerate(test_images):\n",
    "            pred = predict(5, train_images, train_labels, test_image,allDistances[index])\n",
    "            if pred == test_labels[index]:\n",
    "                correctPrediction += 1            \n",
    "        acc = (correctPrediction / (index+1)) * 100\n",
    "        results.append([m,k,acc])\n",
    "    \n",
    "    columns = ['m','k', 'Accuracy']\n",
    "    df = pd.DataFrame(results, columns=columns)\n",
    "    print(tabulate(df, headers='keys', tablefmt='psql'))\n",
    "    \n",
    "    #Plotting\n",
    "    # Uniqiue indices\n",
    "    for index in indices:\n",
    "            temp = allDistances[index]\n",
    "\n",
    "            minArray = list(filter(lambda x: x[1]!=  x[3], temp))\n",
    "            if len(minArray) >0:\n",
    "                sorted(minArray, key=lambda x:x[0])\n",
    "                minXIndex = minArray[0][2] \n",
    "            else:\n",
    "                continue\n",
    "\n",
    "            maxArray = list(filter(lambda x: x[1] ==  x[3], temp))\n",
    "            if len(maxArray) >0:\n",
    "                sorted(minArray, key=lambda x:x[0])    \n",
    "                maxIndex  = maxArray[-1][2] \n",
    "            else:\n",
    "                continue\n",
    "\n",
    "            fig = plt.figure()\n",
    "            minEuclideanDistance = round(minArray[0][0],2)\n",
    "            maxEuclideanDistance = round(maxArray[-1][0],2)\n",
    "            ax1 = fig.add_subplot(1,3,1)\n",
    "            ax1.imshow(np.reshape(test_images[index],(28,28)))\n",
    "            ax1.title.set_text('Label: '+str(train_labels[index]))\n",
    "            ax2 = fig.add_subplot(1,3,2)\n",
    "            ax2.imshow(np.reshape(train_images[maxIndex],(28,28))) \n",
    "            ax2.title.set_text(str(maxEuclideanDistance))\n",
    "            ax3 = fig.add_subplot(1,3,3)\n",
    "            ax3.imshow(np.reshape(train_images[minXIndex],(28,28)))\n",
    "            ax3.title.set_text(str(minEuclideanDistance))\n",
    "            plt.show()\n",
    "        "
   ]
  },
  {
   "cell_type": "code",
   "execution_count": null,
   "metadata": {
    "scrolled": false
   },
   "outputs": [],
   "source": [
    "# mValues = [10, 100, 1000, 10000]\n",
    "mValues = [10]\n",
    "\n",
    "test_images = XTest\n",
    "test_labels = yTest\n",
    "u, indices = np.unique(test_labels, return_index=True)\n",
    "\n",
    "for m in mValues:\n",
    "    \n",
    "    train_images, train_labels = getDataMatrix(XTrain,yTrain,m)    \n",
    "    allDistances = getPreComputedDistanceMatrix(test_images, train_images, train_labels, test_labels)    \n",
    "    \n",
    "    for index in indices:\n",
    "        temp = allDistances[index]\n",
    "\n",
    "        minArray = list(filter(lambda x: x[1]!=  x[3], temp))\n",
    "        if len(minArray) >0:\n",
    "            sorted(minArray, key=lambda x:x[0])\n",
    "            minXIndex = minArray[0][2] \n",
    "        else:\n",
    "            continue\n",
    "\n",
    "        maxArray = list(filter(lambda x: x[1] ==  x[3], temp))\n",
    "        if len(maxArray) >0:\n",
    "            sorted(minArray, key=lambda x:x[0])    \n",
    "            maxIndex  = maxArray[-1][2] \n",
    "        else:\n",
    "            continue\n",
    "\n",
    "        fig = plt.figure()\n",
    "        minEuclideanDistance = round(minArray[0][0],2)\n",
    "        maxEuclideanDistance = round(maxArray[-1][0],2)\n",
    "        ax1 = fig.add_subplot(1,3,1)\n",
    "        ax1.imshow(np.reshape(test_images[index],(28,28)))\n",
    "        ax1.title.set_text('Label: '+str(test_labels[index]))\n",
    "        ax2 = fig.add_subplot(1,3,2)\n",
    "        ax2.imshow(np.reshape(train_images[maxIndex],(28,28))) \n",
    "        ax2.title.set_text(str(maxEuclideanDistance))\n",
    "        ax3 = fig.add_subplot(1,3,3)\n",
    "        ax3.imshow(np.reshape(train_images[minXIndex],(28,28)))\n",
    "        ax3.title.set_text(str(minEuclideanDistance))\n",
    "        plt.show()"
   ]
  }
 ],
 "metadata": {
  "kernelspec": {
   "display_name": "Python 3",
   "language": "python",
   "name": "python3"
  },
  "language_info": {
   "codemirror_mode": {
    "name": "ipython",
    "version": 3
   },
   "file_extension": ".py",
   "mimetype": "text/x-python",
   "name": "python",
   "nbconvert_exporter": "python",
   "pygments_lexer": "ipython3",
   "version": "3.7.3"
  }
 },
 "nbformat": 4,
 "nbformat_minor": 2
}
