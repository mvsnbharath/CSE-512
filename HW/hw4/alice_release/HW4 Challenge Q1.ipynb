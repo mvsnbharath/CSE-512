{
 "cells": [
  {
   "cell_type": "markdown",
   "metadata": {},
   "source": [
    "## Challenge"
   ]
  },
  {
   "cell_type": "markdown",
   "metadata": {},
   "source": [
    "## Q1"
   ]
  },
  {
   "cell_type": "code",
   "execution_count": 4,
   "metadata": {},
   "outputs": [],
   "source": [
    "def predict(word, topk, count=count, next_word_count = next_word_count):\n",
    "\n",
    "    possibleNextWords = next_word_count[word]\n",
    "    ans = []\n",
    "    pWord = getWordProbability(word)\n",
    "    for nextWord in possibleNextWords.keys():        \n",
    "        pNextWord = getWordProbability(nextWord)\n",
    "        bayesEstimate =  getConditionalProbability(word, nextWord) * getWordProbability(nextWord)/ pWord\n",
    "        ans.append((nextWord, bayesEstimate)) \n",
    "    topk = min(len(possibleNextWords), topk)\n",
    "    return [(k,v) for k, v in sorted(ans, key=lambda item: item[1], reverse = True)][:topk]"
   ]
  },
  {
   "cell_type": "code",
   "execution_count": 99,
   "metadata": {},
   "outputs": [
    {
     "name": "stdout",
     "output_type": "stream",
     "text": [
      "alice the queen the mock turtles all said the queen and a little the king said to alice to alice and she had the king said to be the queen said to the mock turtle and the queen and she said to be the king the queen said alice to be said to the queen said to the mock turtle to alice and the queen said the queen the queen the queen the king said the queen and she said the king the queen and a great or the king said to the mock turtles heavy sobbing of the mock\n"
     ]
    }
   ],
   "source": [
    "seedWord = 'alice'\n",
    "prev = seedWord\n",
    "paragraph = []\n",
    "for i in range(100): \n",
    "    k = 3\n",
    "    nextWordsPossible = predict(prev,k)    \n",
    "    if len(nextWordsPossible) < k:\n",
    "        k = len(nextWordsPossible)\n",
    "\n",
    "    nextWord = nextWordsPossible[random.randint(0, k-1)][0]\n",
    "    paragraph.append(prev)\n",
    "    prev = nextWord\n",
    "print(\" \".join(paragraph)) \n"
   ]
  }
 ],
 "metadata": {
  "kernelspec": {
   "display_name": "Python 3",
   "language": "python",
   "name": "python3"
  },
  "language_info": {
   "codemirror_mode": {
    "name": "ipython",
    "version": 3
   },
   "file_extension": ".py",
   "mimetype": "text/x-python",
   "name": "python",
   "nbconvert_exporter": "python",
   "pygments_lexer": "ipython3",
   "version": "3.7.3"
  }
 },
 "nbformat": 4,
 "nbformat_minor": 2
}
