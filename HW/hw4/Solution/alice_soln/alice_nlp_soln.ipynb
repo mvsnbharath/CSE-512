{
 "cells": [
  {
   "cell_type": "code",
   "execution_count": 2,
   "metadata": {},
   "outputs": [],
   "source": [
    "import numpy as np\n",
    "import pickle\n",
    "import matplotlib.pyplot as plt\n",
    "import copy"
   ]
  },
  {
   "cell_type": "code",
   "execution_count": 3,
   "metadata": {},
   "outputs": [],
   "source": [
    "corpus = []\n",
    "f = open('alice_in_wonderland.txt','r')\n",
    "while(1):\n",
    "    line =  f.readline()\n",
    "    if len(line) == 0: break\n",
    "    corpus.extend(line.split())\n",
    "        \n",
    "f.close()\n",
    "\n",
    "\n",
    "def clean_word(word):\n",
    "    word = word.lower()\n",
    "    for punctuation in ['\"',\"'\",'.',',','-','?','!',';',':','—','(',')','[',']']:\n",
    "        \n",
    "        word = ''.join(word.split(punctuation))\n",
    "    return word\n",
    "\n",
    "corpus = [clean_word(word) for word in corpus]"
   ]
  },
  {
   "cell_type": "code",
   "execution_count": 4,
   "metadata": {},
   "outputs": [],
   "source": [
    "\n",
    "count = {}\n",
    "next_word_count = {}\n",
    "\n",
    "for k in xrange(len(corpus)-1):\n",
    "    word = corpus[k]\n",
    "    nextword = corpus[k+1]\n",
    "    if word not in count.keys():\n",
    "        count[word] = 1\n",
    "        next_word_count[word] = {}\n",
    "    else:\n",
    "        count[word] += 1\n",
    "      \n",
    "    \n",
    "    if nextword not in next_word_count[word].keys():\n",
    "        next_word_count[word][nextword] = 1\n",
    "    else:\n",
    "        next_word_count[word][nextword] += 1\n",
    "    \n",
    "pickle.dump([count, next_word_count],open('alice_parsed.pkl','wb'))\n"
   ]
  },
  {
   "cell_type": "code",
   "execution_count": 5,
   "metadata": {},
   "outputs": [
    {
     "name": "stdout",
     "output_type": "stream",
     "text": [
      "they 127\n",
      "said 462\n",
      "is 102\n",
      "it 526\n",
      "in 367\n",
      "the 1638\n",
      "had 178\n",
      "alice 385\n",
      "for 153\n",
      "this 134\n",
      "down 102\n",
      "was 357\n",
      "so 151\n",
      "not 144\n",
      "she 537\n",
      "little 129\n",
      "that 276\n",
      "and 846\n",
      "on 193\n",
      "of 509\n",
      "her 248\n",
      "with 181\n",
      "as 262\n",
      "at 209\n",
      "you 360\n",
      "all 179\n",
      "to 721\n",
      "very 144\n",
      "what 136\n",
      "a 632\n",
      "its 111\n",
      "be 146\n",
      "out 113\n",
      "one 101\n",
      "i 401\n",
      "but 164\n",
      "he 120\n",
      "{'and': 2, 'blew': 2, 'cried': 1, 'sends': 2, 'angrily': 1, 'hurried': 1, 'say': 2, 'in': 2, 'actually': 1, 'trotting': 1, 'as': 1, 'just': 1, 'began': 1, 'noticed': 1, 'started': 1, 'was': 2, 'whispered': 1, 'returning': 1, 'read': 2, 'who': 2, 'but': 1, 'it': 1, 'jumping': 1, 'coming': 1, 'put': 1, 'with': 3, 'hastily': 1, 'i': 1, 'interrupted': 1, 'she': 1, 'engraved': 1, 'asked': 1, 'came': 2}\n",
      "{'replied': 9, 'all': 1, 'looked': 8, 'reeling': 1, 'soon': 2, 'indignantly': 3, 'its': 2, 'whose': 1, 'swallowing': 1, 'thinking': 1, 'with': 2, 'itll': 1, 'folded': 1, 'knew': 1, 'to': 9, 'only': 2, 'glanced': 1, 'surprised': 1, 'gave': 1, 'then': 2, 'flinging': 1, 'desperately': 1, 'very': 6, 'every': 1, 'they': 1, 'not': 1, 'now': 1, 'severely': 1, 'sighed': 1, 'like': 1, 'did': 10, 'always': 1, 'joined': 1, 'theyre': 1, 'she': 5, 'found': 1, 'went': 5, 'because': 1, 'dodged': 1, 'shes': 1, 'dear': 1, 'living': 1, 'what': 2, 'said': 11, 'opened': 1, 'for': 2, 'hastily': 4, 'looking': 1, 'seriously': 1, 'got': 1, 'whispered': 2, 'we': 1, 'after': 1, 'led': 1, 'crouched': 1, 'timidly': 2, 'quite': 4, 'besides': 1, 'alone': 1, 'come': 4, 'by': 1, 'chapter': 1, 'anything': 1, 'oh': 1, 'of': 2, 'could': 11, 'loudly': 1, 'stand': 1, 'think': 1, 'waited': 3, 'thats': 3, 'quietly': 1, 'appeared': 1, 'had': 11, 'angrily': 1, 'one': 1, 'put': 1, 'doubtfully': 1, 'thoughtfully': 1, 'whos': 1, 'or': 1, 'sadly': 1, 'would': 1, 'caught': 1, 'three': 1, 'noticed': 2, 'recognised': 1, 'call': 1, 'was': 17, 'more': 1, 'that': 2, 'started': 1, 'exactly': 1, 'took': 1, 'but': 5, 'it': 5, 'sharply': 1, 'kept': 1, 'herself': 1, 'he': 1, 'panted': 1, 'i': 8, 'cautiously': 2, 'were': 1, 'feeling': 1, 'didnt': 1, 'called': 2, 'and': 19, 'ive': 4, 'remained': 1, 'turned': 1, 'gently': 1, 'an': 1, 'heard': 3, 'as': 11, 'guessed': 2, 'im': 4, 'have': 1, 'in': 9, 'watched': 1, 'again': 3, 'rather': 3, 'began': 7, 'when': 2, 'who': 6, 'how': 1, 'laughed': 1, 'you': 4, 'added': 1, 'tried': 1, 'shall': 1, 'felt': 5, 'jumping': 1, 'coming': 1, 'nothing': 2, 'why': 5, 'wheres': 1, 'a': 6, 'off': 1, 'considered': 1, 'well': 3, 'asked': 3, 'thought': 12, 'without': 1, 'so': 1, 'allow': 1, 'remarked': 2, 'aloud': 1, 'the': 4, 'ventured': 4}\n"
     ]
    },
    {
     "data": {
      "image/png": "[encoded data removed]",
      "text/plain": [
       "<Figure size 432x288 with 1 Axes>"
      ]
     },
     "metadata": {
      "needs_background": "light"
     },
     "output_type": "display_data"
    }
   ],
   "source": [
    "data = pickle.load(open('alice_parsed.pkl','rb'))\n",
    "count, next_word_count = data[0], data[1]\n",
    "plt.hist( count.values(),100)\n",
    "\n",
    "#a sampling of most common words\n",
    "for k,v in count.items():\n",
    "    if v > 100:\n",
    "        print k, v\n",
    "        \n",
    "#Most likely words to come after 'rabbit'\n",
    "print next_word_count['rabbit']\n",
    "print next_word_count['alice']\n"
   ]
  },
  {
   "cell_type": "code",
   "execution_count": 6,
   "metadata": {},
   "outputs": [
    {
     "name": "stdout",
     "output_type": "stream",
     "text": [
      "['little']\n",
      "['queen']\n",
      "['dressed']\n",
      "['alice']\n"
     ]
    }
   ],
   "source": [
    "def predict(word, topk):\n",
    "    total_corpus_size = sum(count.values())\n",
    "    candidate_next_words = copy.deepcopy(next_word_count[word])\n",
    "    total_next_words = sum(candidate_next_words.values())\n",
    "\n",
    "    for k,v in candidate_next_words.items():\n",
    "        candidate_next_words[k] = v / (total_next_words+0.) * count[k] / (total_corpus_size+0.)\n",
    "    candidate_counts = np.sort(candidate_next_words.values())[::-1]\n",
    "    if topk > len(candidate_counts)-1:\n",
    "        return candidate_next_words.keys()\n",
    "    thresh = candidate_counts[topk]\n",
    "    return [k for k,v in candidate_next_words.items() if v > thresh]\n",
    "\n",
    "print predict('a',1)\n",
    "print predict('the',1)\n",
    "print predict('splendidly',1)\n",
    "print predict('exclaimed',1)\n"
   ]
  },
  {
   "cell_type": "code",
   "execution_count": 10,
   "metadata": {},
   "outputs": [
    {
     "name": "stdout",
     "output_type": "stream",
     "text": [
      "['and', 'the', 'to', 'was', 'said']\n",
      "['a', 'she', 'as', 'in', 'one']\n",
      "['the', 'alice', 'to', 'and', 'in']\n",
      "['little', 'very', 'great', 'large', 'long']\n",
      "['queen', 'king', 'mock', 'gryphon', 'hatter']\n",
      "['the', 'alice', 'be', 'her', 'a']\n",
      "a little the dormouse said alice she was that ever to the other and she was looking at the soldiers had the mouse to the hatter i think that there was the very said the rabbit it said the hatter said to know the queen said to the dormouse the cook and the sounds of the king that the little alice the mock turtle and the next the mock turtle to herself in the next to the king the hatter i see said the baby the jury not in the little the the dormouse again the king the dormouse the white\n"
     ]
    }
   ],
   "source": [
    "word_list = count.keys()\n",
    "V = len(word_list)\n",
    "cooccurance = np.zeros((len(word_list),len(word_list)))\n",
    "\n",
    "total_corpus_size = sum(count.values())\n",
    "\n",
    "\n",
    "for word,next_word in next_word_count.items():\n",
    "    k = word_list.index(word)\n",
    "    total_next_words = sum(next_word.values())\n",
    "    for nw, v in next_word.items():\n",
    "        j = word_list.index(nw)\n",
    "        cooccurance[k,j] =  v / (total_next_words+0.) * count[nw] / (total_corpus_size+0.)\n",
    "\n",
    "def predict2(word, topk):\n",
    "    k = word_list.index(word)\n",
    "    candidate_counts = cooccurance[k,:]\n",
    "    candidate_counts_idx = np.argsort(candidate_counts)[::-1]\n",
    "    \n",
    "    candidate_counts_idx = candidate_counts_idx[np.greater(candidate_counts[candidate_counts_idx],0)]\n",
    "    \n",
    "    return [word_list[k] for k in list(candidate_counts_idx[:topk])]\n",
    "    \n",
    "print predict2('alice',5)\n",
    "print predict2('large',5)\n",
    "print predict2('said',5)\n",
    "print predict2('a',5)\n",
    "print predict2('the',5)\n",
    "print predict2('to',5)\n",
    "\n",
    "def run_string(starter_word, maxiter):\n",
    "    word = starter_word\n",
    "    print word,\n",
    "    for iter in xrange(maxiter):\n",
    "        #word = predict(word,1)[0]\n",
    "        distribution = cooccurance[word_list.index(word),:]\n",
    "        distribution = distribution / sum(distribution)\n",
    "        next_idx = np.random.choice(range(V),p=distribution)\n",
    "        word = word_list[next_idx]\n",
    "        print word,\n",
    "    print\n",
    "run_string('a',100)"
   ]
  },
  {
   "cell_type": "code",
   "execution_count": null,
   "metadata": {},
   "outputs": [],
   "source": []
  }
 ],
 "metadata": {
  "kernelspec": {
   "display_name": "Python 3",
   "language": "python",
   "name": "python3"
  },
  "language_info": {
   "codemirror_mode": {
    "name": "ipython",
    "version": 3
   },
   "file_extension": ".py",
   "mimetype": "text/x-python",
   "name": "python",
   "nbconvert_exporter": "python",
   "pygments_lexer": "ipython3",
   "version": "3.7.7"
  }
 },
 "nbformat": 4,
 "nbformat_minor": 2
}
