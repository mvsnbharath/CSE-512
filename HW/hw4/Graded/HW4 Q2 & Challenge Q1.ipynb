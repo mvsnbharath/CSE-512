{
 "cells": [
  {
   "cell_type": "code",
   "execution_count": 24,
   "metadata": {},
   "outputs": [],
   "source": [
    "import numpy as np\n",
    "import pickle\n",
    "import matplotlib.pyplot as plt\n",
    "import copy\n",
    "import random"
   ]
  },
  {
   "cell_type": "markdown",
   "metadata": {},
   "source": [
    "## Loading data from pkl file"
   ]
  },
  {
   "cell_type": "code",
   "execution_count": 2,
   "metadata": {},
   "outputs": [],
   "source": [
    "with open('alice_parsed.pkl','rb') as f:\n",
    "    u = pickle._Unpickler(f)\n",
    "    u.encoding = 'latin1'\n",
    "    data = u.load()\n",
    "count, next_word_count = data[0], data[1]"
   ]
  },
  {
   "cell_type": "markdown",
   "metadata": {},
   "source": [
    "## Q2(b) i"
   ]
  },
  {
   "cell_type": "code",
   "execution_count": 3,
   "metadata": {},
   "outputs": [
    {
     "data": {
      "text/plain": [
       "0.0016590000754090944"
      ]
     },
     "execution_count": 3,
     "metadata": {},
     "output_type": "execute_result"
    }
   ],
   "source": [
    "def getWordProbability(word, count=count, next_word_count = next_word_count):   \n",
    "    return count[word]/sum(count.values())\n",
    "\n",
    "# Testing\n",
    "getWordProbability('rabbit')"
   ]
  },
  {
   "cell_type": "markdown",
   "metadata": {},
   "source": [
    "## Q2(b) ii\n",
    "Conditional Probability"
   ]
  },
  {
   "cell_type": "code",
   "execution_count": 4,
   "metadata": {},
   "outputs": [
    {
     "data": {
      "text/plain": [
       "0.022727272727272728"
      ]
     },
     "execution_count": 4,
     "metadata": {},
     "output_type": "execute_result"
    }
   ],
   "source": [
    "def getConditionalProbability(x, y, count=count, next_word_count = next_word_count):\n",
    "    word = x\n",
    "    nextWord = y\n",
    "    \n",
    "    if nextWord not in next_word_count[word]:\n",
    "        return 0\n",
    "    \n",
    "    nextWordGivenWordCount = next_word_count[word][nextWord]\n",
    "    nextWordAll = sum(next_word_count[word].values())\n",
    "    return nextWordGivenWordCount/nextWordAll \n",
    "\n",
    "# Testing\n",
    "getConditionalProbability('rabbit','just')"
   ]
  },
  {
   "cell_type": "markdown",
   "metadata": {},
   "source": [
    "## Q2(c) iii\n",
    "\n",
    "From Bayes' theorem\n",
    "\n",
    "$P(A \\mid B)=\\frac{P(B \\mid A) \\cdot P(A)}{P(B)}$\n",
    "\n",
    "$A, B =$ events\n",
    "\n",
    "$P(A \\mid B) \\quad =$ probability of A given B \n",
    "\n",
    "$P(B \\mid A) \\quad =$ probability of B given A\n",
    "\n",
    "$P(A), P(B) =$ the independent probabilities of A and B\n",
    "\n",
    "Here,\n",
    "\n",
    "A = nextWord\n",
    "\n",
    "B = word\n",
    "\n",
    "\n",
    "$P(nextWord \\mid word)=\\frac{P(word \\mid nextWord) \\cdot P(nextWord)}{P(word)}$"
   ]
  },
  {
   "cell_type": "code",
   "execution_count": 104,
   "metadata": {},
   "outputs": [
    {
     "name": "stdout",
     "output_type": "stream",
     "text": [
      "word most likely to follow 'a' is:  ('little', 0.019377904182022114)\n",
      "word most likely to follow 'the' is:  ('queen', 0.001647382599763552)\n",
      "word most likely to follow 'splendidly' is:  ('dressed', 1.0)\n",
      "word most likely to follow 'exclaimed' is:  ('alice', 32.083333333333336)\n"
     ]
    }
   ],
   "source": [
    "#fill this part in with your Naive Bayes estimator\n",
    "\n",
    "def predict(word, topk, count=count, next_word_count = next_word_count):\n",
    "\n",
    "    possibleNextWords = next_word_count[word]\n",
    "    ans = []\n",
    "    pWord = getWordProbability(word)\n",
    "    for nextWord in possibleNextWords.keys():        \n",
    "        pNextWord = getWordProbability(nextWord)\n",
    "        bayesEstimate =  getConditionalProbability(word, nextWord) * getWordProbability(nextWord)/ pWord\n",
    "        ans.append((nextWord, bayesEstimate)) \n",
    "    topk = min(len(possibleNextWords), topk)\n",
    "    return [(k,v) for k, v in sorted(ans, key=lambda item: item[1], reverse = True)][:topk]\n",
    "#     return [(k) for k, v in sorted(ans, key=lambda item: item[1], reverse = True)][:topk]\n",
    "\n",
    "print (\"word most likely to follow 'a' is: \" ,predict('a',1)[0])\n",
    "print (\"word most likely to follow 'the' is: \" ,predict('the',1)[0])\n",
    "print (\"word most likely to follow 'splendidly' is: \" ,predict('splendidly',1)[0])\n",
    "print (\"word most likely to follow 'exclaimed' is: \" ,predict('exclaimed',1)[0])"
   ]
  },
  {
   "cell_type": "markdown",
   "metadata": {},
   "source": [
    "## Challenge"
   ]
  },
  {
   "cell_type": "markdown",
   "metadata": {},
   "source": [
    "## Q1"
   ]
  },
  {
   "cell_type": "code",
   "execution_count": 99,
   "metadata": {},
   "outputs": [
    {
     "name": "stdout",
     "output_type": "stream",
     "text": [
      "alice the queen the mock turtles all said the queen and a little the king said to alice to alice and she had the king said to be the queen said to the mock turtle and the queen and she said to be the king the queen said alice to be said to the queen said to the mock turtle to alice and the queen said the queen the queen the queen the king said the queen and she said the king the queen and a great or the king said to the mock turtles heavy sobbing of the mock\n"
     ]
    }
   ],
   "source": [
    "seedWord = 'alice'\n",
    "prev = seedWord\n",
    "paragraph = []\n",
    "for i in range(100): \n",
    "    k = 3\n",
    "    nextWordsPossible = predict(prev,k)    \n",
    "    if len(nextWordsPossible) < k:\n",
    "        k = len(nextWordsPossible)\n",
    "\n",
    "    nextWord = nextWordsPossible[random.randint(0, k-1)][0]\n",
    "    paragraph.append(prev)\n",
    "    prev = nextWord\n",
    "print(\" \".join(paragraph)) \n"
   ]
  },
  {
   "cell_type": "code",
   "execution_count": null,
   "metadata": {},
   "outputs": [],
   "source": []
  }
 ],
 "metadata": {
  "kernelspec": {
   "display_name": "Python 3",
   "language": "python",
   "name": "python3"
  },
  "language_info": {
   "codemirror_mode": {
    "name": "ipython",
    "version": 3
   },
   "file_extension": ".py",
   "mimetype": "text/x-python",
   "name": "python",
   "nbconvert_exporter": "python",
   "pygments_lexer": "ipython3",
   "version": "3.7.3"
  }
 },
 "nbformat": 4,
 "nbformat_minor": 2
}
