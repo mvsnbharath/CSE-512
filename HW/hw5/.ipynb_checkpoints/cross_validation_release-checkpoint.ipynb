{
 "cells": [
  {
   "cell_type": "code",
   "execution_count": 1,
   "metadata": {},
   "outputs": [],
   "source": [
    "import numpy as np\n",
    "import matplotlib.pyplot as plt\n",
    "import scipy.sparse as ss\n",
    "from sklearn import tree"
   ]
  },
  {
   "cell_type": "code",
   "execution_count": 2,
   "metadata": {},
   "outputs": [
    {
     "name": "stdout",
     "output_type": "stream",
     "text": [
      "done\n",
      "done\n",
      "done\n",
      "done\n",
      "(800, 100001) (350, 100001) 727760\n"
     ]
    }
   ],
   "source": [
    "#load data, in sparse format\n",
    "def load_data(filename):\n",
    "    f = open('dorothea/%s.data' % filename)\n",
    "    I,J = [],[]\n",
    "    for k in xrange(100000):\n",
    "        line = f.readline()\n",
    "        if len(line) == 0:\n",
    "            print 'done'\n",
    "            break\n",
    "\n",
    "        line = [int(x) for x in line.split()]\n",
    "        J.extend(line)\n",
    "        I.extend(k for i in xrange(len(line)))\n",
    "\n",
    "    return ss.coo_matrix((np.ones(len(I)), (I,J)))\n",
    "\n",
    "\n",
    "def load_labels(filename):\n",
    "    f = open('dorothea/%s.labels' % filename)\n",
    "    y = []\n",
    "    for k in xrange(100000):\n",
    "        line = f.readline()\n",
    "        \n",
    "        if len(line) == 0:\n",
    "            print 'done'\n",
    "            break\n",
    "        y.append(int(line))\n",
    "    return np.array(y)\n",
    "\n",
    "\n",
    "Xtrain = load_data('dorothea_train')\n",
    "ytrain = load_labels('dorothea_train')\n",
    "\n",
    "Xtest= load_data('dorothea_valid')\n",
    "ytest = load_labels('dorothea_valid')\n",
    "\n",
    "print Xtrain.shape,  Xtest.shape, Xtrain.nnz"
   ]
  },
  {
   "cell_type": "code",
   "execution_count": 9,
   "metadata": {},
   "outputs": [
    {
     "name": "stdout",
     "output_type": "stream",
     "text": [
      "  (0, 191)\t1.0\n",
      "  (0, 367)\t1.0\n",
      "  (0, 614)\t1.0\n",
      "  (0, 634)\t1.0\n",
      "  (0, 711)\t1.0\n",
      "  (0, 1202)\t1.0\n",
      "  (0, 1220)\t1.0\n",
      "  (0, 1311)\t1.0\n",
      "  (0, 1472)\t1.0\n",
      "  (0, 1730)\t1.0\n",
      "  (0, 2281)\t1.0\n",
      "  (0, 2572)\t1.0\n",
      "  (0, 2602)\t1.0\n",
      "  (0, 2611)\t1.0\n",
      "  (0, 2824)\t1.0\n",
      "  (0, 2855)\t1.0\n",
      "  (0, 2940)\t1.0\n",
      "  (0, 3149)\t1.0\n",
      "  (0, 3313)\t1.0\n",
      "  (0, 3560)\t1.0\n",
      "  (0, 3568)\t1.0\n",
      "  (0, 3824)\t1.0\n",
      "  (0, 4185)\t1.0\n",
      "  (0, 4266)\t1.0\n",
      "  (0, 4366)\t1.0\n",
      "  :\t:\n",
      "  (799, 97876)\t1.0\n",
      "  (799, 97899)\t1.0\n",
      "  (799, 98032)\t1.0\n",
      "  (799, 98266)\t1.0\n",
      "  (799, 98277)\t1.0\n",
      "  (799, 98301)\t1.0\n",
      "  (799, 98342)\t1.0\n",
      "  (799, 98353)\t1.0\n",
      "  (799, 98413)\t1.0\n",
      "  (799, 98419)\t1.0\n",
      "  (799, 98448)\t1.0\n",
      "  (799, 98458)\t1.0\n",
      "  (799, 98468)\t1.0\n",
      "  (799, 98635)\t1.0\n",
      "  (799, 98892)\t1.0\n",
      "  (799, 99118)\t1.0\n",
      "  (799, 99337)\t1.0\n",
      "  (799, 99621)\t1.0\n",
      "  (799, 99625)\t1.0\n",
      "  (799, 99739)\t1.0\n",
      "  (799, 99745)\t1.0\n",
      "  (799, 99755)\t1.0\n",
      "  (799, 99828)\t1.0\n",
      "  (799, 99955)\t1.0\n",
      "  (799, 99967)\t1.0\n"
     ]
    }
   ],
   "source": [
    "\n",
    "\n",
    "print Xtrain"
   ]
  },
  {
   "cell_type": "code",
   "execution_count": 4,
   "metadata": {},
   "outputs": [
    {
     "name": "stdout",
     "output_type": "stream",
     "text": [
      "class balance is currently 1.00  +1, 0.00 -1\n"
     ]
    }
   ],
   "source": [
    "def get_class_balance(y):\n",
    "    #fill me in\n",
    "    return 1.,0.\n",
    "\n",
    "print 'class balance is currently %.2f  +1, %.2f -1' % get_class_balance(ytrain)"
   ]
  },
  {
   "cell_type": "code",
   "execution_count": 6,
   "metadata": {},
   "outputs": [
    {
     "name": "stdout",
     "output_type": "stream",
     "text": [
      "1.0 0.0\n",
      "1.0 0.0\n"
     ]
    }
   ],
   "source": [
    "def get_misclass(y,yhat):\n",
    "    #fill me in\n",
    "    return 1.\n",
    "\n",
    "\n",
    "def get_f1(y,yhat):\n",
    "    #fill me in\n",
    "    return 0.\n",
    "\n",
    "depth = 3\n",
    "clf = tree.DecisionTreeClassifier(criterion='entropy',splitter='best',max_depth=depth, class_weight='balanced')\n",
    "clf = clf.fit(Xtrain, ytrain)\n",
    "\n",
    "print get_misclass(ytrain, clf.predict(Xtrain) ), get_f1(ytrain, clf.predict(Xtrain) )\n",
    "print get_misclass(ytest, clf.predict(Xtest) ), get_f1(ytest, clf.predict(Xtest) )"
   ]
  },
  {
   "cell_type": "code",
   "execution_count": null,
   "metadata": {},
   "outputs": [],
   "source": []
  }
 ],
 "metadata": {
  "kernelspec": {
   "display_name": "Python 3",
   "language": "python",
   "name": "python3"
  },
  "language_info": {
   "codemirror_mode": {
    "name": "ipython",
    "version": 3
   },
   "file_extension": ".py",
   "mimetype": "text/x-python",
   "name": "python",
   "nbconvert_exporter": "python",
   "pygments_lexer": "ipython3",
   "version": "3.7.3"
  }
 },
 "nbformat": 4,
 "nbformat_minor": 2
}
