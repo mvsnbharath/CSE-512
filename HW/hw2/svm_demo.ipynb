{
 "cells": [
  {
   "cell_type": "code",
   "execution_count": 1,
   "metadata": {},
   "outputs": [],
   "source": [
    "import numpy as np\n",
    "import matplotlib.pyplot as plt"
   ]
  },
  {
   "cell_type": "code",
   "execution_count": 22,
   "metadata": {},
   "outputs": [
    {
     "data": {
      "text/plain": [
       "(-1.5097692225794739,\n",
       " 1.4894636471210498,\n",
       " -2.5694974621848816,\n",
       " 2.094193452669242)"
      ]
     },
     "execution_count": 22,
     "metadata": {},
     "output_type": "execute_result"
    },
    {
     "data": {
      "image/png": "[encoded data removed]",
      "text/plain": [
       "<Figure size 432x288 with 1 Axes>"
      ]
     },
     "metadata": {
      "needs_background": "light"
     },
     "output_type": "display_data"
    }
   ],
   "source": [
    "#Let's start with a theta\n",
    "theta = np.random.randn(2)\n",
    "\n",
    "#Meet theta\n",
    "plt.plot(theta[0],theta[1],'k*')\n",
    "\n",
    "\n",
    "#Meet the hyperplane generated by {z : theta^Tz = 0}\n",
    "H = np.random.randn(100,2)\n",
    "H = H - np.outer(np.dot(H,theta),theta)/ np.dot(theta,theta) #This is the projection on the nullspace of theta.T\n",
    "\n",
    "plt.plot(H[:,0],H[:,1],'b')\n",
    "#This is our separating hyperplane! It does not depend on data. It depends on theta.\n",
    "\n",
    "#Theta is the \"normal\" to this hyperplane\n",
    "plt.plot([0,theta[0]],[0,theta[1]],'r')\n",
    "\n",
    "plt.axis('equal')\n",
    "\n"
   ]
  },
  {
   "cell_type": "code",
   "execution_count": 3,
   "metadata": {},
   "outputs": [
    {
     "name": "stdout",
     "output_type": "stream",
     "text": [
      "distance of magenta point to hyperplane =  1.7503073480022227\n"
     ]
    },
    {
     "data": {
      "text/plain": [
       "[<matplotlib.lines.Line2D at 0x7f8256d775c0>]"
      ]
     },
     "execution_count": 3,
     "metadata": {},
     "output_type": "execute_result"
    },
    {
     "data": {
      "image/png": "[encoded data removed]",
      "text/plain": [
       "<Figure size 432x288 with 1 Axes>"
      ]
     },
     "metadata": {
      "needs_background": "light"
     },
     "output_type": "display_data"
    }
   ],
   "source": [
    "#(old plot, carried over)\n",
    "plt.plot(theta[0],theta[1],'k*')\n",
    "plt.plot(H[:,0],H[:,1],'k')\n",
    "plt.plot([0,theta[0]],[0,theta[1]],'k')\n",
    "plt.axis('equal')\n",
    "\n",
    "#Now let's generate some data. \n",
    "m = 25\n",
    "#Let's go out of our way to ensure that our data is widely separable. That is, yx^Ttheta is somewhat large.\n",
    "y = np.zeros(m)\n",
    "x = np.zeros((m,2))\n",
    "for k in range(m):\n",
    "    xx = np.random.randn(2)\n",
    "    while np.abs( np.dot(xx,theta)/np.sqrt(np.dot(theta,theta))) < 1: xx = np.random.randn(2)\n",
    "    x[k,:] = xx\n",
    "    y[k] = np.sign(np.dot(xx,theta))\n",
    "    \n",
    "#Now let's see where the data lies\n",
    "\n",
    "plt.plot(x[np.equal(y,1),0],x[np.equal(y,1),1],'b*')\n",
    "plt.plot(x[np.equal(y,-1),0],x[np.equal(y,-1),1],'r*')\n",
    "\n",
    "#The distance from each point to the hyperplane generated by theta is characterized by (ysign(x^Ttheta))/||theta||_2\n",
    "d = y[0]*np.dot(x[0,:],theta)/np.sqrt(np.dot(theta,theta))\n",
    "print('distance of magenta point to hyperplane = ', d)\n",
    "plt.plot(x[0,0],x[0,1],'mo')\n",
    "\n",
    "#(you can run this several times to see different instances (Random every time))\n"
   ]
  },
  {
   "cell_type": "code",
   "execution_count": 24,
   "metadata": {},
   "outputs": [
    {
     "name": "stdout",
     "output_type": "stream",
     "text": [
      "margin =  -2.2994464389877467\n"
     ]
    },
    {
     "data": {
      "text/plain": [
       "[<matplotlib.lines.Line2D at 0x7f825747c748>]"
      ]
     },
     "execution_count": 24,
     "metadata": {},
     "output_type": "execute_result"
    },
    {
     "data": {
      "image/png": "[encoded data removed]",
      "text/plain": [
       "<Figure size 432x288 with 1 Axes>"
      ]
     },
     "metadata": {
      "needs_background": "light"
     },
     "output_type": "display_data"
    }
   ],
   "source": [
    "#(old plot, carried over)\n",
    "plt.plot(x[np.equal(y,1),0],x[np.equal(y,1),1],'b*')\n",
    "plt.plot(x[np.equal(y,-1),0],x[np.equal(y,-1),1],'r*')\n",
    "plt.plot(H[:,0],H[:,1],'k',linewidth=5)\n",
    "plt.axis('equal')\n",
    "\n",
    "#Now let's compute the margin. It is characterized by the smallest distance $yx^Ttheta/theta^Ttheta. \n",
    "d = np.dot((x.T*y).T,theta)/np.sqrt(np.dot(theta,theta))\n",
    "margin = min(d)\n",
    "print('margin = ', margin)\n",
    "#let's plot the margin\n",
    "\n",
    "M = np.random.randn(100,2)\n",
    "Mnull = M - np.outer(np.dot(M,theta),theta)/ np.dot(theta,theta)\n",
    "Moffset = margin * theta / np.sqrt(np.dot(theta,theta))\n",
    "\n",
    "Mup = Mnull + Moffset\n",
    "Mdown = Mnull - Moffset\n",
    "plt.plot(Mup[:,0],Mup[:,1],'k')\n",
    "plt.plot(Mdown[:,0],Mdown[:,1],'k')"
   ]
  },
  {
   "cell_type": "code",
   "execution_count": 5,
   "metadata": {},
   "outputs": [
    {
     "name": "stdout",
     "output_type": "stream",
     "text": [
      "margin is  1.0441331142707084\n"
     ]
    }
   ],
   "source": [
    "#ok, now stuff is (hopefully starting to make sense! \n",
    "#But, there's this constant need to divide by the norm of theta, which is super annoying. \n",
    "#So, we have two options\n",
    "# 1. we can normalize theta (e.g. dictate that ||theta||_2 = 1)\n",
    "# 2. We can normalize the unnormalized minimum margin quantity, e.g. dictate that min(yx^Ttheta) = 1\n",
    "#We know that in SVM, we choose option 2 (which seems counterintuitive, but better for computation)\n",
    "\n",
    "#So let's do that! We now use thetatilde = theta / norm(theta) * margin\n",
    "thetatilde = theta / np.linalg.norm(theta) * margin\n",
    "#Let's check if that worked\n",
    "print('margin is ', np.linalg.norm(thetatilde))"
   ]
  },
  {
   "cell_type": "code",
   "execution_count": null,
   "metadata": {},
   "outputs": [],
   "source": []
  }
 ],
 "metadata": {
  "kernelspec": {
   "display_name": "Python 3",
   "language": "python",
   "name": "python3"
  },
  "language_info": {
   "codemirror_mode": {
    "name": "ipython",
    "version": 3
   },
   "file_extension": ".py",
   "mimetype": "text/x-python",
   "name": "python",
   "nbconvert_exporter": "python",
   "pygments_lexer": "ipython3",
   "version": "3.7.3"
  }
 },
 "nbformat": 4,
 "nbformat_minor": 2
}
