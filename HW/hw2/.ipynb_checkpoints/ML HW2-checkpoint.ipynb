{
 "cells": [
  {
   "cell_type": "code",
   "execution_count": 1,
   "metadata": {},
   "outputs": [],
   "source": [
    "import scipy.io as sio\n",
    "import matplotlib.pyplot as plt\n",
    "import numpy as np\n",
    "import pandas as pd\n",
    "from sklearn.model_selection import train_test_split\n",
    "from IPython.display import Markdown\n",
    "from scipy import stats"
   ]
  },
  {
   "cell_type": "code",
   "execution_count": 2,
   "metadata": {},
   "outputs": [],
   "source": [
    "data = sio.loadmat('arrhythmia/arrhythmia.mat')"
   ]
  },
  {
   "cell_type": "code",
   "execution_count": 3,
   "metadata": {},
   "outputs": [],
   "source": [
    "X = data['X']\n",
    "y = data['y'].T\n",
    "y[y>=2] = -1\n",
    "idx_test = data['idx_test']\n",
    "idx_train = data['idx_train']\n",
    "\n",
    "Xtrain = X[idx_train[0,:],:]\n",
    "ytrain = y[idx_train[0,:],:]\n",
    "Xtest = X[idx_test[0,:],:]\n",
    "ytest = y[idx_test[0,:],:]"
   ]
  },
  {
   "cell_type": "code",
   "execution_count": 4,
   "metadata": {},
   "outputs": [
    {
     "name": "stdout",
     "output_type": "stream",
     "text": [
      "Shape of XTrain:(272, 279)\n",
      "Shape of YTrain:(272, 1)\n",
      "Shape of XTest:(180, 279)\n",
      "Shape of YTest:(180, 1)\n"
     ]
    }
   ],
   "source": [
    "print(\"Shape of XTrain:\" +str(np.shape(Xtrain)))\n",
    "print(\"Shape of YTrain:\" +str(np.shape(ytrain)))\n",
    "print(\"Shape of XTest:\" +str(np.shape(Xtest)))\n",
    "print(\"Shape of YTest:\" +str(np.shape(ytest)))"
   ]
  },
  {
   "cell_type": "code",
   "execution_count": 5,
   "metadata": {},
   "outputs": [
    {
     "data": {
      "text/plain": [
       "(array([-1.,  1.]), array([207, 245]))"
      ]
     },
     "execution_count": 5,
     "metadata": {},
     "output_type": "execute_result"
    }
   ],
   "source": [
    "np.unique(y, return_counts=True)"
   ]
  },
  {
   "cell_type": "markdown",
   "metadata": {},
   "source": [
    "# Class imbalance\n",
    "There is not much of a class imbalance as we have:\n",
    "\n",
    "1) 207 affected cases\n",
    "\n",
    "2) 245 Normal cases\n",
    "\n",
    "The ratio is 45% - 55% (This is almost a perfect balance for both the classes)"
   ]
  },
  {
   "cell_type": "code",
   "execution_count": 6,
   "metadata": {},
   "outputs": [],
   "source": [
    "# Computing Number of Normal and positive cases in Training and Test sets\n",
    "\n",
    "trainingClassBalance = np.unique(ytrain, return_counts=True)\n",
    "testClassBalance = np.unique(ytest, return_counts=True)\n",
    "\n",
    "totalTrainingSamples = len(ytrain)\n",
    "totalTestSamples = len(ytest)\n",
    "\n",
    "# For Training Data\n",
    "trainNormalSamples   = round(trainingClassBalance[1][0] * 100 / totalTrainingSamples,2)\n",
    "trainPosotiveSamples = round(trainingClassBalance[1][1] * 100 / totalTrainingSamples,2)\n",
    "\n",
    "# For Test Data\n",
    "\n",
    "testNormalSamples   = round(testClassBalance[1][0] * 100 / totalTestSamples,2)\n",
    "testPosotiveSamples = round(testClassBalance[1][1] * 100 / totalTestSamples,2)"
   ]
  },
  {
   "cell_type": "code",
   "execution_count": 7,
   "metadata": {},
   "outputs": [
    {
     "data": {
      "text/markdown": [
       "\n",
       "## Train Class Balance\n",
       "\n",
       "Normal Cases: 46.32% Positive Cases 53.68%\n"
      ],
      "text/plain": [
       "<IPython.core.display.Markdown object>"
      ]
     },
     "execution_count": 7,
     "metadata": {},
     "output_type": "execute_result"
    }
   ],
   "source": [
    "Markdown(\"# Title\")\n",
    "Markdown(\"\"\"\n",
    "## Train Class Balance\n",
    "\n",
    "Normal Cases: {normal}% Positive Cases {positive}%\n",
    "\"\"\".format(normal=trainNormalSamples, positive=trainPosotiveSamples))"
   ]
  },
  {
   "cell_type": "code",
   "execution_count": 8,
   "metadata": {},
   "outputs": [
    {
     "data": {
      "text/markdown": [
       "\n",
       "## Test Class Balance\n",
       "\n",
       "Normal Cases: 45.0% Positive Cases 55.0&\n"
      ],
      "text/plain": [
       "<IPython.core.display.Markdown object>"
      ]
     },
     "execution_count": 8,
     "metadata": {},
     "output_type": "execute_result"
    }
   ],
   "source": [
    "Markdown(\"# Title\")\n",
    "Markdown(\"\"\"\n",
    "## Test Class Balance\n",
    "\n",
    "Normal Cases: {normal}% Positive Cases {positive}&\n",
    "\"\"\".format(normal=testNormalSamples, positive=testPosotiveSamples))"
   ]
  },
  {
   "cell_type": "code",
   "execution_count": 9,
   "metadata": {},
   "outputs": [],
   "source": [
    "def normalizeData(X):\n",
    "    # finding mean\n",
    "    mean=np.mean(X,axis=0)\n",
    "    # finding std\n",
    "#     std = np.std(X)\n",
    "    std = np.std(X,axis=0)\n",
    "    m = X.shape[0]\n",
    "    X_norm = (X - mean)/ std\n",
    "    return X_norm "
   ]
  },
  {
   "cell_type": "code",
   "execution_count": 10,
   "metadata": {},
   "outputs": [],
   "source": [
    "X = data['X']\n",
    "y = data['y'].T\n",
    "y[y>=2] = -1\n",
    "idx_test = data['idx_test']\n",
    "idx_train = data['idx_train']\n",
    "\n",
    "Xtrain = X[idx_train[0,:],:]\n",
    "ytrain = y[idx_train[0,:],:]\n",
    "Xtest = X[idx_test[0,:],:]\n",
    "ytest = y[idx_test[0,:],:]"
   ]
  },
  {
   "cell_type": "code",
   "execution_count": 11,
   "metadata": {},
   "outputs": [
    {
     "name": "stderr",
     "output_type": "stream",
     "text": [
      "/Users/mvsnbharath/anaconda3/lib/python3.7/site-packages/ipykernel_launcher.py:8: RuntimeWarning: divide by zero encountered in true_divide\n",
      "  \n",
      "/Users/mvsnbharath/anaconda3/lib/python3.7/site-packages/ipykernel_launcher.py:8: RuntimeWarning: invalid value encountered in true_divide\n",
      "  \n"
     ]
    }
   ],
   "source": [
    "Xtrain_Normalized = normalizeData(Xtrain)\n",
    "Xtest_Normalized = normalizeData(Xtest)\n",
    "# X = np.append(np.ones((m,1)),X_normalized,axis=1)"
   ]
  },
  {
   "cell_type": "code",
   "execution_count": 13,
   "metadata": {},
   "outputs": [
    {
     "name": "stdout",
     "output_type": "stream",
     "text": [
      "-0.8813592157754074\n",
      "-0.8813592157754074\n"
     ]
    },
    {
     "name": "stderr",
     "output_type": "stream",
     "text": [
      "/Users/mvsnbharath/anaconda3/lib/python3.7/site-packages/scipy/stats/stats.py:2315: RuntimeWarning: divide by zero encountered in true_divide\n",
      "  return (a - mns) / sstd\n",
      "/Users/mvsnbharath/anaconda3/lib/python3.7/site-packages/scipy/stats/stats.py:2315: RuntimeWarning: invalid value encountered in true_divide\n",
      "  return (a - mns) / sstd\n"
     ]
    }
   ],
   "source": [
    "print(Xtrain_Normalized[0][4])\n",
    "print(stats.zscore(Xtrain)[0][4])"
   ]
  },
  {
   "cell_type": "code",
   "execution_count": 14,
   "metadata": {},
   "outputs": [
    {
     "name": "stdout",
     "output_type": "stream",
     "text": [
      "Normalization Verified with the inbuilt function in scipy(z-score)\n"
     ]
    }
   ],
   "source": [
    "## Verification for Normalioxation with in-built function\n",
    "if stats.zscore(Xtrain)[0][4] == Xtrain_Normalized[0][4]:\n",
    "    print(\"Normalization Verified with the inbuilt function in scipy(z-score)\")\n",
    "else:\n",
    "    print(\"Normalization seems to have a bug\")"
   ]
  },
  {
   "cell_type": "code",
   "execution_count": 155,
   "metadata": {},
   "outputs": [],
   "source": [
    "def computeLoss(Theta, X, Y,Rho):\n",
    "    # calculate hinge loss\n",
    "    m = X.shape[0]\n",
    "    # equivalent to (1- YX.T.Theta)\n",
    "    distances = 1 - Y * (np.dot(X, Theta))    \n",
    "    # equivalent to min(-s, 0)\n",
    "    distances[distances < 0] = 0    \n",
    "    distances = np.square(distances)\n",
    "    \n",
    "    # hinge_loss = Rho * (np.sum(distances) / m)\n",
    "    hinge_loss = Rho * (np.sum(distances))\n",
    "    \n",
    "    # Total loss\n",
    "    cost = 1 / 2 * (np.sum(np.square(Theta)) + hinge_loss)\n",
    "    return cost"
   ]
  },
  {
   "cell_type": "code",
   "execution_count": 431,
   "metadata": {},
   "outputs": [],
   "source": [
    "# Helper Functions\n",
    "\n",
    "# function to calculate margin\n",
    "def margin(Z):\n",
    "    return 1/np.linalg.norm(Z)\n",
    "\n",
    "def computeGradientForS(Theta, X, Y,Rho):\n",
    "\n",
    "    s = 1 - Y * (np.dot(X, Theta)) # m\n",
    "    gradient = np.zeros(len(s))     \n",
    "    for i in range(len(s)):\n",
    "        gradient [i] = Rho * np.max (-1*s[i], 0)\n",
    "    return gradient\n",
    "\n",
    "def misClassificationRate(X, Y, theta):\n",
    "    # we try to calculate how many predictions we missed\n",
    "    misCalculatedValues = Y * (np.dot(X, theta))\n",
    "    misCalculatedValues[misCalculatedValues >= 0] = 0\n",
    "    misCalculatedValues[misCalculatedValues < 0]  = 1\n",
    "    return np.sum(misCalculatedValues)/len(misCalculatedValues)"
   ]
  },
  {
   "cell_type": "code",
   "execution_count": 429,
   "metadata": {},
   "outputs": [],
   "source": [
    "# Helper method to calculate projections\n",
    "def projection(s_hat, theta_hat,X,y):\n",
    "    m = np.shape(X)[0]\n",
    "    Z = np.zeros(np.shape(X))\n",
    "\n",
    "    I = np.identity(m).astype(float)\n",
    "    \n",
    "    for i in range(m):\n",
    "        Z[i,:] = y[i]*X[i,:]\n",
    "    \n",
    "    x = np.ones(m).reshape(272,1)\n",
    "    b = -Z.dot(theta_hat)+x+ s_hat    \n",
    "    A = np.hstack((Z,-I)).astype(float)     \n",
    "    t = np.linalg.pinv(A).dot(b)\n",
    "    theta = t[:X.shape[1]] + theta_hat\n",
    "    s = t[X.shape[1]:] + s_hat\n",
    "    \n",
    "    return s, theta"
   ]
  },
  {
   "cell_type": "code",
   "execution_count": 428,
   "metadata": {},
   "outputs": [],
   "source": [
    "def gradientDescent(X,Y, theta,s, Rho,num_iters):\n",
    "    m=len(y)\n",
    "    lossFunctionHistory = []\n",
    "    misClassificationRateHistory = []\n",
    "    marginHistory = []\n",
    "    learning_rate = max(1, Rho)\n",
    "    for i in range(num_iters):\n",
    "        \n",
    "        # computing gradient\n",
    "        gradient_theta = theta\n",
    "        gradient_s     = computeGradientForS(theta, X, Y ,Rho)\n",
    "        #gradient = calculate_cost_gradient(weights, x, Y[ind])\n",
    "\n",
    "        # Updating theta and s values \n",
    "        \n",
    "        theta_hat  = theta - (learning_rate * gradient_theta)        \n",
    "        s_hat      = s     - (learning_rate * gradient_s.reshape(272,1))\n",
    "        \n",
    "        s, theta = projection(s_hat, theta_hat, X, Y)\n",
    "\n",
    "        lossFunctionHistory.append(computeLoss(theta,X,Y, Rho))\n",
    "        misClassificationRateHistory.append(misClassificationRate(X,Y, theta))\n",
    "        marginHistory.append(margin(s_hat))\n",
    "            \n",
    "    return theta , lossFunctionHistory, marginHistory,misClassificationRateHistory"
   ]
  },
  {
   "cell_type": "code",
   "execution_count": 425,
   "metadata": {},
   "outputs": [],
   "source": [
    "def plotValues(misClassificationRateHistory, marginHistory):\n",
    "    plt.figure(figsize=(10,5))\n",
    "\n",
    "    plt.subplot(1,3,1)\n",
    "    plt.plot(misClassificationRateHistory)\n",
    "    plt.xlabel(\"Iteration\")\n",
    "    plt.ylabel(\"misClassificationRate$\")\n",
    "    plt.title(\"misClassificationRateHistory\")\n",
    "\n",
    "\n",
    "    plt.subplot(1,3,2)\n",
    "    plt.plot(marginHistory)\n",
    "    plt.xlabel(\"Iteration\")\n",
    "    plt.ylabel(\"margin\")\n",
    "    plt.title(\"marginHistory\")\n",
    "\n",
    "\n",
    "\n",
    "    # plt.subplot(1,3,2)\n",
    "    # plt.plot(misClassificationRateHistory)\n",
    "    # plt.xlabel(\"Iteration\")\n",
    "    # plt.ylabel(\"$J(\\Theta)$\")\n",
    "    # plt.title(\"misClassificationRateHistory\")\n",
    "    plt.tight_layout()"
   ]
  },
  {
   "cell_type": "code",
   "execution_count": 430,
   "metadata": {},
   "outputs": [
    {
     "data": {
      "image/png": "[encoded data removed]",
      "text/plain": [
       "<Figure size 720x360 with 2 Axes>"
      ]
     },
     "metadata": {
      "needs_background": "light"
     },
     "output_type": "display_data"
    }
   ],
   "source": [
    "#print(np.shape(initial_theta))\n",
    "initial_theta = np.zeros((np.shape(Xtrain)[1],1))\n",
    "initial_s = np.zeros((np.shape(Xtrain)[0],1))\n",
    "Rho = 0.1\n",
    "cost = computeLoss(initial_theta,Xtrain,ytrain,Rho)\n",
    "# print(\"Initial theta cost is\",cost)\n",
    "\n",
    "theta , lossFunctionHistory, marginHistory,misClassificationRateHistory = gradientDescent(Xtrain, ytrain, initial_theta, initial_s,Rho, 1000)\n",
    "plotValues(misClassificationRateHistory, marginHistory)\n"
   ]
  },
  {
   "cell_type": "markdown",
   "metadata": {},
   "source": [
    "\n",
    "## Class imbalance\n",
    "There is not much of a class imbalance as we have:\n",
    "\n",
    "1) 207 affected cases\n",
    "\n",
    "2) 245 Normal cases\n",
    "\n",
    "The ratio is 45% - 55% (This is almost a perfect balance for both the classes)\n",
    "\n",
    "# Final Comments\n",
    "\n",
    "1) I think there are some issues in my implementation of projections, as seen in the graphs.\n",
    "\n",
    "2) I'll briefly explain the procedure followed:\n",
    "\n",
    "    1) Normalize data (Subtract with mean and dicide with standard deviation)\n",
    "    \n",
    "    2) Initialize theta and s with zeros.\n",
    "    \n",
    "    3) Compute the loss\n",
    "    \n",
    "    4) Compute the gradient\n",
    "    \n",
    "    5) Update theta and s with gradient followed by their projections.\n",
    "    \n",
    "    6) Repeat the process for 1000 iterations with different values of Rho.\n",
    "  \n",
    " 3) I may not have the final graph correct but most of my functions I guess are correct and I tried to write a modular code.\n",
    " \n",
    " 4) I request the TAs to consider if it's possible to give partial credit."
   ]
  },
  {
   "cell_type": "markdown",
   "metadata": {},
   "source": [
    "## 4c (ii)\n",
    "\n",
    "\n",
    "This data is seperable, \n",
    "\n",
    "this may not be a great approach for large values of Rho as we try to minimize the cost function.\n",
    "\n",
    "If Rho is large, we try to make that term zero and ultimately under-fit the data.\n",
    "\n",
    "Here, Rho is the parameter of our ridge regression.\n",
    "\n",
    "We use, ridge regression and a very large value of Rho may not help us to minimize the cost function."
   ]
  },
  {
   "cell_type": "markdown",
   "metadata": {},
   "source": [
    "## 4c (iii)\n",
    "\n",
    "My expectation from theoretical analysis would be that misclassification rate would be optimal around Rho = 100,\n",
    "that value would give us a good misclassification rate and penalty would also be reduced at that rate."
   ]
  },
  {
   "cell_type": "code",
   "execution_count": null,
   "metadata": {},
   "outputs": [],
   "source": []
  }
 ],
 "metadata": {
  "kernelspec": {
   "display_name": "Python 3",
   "language": "python",
   "name": "python3"
  },
  "language_info": {
   "codemirror_mode": {
    "name": "ipython",
    "version": 3
   },
   "file_extension": ".py",
   "mimetype": "text/x-python",
   "name": "python",
   "nbconvert_exporter": "python",
   "pygments_lexer": "ipython3",
   "version": "3.7.3"
  }
 },
 "nbformat": 4,
 "nbformat_minor": 2
}
