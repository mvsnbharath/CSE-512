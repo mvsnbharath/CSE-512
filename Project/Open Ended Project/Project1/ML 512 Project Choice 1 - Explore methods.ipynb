{
 "cells": [
  {
   "cell_type": "markdown",
   "metadata": {},
   "source": [
    "# ML 512 Project Choice 1 - Explore methods"
   ]
  },
  {
   "cell_type": "code",
   "execution_count": 5,
   "metadata": {},
   "outputs": [],
   "source": [
    "import pandas as pd\n",
    "import numpy as np\n",
    "import json\n",
    "import collections\n",
    "import seaborn as sns; sns.set()\n",
    "import matplotlib.pyplot as plt\n",
    "import collections\n",
    "plt.style.use('ggplot')"
   ]
  },
  {
   "cell_type": "code",
   "execution_count": 6,
   "metadata": {},
   "outputs": [],
   "source": [
    "movie_df = pd.read_csv('tmdb_movies_data.csv')"
   ]
  },
  {
   "cell_type": "code",
   "execution_count": 7,
   "metadata": {},
   "outputs": [
    {
     "data": {
      "text/plain": [
       "(10866, 21)"
      ]
     },
     "execution_count": 7,
     "metadata": {},
     "output_type": "execute_result"
    }
   ],
   "source": [
    "movie_df.shape"
   ]
  },
  {
   "cell_type": "code",
   "execution_count": 8,
   "metadata": {},
   "outputs": [
    {
     "data": {
      "text/plain": [
       "Index(['id', 'imdb_id', 'popularity', 'budget', 'revenue', 'original_title',\n",
       "       'cast', 'homepage', 'director', 'tagline', 'keywords', 'overview',\n",
       "       'runtime', 'genres', 'production_companies', 'release_date',\n",
       "       'vote_count', 'vote_average', 'release_year', 'budget_adj',\n",
       "       'revenue_adj'],\n",
       "      dtype='object')"
      ]
     },
     "execution_count": 8,
     "metadata": {},
     "output_type": "execute_result"
    }
   ],
   "source": [
    "movie_df.columns"
   ]
  },
  {
   "cell_type": "code",
   "execution_count": 9,
   "metadata": {},
   "outputs": [
    {
     "name": "stdout",
     "output_type": "stream",
     "text": [
      "<class 'pandas.core.frame.DataFrame'>\n",
      "RangeIndex: 10866 entries, 0 to 10865\n",
      "Data columns (total 21 columns):\n",
      "id                      10866 non-null int64\n",
      "imdb_id                 10856 non-null object\n",
      "popularity              10866 non-null float64\n",
      "budget                  10866 non-null int64\n",
      "revenue                 10866 non-null int64\n",
      "original_title          10866 non-null object\n",
      "cast                    10790 non-null object\n",
      "homepage                2936 non-null object\n",
      "director                10822 non-null object\n",
      "tagline                 8042 non-null object\n",
      "keywords                9373 non-null object\n",
      "overview                10862 non-null object\n",
      "runtime                 10866 non-null int64\n",
      "genres                  10843 non-null object\n",
      "production_companies    9836 non-null object\n",
      "release_date            10866 non-null object\n",
      "vote_count              10866 non-null int64\n",
      "vote_average            10866 non-null float64\n",
      "release_year            10866 non-null int64\n",
      "budget_adj              10866 non-null float64\n",
      "revenue_adj             10866 non-null float64\n",
      "dtypes: float64(4), int64(6), object(11)\n",
      "memory usage: 1.7+ MB\n"
     ]
    }
   ],
   "source": [
    "movie_df.info()"
   ]
  },
  {
   "cell_type": "code",
   "execution_count": 10,
   "metadata": {},
   "outputs": [
    {
     "data": {
      "text/plain": [
       "count    1.086600e+04\n",
       "mean     1.462570e+07\n",
       "std      3.091321e+07\n",
       "min      0.000000e+00\n",
       "25%      0.000000e+00\n",
       "50%      0.000000e+00\n",
       "75%      1.500000e+07\n",
       "max      4.250000e+08\n",
       "Name: budget, dtype: float64"
      ]
     },
     "execution_count": 10,
     "metadata": {},
     "output_type": "execute_result"
    }
   ],
   "source": [
    "movie_df.budget.describe()"
   ]
  },
  {
   "cell_type": "code",
   "execution_count": 11,
   "metadata": {},
   "outputs": [],
   "source": [
    "movie_df = movie_df.drop(movie_df[movie_df.budget == 0].index)"
   ]
  },
  {
   "cell_type": "code",
   "execution_count": 12,
   "metadata": {},
   "outputs": [
    {
     "data": {
      "text/plain": [
       "count    5.170000e+03\n",
       "mean     3.073943e+07\n",
       "std      3.890065e+07\n",
       "min      1.000000e+00\n",
       "25%      6.000000e+06\n",
       "50%      1.700000e+07\n",
       "75%      4.000000e+07\n",
       "max      4.250000e+08\n",
       "Name: budget, dtype: float64"
      ]
     },
     "execution_count": 12,
     "metadata": {},
     "output_type": "execute_result"
    }
   ],
   "source": [
    "movie_df.budget.describe()"
   ]
  },
  {
   "cell_type": "code",
   "execution_count": 13,
   "metadata": {},
   "outputs": [
    {
     "data": {
      "text/plain": [
       "(5170, 21)"
      ]
     },
     "execution_count": 13,
     "metadata": {},
     "output_type": "execute_result"
    }
   ],
   "source": [
    "movie_df.shape"
   ]
  },
  {
   "cell_type": "code",
   "execution_count": 14,
   "metadata": {},
   "outputs": [
    {
     "data": {
      "text/html": [
       "<div>\n",
       "<style scoped>\n",
       "    .dataframe tbody tr th:only-of-type {\n",
       "        vertical-align: middle;\n",
       "    }\n",
       "\n",
       "    .dataframe tbody tr th {\n",
       "        vertical-align: top;\n",
       "    }\n",
       "\n",
       "    .dataframe thead th {\n",
       "        text-align: right;\n",
       "    }\n",
       "</style>\n",
       "<table border=\"1\" class=\"dataframe\">\n",
       "  <thead>\n",
       "    <tr style=\"text-align: right;\">\n",
       "      <th></th>\n",
       "      <th>id</th>\n",
       "      <th>imdb_id</th>\n",
       "      <th>popularity</th>\n",
       "      <th>budget</th>\n",
       "      <th>revenue</th>\n",
       "      <th>original_title</th>\n",
       "      <th>cast</th>\n",
       "      <th>homepage</th>\n",
       "      <th>director</th>\n",
       "      <th>tagline</th>\n",
       "      <th>...</th>\n",
       "      <th>overview</th>\n",
       "      <th>runtime</th>\n",
       "      <th>genres</th>\n",
       "      <th>production_companies</th>\n",
       "      <th>release_date</th>\n",
       "      <th>vote_count</th>\n",
       "      <th>vote_average</th>\n",
       "      <th>release_year</th>\n",
       "      <th>budget_adj</th>\n",
       "      <th>revenue_adj</th>\n",
       "    </tr>\n",
       "  </thead>\n",
       "  <tbody>\n",
       "    <tr>\n",
       "      <th>7706</th>\n",
       "      <td>15728</td>\n",
       "      <td>tt0433350</td>\n",
       "      <td>0.39628</td>\n",
       "      <td>500000</td>\n",
       "      <td>220151</td>\n",
       "      <td>Boy Culture</td>\n",
       "      <td>Jonathon Trent|Derek Magyar|George Jonson|Patr...</td>\n",
       "      <td>NaN</td>\n",
       "      <td>Q. Allan Brocka</td>\n",
       "      <td>Sex pays. Love costs.</td>\n",
       "      <td>...</td>\n",
       "      <td>A successful male escort describes in a series...</td>\n",
       "      <td>88</td>\n",
       "      <td>Drama|Romance</td>\n",
       "      <td>TLA Releasing|Boy Culture LLC</td>\n",
       "      <td>1/31/2007</td>\n",
       "      <td>18</td>\n",
       "      <td>5.4</td>\n",
       "      <td>2007</td>\n",
       "      <td>525834.2913</td>\n",
       "      <td>231525.8901</td>\n",
       "    </tr>\n",
       "  </tbody>\n",
       "</table>\n",
       "<p>1 rows × 21 columns</p>\n",
       "</div>"
      ],
      "text/plain": [
       "         id    imdb_id  popularity  budget  revenue original_title  \\\n",
       "7706  15728  tt0433350     0.39628  500000   220151    Boy Culture   \n",
       "\n",
       "                                                   cast homepage  \\\n",
       "7706  Jonathon Trent|Derek Magyar|George Jonson|Patr...      NaN   \n",
       "\n",
       "             director                tagline  ...  \\\n",
       "7706  Q. Allan Brocka  Sex pays. Love costs.  ...   \n",
       "\n",
       "                                               overview runtime  \\\n",
       "7706  A successful male escort describes in a series...      88   \n",
       "\n",
       "             genres           production_companies release_date vote_count  \\\n",
       "7706  Drama|Romance  TLA Releasing|Boy Culture LLC    1/31/2007         18   \n",
       "\n",
       "      vote_average  release_year   budget_adj  revenue_adj  \n",
       "7706           5.4          2007  525834.2913  231525.8901  \n",
       "\n",
       "[1 rows x 21 columns]"
      ]
     },
     "execution_count": 14,
     "metadata": {},
     "output_type": "execute_result"
    }
   ],
   "source": [
    "movie_df.sample(1)"
   ]
  },
  {
   "cell_type": "markdown",
   "metadata": {},
   "source": [
    "### Genre  Popularity Vs Decade"
   ]
  },
  {
   "cell_type": "code",
   "execution_count": 15,
   "metadata": {},
   "outputs": [],
   "source": [
    "def get_decade_by_year(year):\n",
    "    decade = year - (year%10)\n",
    "    decade_plus_10 = decade +10\n",
    "    decade_as_str = str(decade)+'-'+ str(decade_plus_10)\n",
    "    return decade_as_str"
   ]
  },
  {
   "cell_type": "code",
   "execution_count": 16,
   "metadata": {},
   "outputs": [
    {
     "data": {
      "text/plain": [
       "'1950-1960'"
      ]
     },
     "execution_count": 16,
     "metadata": {},
     "output_type": "execute_result"
    }
   ],
   "source": [
    "get_decade_by_year(1951)"
   ]
  },
  {
   "cell_type": "code",
   "execution_count": 17,
   "metadata": {},
   "outputs": [],
   "source": [
    "year_of_release = []\n",
    "decade_of_release = []\n",
    "month_of_release = []\n",
    "for x in range(len(movie_df)):\n",
    "    year = int(movie_df.iloc[x]['release_date'][-4:])\n",
    "    month = int(movie_df.iloc[x]['release_date'].split('/')[0])\n",
    "    year_of_release.append(year) \n",
    "    decade_of_release.append(get_decade_by_year(year))\n",
    "    month_of_release.append(month)\n",
    "movie_df['year_of_release'] = year_of_release\n",
    "movie_df['decade_of_release'] = decade_of_release\n",
    "movie_df['month_of_release'] = month_of_release"
   ]
  },
  {
   "cell_type": "code",
   "execution_count": 18,
   "metadata": {},
   "outputs": [
    {
     "data": {
      "text/html": [
       "<div>\n",
       "<style scoped>\n",
       "    .dataframe tbody tr th:only-of-type {\n",
       "        vertical-align: middle;\n",
       "    }\n",
       "\n",
       "    .dataframe tbody tr th {\n",
       "        vertical-align: top;\n",
       "    }\n",
       "\n",
       "    .dataframe thead th {\n",
       "        text-align: right;\n",
       "    }\n",
       "</style>\n",
       "<table border=\"1\" class=\"dataframe\">\n",
       "  <thead>\n",
       "    <tr style=\"text-align: right;\">\n",
       "      <th></th>\n",
       "      <th>month_of_release</th>\n",
       "      <th>year_of_release</th>\n",
       "      <th>release_date</th>\n",
       "      <th>decade_of_release</th>\n",
       "    </tr>\n",
       "  </thead>\n",
       "  <tbody>\n",
       "    <tr>\n",
       "      <th>4684</th>\n",
       "      <td>8</td>\n",
       "      <td>2012</td>\n",
       "      <td>8/1/2012</td>\n",
       "      <td>2010-2020</td>\n",
       "    </tr>\n",
       "    <tr>\n",
       "      <th>8191</th>\n",
       "      <td>12</td>\n",
       "      <td>1995</td>\n",
       "      <td>12/13/1995</td>\n",
       "      <td>1990-2000</td>\n",
       "    </tr>\n",
       "    <tr>\n",
       "      <th>6572</th>\n",
       "      <td>6</td>\n",
       "      <td>2006</td>\n",
       "      <td>6/22/2006</td>\n",
       "      <td>2000-2010</td>\n",
       "    </tr>\n",
       "    <tr>\n",
       "      <th>6977</th>\n",
       "      <td>5</td>\n",
       "      <td>2004</td>\n",
       "      <td>5/19/2004</td>\n",
       "      <td>2000-2010</td>\n",
       "    </tr>\n",
       "    <tr>\n",
       "      <th>5176</th>\n",
       "      <td>7</td>\n",
       "      <td>2003</td>\n",
       "      <td>7/11/2003</td>\n",
       "      <td>2000-2010</td>\n",
       "    </tr>\n",
       "  </tbody>\n",
       "</table>\n",
       "</div>"
      ],
      "text/plain": [
       "      month_of_release  year_of_release release_date decade_of_release\n",
       "4684                 8             2012     8/1/2012         2010-2020\n",
       "8191                12             1995   12/13/1995         1990-2000\n",
       "6572                 6             2006    6/22/2006         2000-2010\n",
       "6977                 5             2004    5/19/2004         2000-2010\n",
       "5176                 7             2003    7/11/2003         2000-2010"
      ]
     },
     "execution_count": 18,
     "metadata": {},
     "output_type": "execute_result"
    }
   ],
   "source": [
    "sample_cols = ['month_of_release','year_of_release','release_date','decade_of_release']\n",
    "movie_df[sample_cols].sample(5)"
   ]
  },
  {
   "cell_type": "code",
   "execution_count": 19,
   "metadata": {},
   "outputs": [],
   "source": [
    "genre_by_decade = collections.OrderedDict()\n",
    "for i in range(len(movie_df)):\n",
    "    decade = movie_df.iloc[i]['decade_of_release']\n",
    "    if decade not in genre_by_decade:\n",
    "        genre_by_decade[decade] = {}\n",
    "    if type(movie_df.iloc[i]['genres'])==str:\n",
    "        genres_as_list = movie_df.iloc[i]['genres'].split('|')\n",
    "        for each_genre_in_movie in genres_as_list:\n",
    "            if each_genre_in_movie not in genre_by_decade[decade]:\n",
    "                genre_by_decade[decade][each_genre_in_movie] =1\n",
    "            else:\n",
    "                genre_by_decade[decade][each_genre_in_movie]+=1"
   ]
  },
  {
   "cell_type": "code",
   "execution_count": 20,
   "metadata": {},
   "outputs": [
    {
     "data": {
      "text/html": [
       "<div>\n",
       "<style scoped>\n",
       "    .dataframe tbody tr th:only-of-type {\n",
       "        vertical-align: middle;\n",
       "    }\n",
       "\n",
       "    .dataframe tbody tr th {\n",
       "        vertical-align: top;\n",
       "    }\n",
       "\n",
       "    .dataframe thead th {\n",
       "        text-align: right;\n",
       "    }\n",
       "</style>\n",
       "<table border=\"1\" class=\"dataframe\">\n",
       "  <thead>\n",
       "    <tr style=\"text-align: right;\">\n",
       "      <th></th>\n",
       "      <th>1960-1970</th>\n",
       "      <th>1970-1980</th>\n",
       "      <th>1980-1990</th>\n",
       "      <th>1990-2000</th>\n",
       "      <th>2000-2010</th>\n",
       "      <th>2010-2020</th>\n",
       "    </tr>\n",
       "  </thead>\n",
       "  <tbody>\n",
       "    <tr>\n",
       "      <th>Action</th>\n",
       "      <td>30.0</td>\n",
       "      <td>55.0</td>\n",
       "      <td>140.0</td>\n",
       "      <td>284</td>\n",
       "      <td>509</td>\n",
       "      <td>411</td>\n",
       "    </tr>\n",
       "    <tr>\n",
       "      <th>Adventure</th>\n",
       "      <td>33.0</td>\n",
       "      <td>40.0</td>\n",
       "      <td>102.0</td>\n",
       "      <td>164</td>\n",
       "      <td>339</td>\n",
       "      <td>228</td>\n",
       "    </tr>\n",
       "    <tr>\n",
       "      <th>Science Fiction</th>\n",
       "      <td>11.0</td>\n",
       "      <td>42.0</td>\n",
       "      <td>103.0</td>\n",
       "      <td>140</td>\n",
       "      <td>224</td>\n",
       "      <td>182</td>\n",
       "    </tr>\n",
       "    <tr>\n",
       "      <th>Thriller</th>\n",
       "      <td>26.0</td>\n",
       "      <td>63.0</td>\n",
       "      <td>140.0</td>\n",
       "      <td>330</td>\n",
       "      <td>619</td>\n",
       "      <td>464</td>\n",
       "    </tr>\n",
       "    <tr>\n",
       "      <th>Fantasy</th>\n",
       "      <td>6.0</td>\n",
       "      <td>13.0</td>\n",
       "      <td>67.0</td>\n",
       "      <td>110</td>\n",
       "      <td>189</td>\n",
       "      <td>123</td>\n",
       "    </tr>\n",
       "    <tr>\n",
       "      <th>Crime</th>\n",
       "      <td>17.0</td>\n",
       "      <td>36.0</td>\n",
       "      <td>78.0</td>\n",
       "      <td>183</td>\n",
       "      <td>307</td>\n",
       "      <td>203</td>\n",
       "    </tr>\n",
       "    <tr>\n",
       "      <th>Western</th>\n",
       "      <td>10.0</td>\n",
       "      <td>7.0</td>\n",
       "      <td>6.0</td>\n",
       "      <td>14</td>\n",
       "      <td>22</td>\n",
       "      <td>15</td>\n",
       "    </tr>\n",
       "    <tr>\n",
       "      <th>Drama</th>\n",
       "      <td>62.0</td>\n",
       "      <td>94.0</td>\n",
       "      <td>190.0</td>\n",
       "      <td>454</td>\n",
       "      <td>878</td>\n",
       "      <td>639</td>\n",
       "    </tr>\n",
       "    <tr>\n",
       "      <th>Family</th>\n",
       "      <td>13.0</td>\n",
       "      <td>13.0</td>\n",
       "      <td>44.0</td>\n",
       "      <td>111</td>\n",
       "      <td>219</td>\n",
       "      <td>123</td>\n",
       "    </tr>\n",
       "    <tr>\n",
       "      <th>Animation</th>\n",
       "      <td>4.0</td>\n",
       "      <td>10.0</td>\n",
       "      <td>14.0</td>\n",
       "      <td>31</td>\n",
       "      <td>109</td>\n",
       "      <td>92</td>\n",
       "    </tr>\n",
       "    <tr>\n",
       "      <th>Comedy</th>\n",
       "      <td>30.0</td>\n",
       "      <td>43.0</td>\n",
       "      <td>180.0</td>\n",
       "      <td>360</td>\n",
       "      <td>688</td>\n",
       "      <td>439</td>\n",
       "    </tr>\n",
       "    <tr>\n",
       "      <th>Mystery</th>\n",
       "      <td>12.0</td>\n",
       "      <td>16.0</td>\n",
       "      <td>29.0</td>\n",
       "      <td>100</td>\n",
       "      <td>185</td>\n",
       "      <td>98</td>\n",
       "    </tr>\n",
       "    <tr>\n",
       "      <th>Romance</th>\n",
       "      <td>26.0</td>\n",
       "      <td>19.0</td>\n",
       "      <td>85.0</td>\n",
       "      <td>176</td>\n",
       "      <td>364</td>\n",
       "      <td>191</td>\n",
       "    </tr>\n",
       "    <tr>\n",
       "      <th>War</th>\n",
       "      <td>14.0</td>\n",
       "      <td>12.0</td>\n",
       "      <td>18.0</td>\n",
       "      <td>20</td>\n",
       "      <td>58</td>\n",
       "      <td>33</td>\n",
       "    </tr>\n",
       "    <tr>\n",
       "      <th>History</th>\n",
       "      <td>13.0</td>\n",
       "      <td>10.0</td>\n",
       "      <td>20.0</td>\n",
       "      <td>32</td>\n",
       "      <td>68</td>\n",
       "      <td>40</td>\n",
       "    </tr>\n",
       "    <tr>\n",
       "      <th>Music</th>\n",
       "      <td>9.0</td>\n",
       "      <td>12.0</td>\n",
       "      <td>25.0</td>\n",
       "      <td>22</td>\n",
       "      <td>60</td>\n",
       "      <td>41</td>\n",
       "    </tr>\n",
       "    <tr>\n",
       "      <th>Horror</th>\n",
       "      <td>16.0</td>\n",
       "      <td>40.0</td>\n",
       "      <td>134.0</td>\n",
       "      <td>115</td>\n",
       "      <td>247</td>\n",
       "      <td>213</td>\n",
       "    </tr>\n",
       "    <tr>\n",
       "      <th>Documentary</th>\n",
       "      <td>NaN</td>\n",
       "      <td>NaN</td>\n",
       "      <td>3.0</td>\n",
       "      <td>5</td>\n",
       "      <td>25</td>\n",
       "      <td>31</td>\n",
       "    </tr>\n",
       "    <tr>\n",
       "      <th>TV Movie</th>\n",
       "      <td>NaN</td>\n",
       "      <td>NaN</td>\n",
       "      <td>NaN</td>\n",
       "      <td>1</td>\n",
       "      <td>4</td>\n",
       "      <td>4</td>\n",
       "    </tr>\n",
       "    <tr>\n",
       "      <th>Foreign</th>\n",
       "      <td>1.0</td>\n",
       "      <td>1.0</td>\n",
       "      <td>2.0</td>\n",
       "      <td>3</td>\n",
       "      <td>19</td>\n",
       "      <td>9</td>\n",
       "    </tr>\n",
       "  </tbody>\n",
       "</table>\n",
       "</div>"
      ],
      "text/plain": [
       "                 1960-1970  1970-1980  1980-1990  1990-2000  2000-2010  \\\n",
       "Action                30.0       55.0      140.0        284        509   \n",
       "Adventure             33.0       40.0      102.0        164        339   \n",
       "Science Fiction       11.0       42.0      103.0        140        224   \n",
       "Thriller              26.0       63.0      140.0        330        619   \n",
       "Fantasy                6.0       13.0       67.0        110        189   \n",
       "Crime                 17.0       36.0       78.0        183        307   \n",
       "Western               10.0        7.0        6.0         14         22   \n",
       "Drama                 62.0       94.0      190.0        454        878   \n",
       "Family                13.0       13.0       44.0        111        219   \n",
       "Animation              4.0       10.0       14.0         31        109   \n",
       "Comedy                30.0       43.0      180.0        360        688   \n",
       "Mystery               12.0       16.0       29.0        100        185   \n",
       "Romance               26.0       19.0       85.0        176        364   \n",
       "War                   14.0       12.0       18.0         20         58   \n",
       "History               13.0       10.0       20.0         32         68   \n",
       "Music                  9.0       12.0       25.0         22         60   \n",
       "Horror                16.0       40.0      134.0        115        247   \n",
       "Documentary            NaN        NaN        3.0          5         25   \n",
       "TV Movie               NaN        NaN        NaN          1          4   \n",
       "Foreign                1.0        1.0        2.0          3         19   \n",
       "\n",
       "                 2010-2020  \n",
       "Action                 411  \n",
       "Adventure              228  \n",
       "Science Fiction        182  \n",
       "Thriller               464  \n",
       "Fantasy                123  \n",
       "Crime                  203  \n",
       "Western                 15  \n",
       "Drama                  639  \n",
       "Family                 123  \n",
       "Animation               92  \n",
       "Comedy                 439  \n",
       "Mystery                 98  \n",
       "Romance                191  \n",
       "War                     33  \n",
       "History                 40  \n",
       "Music                   41  \n",
       "Horror                 213  \n",
       "Documentary             31  \n",
       "TV Movie                 4  \n",
       "Foreign                  9  "
      ]
     },
     "execution_count": 20,
     "metadata": {},
     "output_type": "execute_result"
    }
   ],
   "source": [
    "df = pd.DataFrame(genre_by_decade)\n",
    "cols= sorted(list(df.columns))\n",
    "df[cols]"
   ]
  },
  {
   "cell_type": "code",
   "execution_count": 21,
   "metadata": {},
   "outputs": [
    {
     "data": {
      "text/html": [
       "<div>\n",
       "<style scoped>\n",
       "    .dataframe tbody tr th:only-of-type {\n",
       "        vertical-align: middle;\n",
       "    }\n",
       "\n",
       "    .dataframe tbody tr th {\n",
       "        vertical-align: top;\n",
       "    }\n",
       "\n",
       "    .dataframe thead th {\n",
       "        text-align: right;\n",
       "    }\n",
       "</style>\n",
       "<table border=\"1\" class=\"dataframe\">\n",
       "  <thead>\n",
       "    <tr style=\"text-align: right;\">\n",
       "      <th></th>\n",
       "      <th>1960-1970</th>\n",
       "      <th>1970-1980</th>\n",
       "      <th>1980-1990</th>\n",
       "      <th>1990-2000</th>\n",
       "      <th>2000-2010</th>\n",
       "      <th>2010-2020</th>\n",
       "    </tr>\n",
       "  </thead>\n",
       "  <tbody>\n",
       "    <tr>\n",
       "      <th>Action</th>\n",
       "      <td>9.009009</td>\n",
       "      <td>10.456274</td>\n",
       "      <td>10.144928</td>\n",
       "      <td>10.696798</td>\n",
       "      <td>9.916228</td>\n",
       "      <td>11.483655</td>\n",
       "    </tr>\n",
       "    <tr>\n",
       "      <th>Adventure</th>\n",
       "      <td>9.909910</td>\n",
       "      <td>7.604563</td>\n",
       "      <td>7.391304</td>\n",
       "      <td>6.177024</td>\n",
       "      <td>6.604325</td>\n",
       "      <td>6.370495</td>\n",
       "    </tr>\n",
       "    <tr>\n",
       "      <th>Science Fiction</th>\n",
       "      <td>3.303303</td>\n",
       "      <td>7.984791</td>\n",
       "      <td>7.463768</td>\n",
       "      <td>5.273070</td>\n",
       "      <td>4.363920</td>\n",
       "      <td>5.085219</td>\n",
       "    </tr>\n",
       "    <tr>\n",
       "      <th>Thriller</th>\n",
       "      <td>7.807808</td>\n",
       "      <td>11.977186</td>\n",
       "      <td>10.144928</td>\n",
       "      <td>12.429379</td>\n",
       "      <td>12.059225</td>\n",
       "      <td>12.964515</td>\n",
       "    </tr>\n",
       "    <tr>\n",
       "      <th>Fantasy</th>\n",
       "      <td>1.801802</td>\n",
       "      <td>2.471483</td>\n",
       "      <td>4.855072</td>\n",
       "      <td>4.143126</td>\n",
       "      <td>3.682057</td>\n",
       "      <td>3.436714</td>\n",
       "    </tr>\n",
       "    <tr>\n",
       "      <th>Crime</th>\n",
       "      <td>5.105105</td>\n",
       "      <td>6.844106</td>\n",
       "      <td>5.652174</td>\n",
       "      <td>6.892655</td>\n",
       "      <td>5.980908</td>\n",
       "      <td>5.671975</td>\n",
       "    </tr>\n",
       "    <tr>\n",
       "      <th>Western</th>\n",
       "      <td>3.003003</td>\n",
       "      <td>1.330798</td>\n",
       "      <td>0.434783</td>\n",
       "      <td>0.527307</td>\n",
       "      <td>0.428599</td>\n",
       "      <td>0.419111</td>\n",
       "    </tr>\n",
       "    <tr>\n",
       "      <th>Drama</th>\n",
       "      <td>18.618619</td>\n",
       "      <td>17.870722</td>\n",
       "      <td>13.768116</td>\n",
       "      <td>17.099812</td>\n",
       "      <td>17.105007</td>\n",
       "      <td>17.854149</td>\n",
       "    </tr>\n",
       "    <tr>\n",
       "      <th>Family</th>\n",
       "      <td>3.903904</td>\n",
       "      <td>2.471483</td>\n",
       "      <td>3.188406</td>\n",
       "      <td>4.180791</td>\n",
       "      <td>4.266511</td>\n",
       "      <td>3.436714</td>\n",
       "    </tr>\n",
       "    <tr>\n",
       "      <th>Animation</th>\n",
       "      <td>1.201201</td>\n",
       "      <td>1.901141</td>\n",
       "      <td>1.014493</td>\n",
       "      <td>1.167608</td>\n",
       "      <td>2.123515</td>\n",
       "      <td>2.570550</td>\n",
       "    </tr>\n",
       "    <tr>\n",
       "      <th>Comedy</th>\n",
       "      <td>9.009009</td>\n",
       "      <td>8.174905</td>\n",
       "      <td>13.043478</td>\n",
       "      <td>13.559322</td>\n",
       "      <td>13.403468</td>\n",
       "      <td>12.265996</td>\n",
       "    </tr>\n",
       "    <tr>\n",
       "      <th>Mystery</th>\n",
       "      <td>3.603604</td>\n",
       "      <td>3.041825</td>\n",
       "      <td>2.101449</td>\n",
       "      <td>3.766478</td>\n",
       "      <td>3.604130</td>\n",
       "      <td>2.738195</td>\n",
       "    </tr>\n",
       "    <tr>\n",
       "      <th>Romance</th>\n",
       "      <td>7.807808</td>\n",
       "      <td>3.612167</td>\n",
       "      <td>6.159420</td>\n",
       "      <td>6.629002</td>\n",
       "      <td>7.091370</td>\n",
       "      <td>5.336686</td>\n",
       "    </tr>\n",
       "    <tr>\n",
       "      <th>War</th>\n",
       "      <td>4.204204</td>\n",
       "      <td>2.281369</td>\n",
       "      <td>1.304348</td>\n",
       "      <td>0.753296</td>\n",
       "      <td>1.129944</td>\n",
       "      <td>0.922045</td>\n",
       "    </tr>\n",
       "    <tr>\n",
       "      <th>History</th>\n",
       "      <td>3.903904</td>\n",
       "      <td>1.901141</td>\n",
       "      <td>1.449275</td>\n",
       "      <td>1.205273</td>\n",
       "      <td>1.324761</td>\n",
       "      <td>1.117631</td>\n",
       "    </tr>\n",
       "    <tr>\n",
       "      <th>Music</th>\n",
       "      <td>2.702703</td>\n",
       "      <td>2.281369</td>\n",
       "      <td>1.811594</td>\n",
       "      <td>0.828625</td>\n",
       "      <td>1.168907</td>\n",
       "      <td>1.145571</td>\n",
       "    </tr>\n",
       "    <tr>\n",
       "      <th>Horror</th>\n",
       "      <td>4.804805</td>\n",
       "      <td>7.604563</td>\n",
       "      <td>9.710145</td>\n",
       "      <td>4.331450</td>\n",
       "      <td>4.812001</td>\n",
       "      <td>5.951383</td>\n",
       "    </tr>\n",
       "    <tr>\n",
       "      <th>Documentary</th>\n",
       "      <td>NaN</td>\n",
       "      <td>NaN</td>\n",
       "      <td>0.217391</td>\n",
       "      <td>0.188324</td>\n",
       "      <td>0.487045</td>\n",
       "      <td>0.866164</td>\n",
       "    </tr>\n",
       "    <tr>\n",
       "      <th>TV Movie</th>\n",
       "      <td>NaN</td>\n",
       "      <td>NaN</td>\n",
       "      <td>NaN</td>\n",
       "      <td>0.037665</td>\n",
       "      <td>0.077927</td>\n",
       "      <td>0.111763</td>\n",
       "    </tr>\n",
       "    <tr>\n",
       "      <th>Foreign</th>\n",
       "      <td>0.300300</td>\n",
       "      <td>0.190114</td>\n",
       "      <td>0.144928</td>\n",
       "      <td>0.112994</td>\n",
       "      <td>0.370154</td>\n",
       "      <td>0.251467</td>\n",
       "    </tr>\n",
       "  </tbody>\n",
       "</table>\n",
       "</div>"
      ],
      "text/plain": [
       "                 1960-1970  1970-1980  1980-1990  1990-2000  2000-2010  \\\n",
       "Action            9.009009  10.456274  10.144928  10.696798   9.916228   \n",
       "Adventure         9.909910   7.604563   7.391304   6.177024   6.604325   \n",
       "Science Fiction   3.303303   7.984791   7.463768   5.273070   4.363920   \n",
       "Thriller          7.807808  11.977186  10.144928  12.429379  12.059225   \n",
       "Fantasy           1.801802   2.471483   4.855072   4.143126   3.682057   \n",
       "Crime             5.105105   6.844106   5.652174   6.892655   5.980908   \n",
       "Western           3.003003   1.330798   0.434783   0.527307   0.428599   \n",
       "Drama            18.618619  17.870722  13.768116  17.099812  17.105007   \n",
       "Family            3.903904   2.471483   3.188406   4.180791   4.266511   \n",
       "Animation         1.201201   1.901141   1.014493   1.167608   2.123515   \n",
       "Comedy            9.009009   8.174905  13.043478  13.559322  13.403468   \n",
       "Mystery           3.603604   3.041825   2.101449   3.766478   3.604130   \n",
       "Romance           7.807808   3.612167   6.159420   6.629002   7.091370   \n",
       "War               4.204204   2.281369   1.304348   0.753296   1.129944   \n",
       "History           3.903904   1.901141   1.449275   1.205273   1.324761   \n",
       "Music             2.702703   2.281369   1.811594   0.828625   1.168907   \n",
       "Horror            4.804805   7.604563   9.710145   4.331450   4.812001   \n",
       "Documentary            NaN        NaN   0.217391   0.188324   0.487045   \n",
       "TV Movie               NaN        NaN        NaN   0.037665   0.077927   \n",
       "Foreign           0.300300   0.190114   0.144928   0.112994   0.370154   \n",
       "\n",
       "                 2010-2020  \n",
       "Action           11.483655  \n",
       "Adventure         6.370495  \n",
       "Science Fiction   5.085219  \n",
       "Thriller         12.964515  \n",
       "Fantasy           3.436714  \n",
       "Crime             5.671975  \n",
       "Western           0.419111  \n",
       "Drama            17.854149  \n",
       "Family            3.436714  \n",
       "Animation         2.570550  \n",
       "Comedy           12.265996  \n",
       "Mystery           2.738195  \n",
       "Romance           5.336686  \n",
       "War               0.922045  \n",
       "History           1.117631  \n",
       "Music             1.145571  \n",
       "Horror            5.951383  \n",
       "Documentary       0.866164  \n",
       "TV Movie          0.111763  \n",
       "Foreign           0.251467  "
      ]
     },
     "execution_count": 21,
     "metadata": {},
     "output_type": "execute_result"
    }
   ],
   "source": [
    "columns = list(df.columns)\n",
    "for column in columns:\n",
    "    df[column] = 100*df[column] /  df[column].sum()\n",
    "cols= sorted(list(df.columns))\n",
    "df[cols]"
   ]
  },
  {
   "cell_type": "code",
   "execution_count": 22,
   "metadata": {},
   "outputs": [
    {
     "data": {
      "text/html": [
       "<div>\n",
       "<style scoped>\n",
       "    .dataframe tbody tr th:only-of-type {\n",
       "        vertical-align: middle;\n",
       "    }\n",
       "\n",
       "    .dataframe tbody tr th {\n",
       "        vertical-align: top;\n",
       "    }\n",
       "\n",
       "    .dataframe thead th {\n",
       "        text-align: right;\n",
       "    }\n",
       "</style>\n",
       "<table border=\"1\" class=\"dataframe\">\n",
       "  <thead>\n",
       "    <tr style=\"text-align: right;\">\n",
       "      <th></th>\n",
       "      <th>2010-2020</th>\n",
       "      <th>1970-1980</th>\n",
       "      <th>2000-2010</th>\n",
       "      <th>1990-2000</th>\n",
       "      <th>1980-1990</th>\n",
       "      <th>1960-1970</th>\n",
       "    </tr>\n",
       "  </thead>\n",
       "  <tbody>\n",
       "    <tr>\n",
       "      <th>Action</th>\n",
       "      <td>11.483655</td>\n",
       "      <td>10.456274</td>\n",
       "      <td>9.916228</td>\n",
       "      <td>10.696798</td>\n",
       "      <td>10.144928</td>\n",
       "      <td>9.009009</td>\n",
       "    </tr>\n",
       "    <tr>\n",
       "      <th>Adventure</th>\n",
       "      <td>6.370495</td>\n",
       "      <td>7.604563</td>\n",
       "      <td>6.604325</td>\n",
       "      <td>6.177024</td>\n",
       "      <td>7.391304</td>\n",
       "      <td>9.909910</td>\n",
       "    </tr>\n",
       "    <tr>\n",
       "      <th>Science Fiction</th>\n",
       "      <td>5.085219</td>\n",
       "      <td>7.984791</td>\n",
       "      <td>4.363920</td>\n",
       "      <td>5.273070</td>\n",
       "      <td>7.463768</td>\n",
       "      <td>3.303303</td>\n",
       "    </tr>\n",
       "    <tr>\n",
       "      <th>Thriller</th>\n",
       "      <td>12.964515</td>\n",
       "      <td>11.977186</td>\n",
       "      <td>12.059225</td>\n",
       "      <td>12.429379</td>\n",
       "      <td>10.144928</td>\n",
       "      <td>7.807808</td>\n",
       "    </tr>\n",
       "    <tr>\n",
       "      <th>Fantasy</th>\n",
       "      <td>3.436714</td>\n",
       "      <td>2.471483</td>\n",
       "      <td>3.682057</td>\n",
       "      <td>4.143126</td>\n",
       "      <td>4.855072</td>\n",
       "      <td>1.801802</td>\n",
       "    </tr>\n",
       "    <tr>\n",
       "      <th>Crime</th>\n",
       "      <td>5.671975</td>\n",
       "      <td>6.844106</td>\n",
       "      <td>5.980908</td>\n",
       "      <td>6.892655</td>\n",
       "      <td>5.652174</td>\n",
       "      <td>5.105105</td>\n",
       "    </tr>\n",
       "    <tr>\n",
       "      <th>Western</th>\n",
       "      <td>0.419111</td>\n",
       "      <td>1.330798</td>\n",
       "      <td>0.428599</td>\n",
       "      <td>0.527307</td>\n",
       "      <td>0.434783</td>\n",
       "      <td>3.003003</td>\n",
       "    </tr>\n",
       "    <tr>\n",
       "      <th>Drama</th>\n",
       "      <td>17.854149</td>\n",
       "      <td>17.870722</td>\n",
       "      <td>17.105007</td>\n",
       "      <td>17.099812</td>\n",
       "      <td>13.768116</td>\n",
       "      <td>18.618619</td>\n",
       "    </tr>\n",
       "    <tr>\n",
       "      <th>Family</th>\n",
       "      <td>3.436714</td>\n",
       "      <td>2.471483</td>\n",
       "      <td>4.266511</td>\n",
       "      <td>4.180791</td>\n",
       "      <td>3.188406</td>\n",
       "      <td>3.903904</td>\n",
       "    </tr>\n",
       "    <tr>\n",
       "      <th>Animation</th>\n",
       "      <td>2.570550</td>\n",
       "      <td>1.901141</td>\n",
       "      <td>2.123515</td>\n",
       "      <td>1.167608</td>\n",
       "      <td>1.014493</td>\n",
       "      <td>1.201201</td>\n",
       "    </tr>\n",
       "    <tr>\n",
       "      <th>Comedy</th>\n",
       "      <td>12.265996</td>\n",
       "      <td>8.174905</td>\n",
       "      <td>13.403468</td>\n",
       "      <td>13.559322</td>\n",
       "      <td>13.043478</td>\n",
       "      <td>9.009009</td>\n",
       "    </tr>\n",
       "    <tr>\n",
       "      <th>Mystery</th>\n",
       "      <td>2.738195</td>\n",
       "      <td>3.041825</td>\n",
       "      <td>3.604130</td>\n",
       "      <td>3.766478</td>\n",
       "      <td>2.101449</td>\n",
       "      <td>3.603604</td>\n",
       "    </tr>\n",
       "    <tr>\n",
       "      <th>Romance</th>\n",
       "      <td>5.336686</td>\n",
       "      <td>3.612167</td>\n",
       "      <td>7.091370</td>\n",
       "      <td>6.629002</td>\n",
       "      <td>6.159420</td>\n",
       "      <td>7.807808</td>\n",
       "    </tr>\n",
       "    <tr>\n",
       "      <th>War</th>\n",
       "      <td>0.922045</td>\n",
       "      <td>2.281369</td>\n",
       "      <td>1.129944</td>\n",
       "      <td>0.753296</td>\n",
       "      <td>1.304348</td>\n",
       "      <td>4.204204</td>\n",
       "    </tr>\n",
       "    <tr>\n",
       "      <th>History</th>\n",
       "      <td>1.117631</td>\n",
       "      <td>1.901141</td>\n",
       "      <td>1.324761</td>\n",
       "      <td>1.205273</td>\n",
       "      <td>1.449275</td>\n",
       "      <td>3.903904</td>\n",
       "    </tr>\n",
       "    <tr>\n",
       "      <th>Music</th>\n",
       "      <td>1.145571</td>\n",
       "      <td>2.281369</td>\n",
       "      <td>1.168907</td>\n",
       "      <td>0.828625</td>\n",
       "      <td>1.811594</td>\n",
       "      <td>2.702703</td>\n",
       "    </tr>\n",
       "    <tr>\n",
       "      <th>Horror</th>\n",
       "      <td>5.951383</td>\n",
       "      <td>7.604563</td>\n",
       "      <td>4.812001</td>\n",
       "      <td>4.331450</td>\n",
       "      <td>9.710145</td>\n",
       "      <td>4.804805</td>\n",
       "    </tr>\n",
       "    <tr>\n",
       "      <th>Documentary</th>\n",
       "      <td>0.866164</td>\n",
       "      <td>NaN</td>\n",
       "      <td>0.487045</td>\n",
       "      <td>0.188324</td>\n",
       "      <td>0.217391</td>\n",
       "      <td>NaN</td>\n",
       "    </tr>\n",
       "    <tr>\n",
       "      <th>TV Movie</th>\n",
       "      <td>0.111763</td>\n",
       "      <td>NaN</td>\n",
       "      <td>0.077927</td>\n",
       "      <td>0.037665</td>\n",
       "      <td>NaN</td>\n",
       "      <td>NaN</td>\n",
       "    </tr>\n",
       "    <tr>\n",
       "      <th>Foreign</th>\n",
       "      <td>0.251467</td>\n",
       "      <td>0.190114</td>\n",
       "      <td>0.370154</td>\n",
       "      <td>0.112994</td>\n",
       "      <td>0.144928</td>\n",
       "      <td>0.300300</td>\n",
       "    </tr>\n",
       "  </tbody>\n",
       "</table>\n",
       "</div>"
      ],
      "text/plain": [
       "                 2010-2020  1970-1980  2000-2010  1990-2000  1980-1990  \\\n",
       "Action           11.483655  10.456274   9.916228  10.696798  10.144928   \n",
       "Adventure         6.370495   7.604563   6.604325   6.177024   7.391304   \n",
       "Science Fiction   5.085219   7.984791   4.363920   5.273070   7.463768   \n",
       "Thriller         12.964515  11.977186  12.059225  12.429379  10.144928   \n",
       "Fantasy           3.436714   2.471483   3.682057   4.143126   4.855072   \n",
       "Crime             5.671975   6.844106   5.980908   6.892655   5.652174   \n",
       "Western           0.419111   1.330798   0.428599   0.527307   0.434783   \n",
       "Drama            17.854149  17.870722  17.105007  17.099812  13.768116   \n",
       "Family            3.436714   2.471483   4.266511   4.180791   3.188406   \n",
       "Animation         2.570550   1.901141   2.123515   1.167608   1.014493   \n",
       "Comedy           12.265996   8.174905  13.403468  13.559322  13.043478   \n",
       "Mystery           2.738195   3.041825   3.604130   3.766478   2.101449   \n",
       "Romance           5.336686   3.612167   7.091370   6.629002   6.159420   \n",
       "War               0.922045   2.281369   1.129944   0.753296   1.304348   \n",
       "History           1.117631   1.901141   1.324761   1.205273   1.449275   \n",
       "Music             1.145571   2.281369   1.168907   0.828625   1.811594   \n",
       "Horror            5.951383   7.604563   4.812001   4.331450   9.710145   \n",
       "Documentary       0.866164        NaN   0.487045   0.188324   0.217391   \n",
       "TV Movie          0.111763        NaN   0.077927   0.037665        NaN   \n",
       "Foreign           0.251467   0.190114   0.370154   0.112994   0.144928   \n",
       "\n",
       "                 1960-1970  \n",
       "Action            9.009009  \n",
       "Adventure         9.909910  \n",
       "Science Fiction   3.303303  \n",
       "Thriller          7.807808  \n",
       "Fantasy           1.801802  \n",
       "Crime             5.105105  \n",
       "Western           3.003003  \n",
       "Drama            18.618619  \n",
       "Family            3.903904  \n",
       "Animation         1.201201  \n",
       "Comedy            9.009009  \n",
       "Mystery           3.603604  \n",
       "Romance           7.807808  \n",
       "War               4.204204  \n",
       "History           3.903904  \n",
       "Music             2.702703  \n",
       "Horror            4.804805  \n",
       "Documentary            NaN  \n",
       "TV Movie               NaN  \n",
       "Foreign           0.300300  "
      ]
     },
     "execution_count": 22,
     "metadata": {},
     "output_type": "execute_result"
    }
   ],
   "source": [
    "df"
   ]
  },
  {
   "cell_type": "code",
   "execution_count": 23,
   "metadata": {},
   "outputs": [
    {
     "data": {
      "text/plain": [
       "Index(['Action', 'Adventure', 'Science Fiction', 'Thriller', 'Fantasy',\n",
       "       'Crime', 'Western', 'Drama', 'Family', 'Animation', 'Comedy', 'Mystery',\n",
       "       'Romance', 'War', 'History', 'Music', 'Horror', 'Documentary',\n",
       "       'TV Movie', 'Foreign'],\n",
       "      dtype='object')"
      ]
     },
     "execution_count": 23,
     "metadata": {},
     "output_type": "execute_result"
    }
   ],
   "source": [
    "df.T.columns"
   ]
  },
  {
   "cell_type": "code",
   "execution_count": 24,
   "metadata": {},
   "outputs": [],
   "source": [
    "a =df.T.sort_index()"
   ]
  },
  {
   "cell_type": "code",
   "execution_count": 25,
   "metadata": {},
   "outputs": [
    {
     "data": {
      "text/plain": [
       "Index(['Action', 'Adventure', 'Science Fiction', 'Thriller', 'Fantasy',\n",
       "       'Crime', 'Western', 'Drama', 'Family', 'Animation', 'Comedy', 'Mystery',\n",
       "       'Romance', 'War', 'History', 'Music', 'Horror', 'Documentary',\n",
       "       'TV Movie', 'Foreign'],\n",
       "      dtype='object')"
      ]
     },
     "execution_count": 25,
     "metadata": {},
     "output_type": "execute_result"
    }
   ],
   "source": [
    "a.columns"
   ]
  },
  {
   "cell_type": "code",
   "execution_count": 26,
   "metadata": {},
   "outputs": [
    {
     "data": {
      "image/png": "[encoded data removed]",
      "text/plain": [
       "<Figure size 432x288 with 1 Axes>"
      ]
     },
     "metadata": {},
     "output_type": "display_data"
    }
   ],
   "source": [
    "## plt.figure(figsize=(10,7))\n",
    "cols =['Action','Adventure','Thriller']\n",
    "a[cols].plot()\n",
    "plt.xlabel(\"Decade\",fontsize = 12)\n",
    "plt.ylabel(\"Percentage of Movies in that genre\",fontsize=12)\n",
    "plt.title(\"Genres Over Time\",fontsize = 15)\n",
    "plt.show()"
   ]
  },
  {
   "cell_type": "code",
   "execution_count": 27,
   "metadata": {},
   "outputs": [
    {
     "data": {
      "text/plain": [
       "2010-2020    100.0\n",
       "1970-1980    100.0\n",
       "2000-2010    100.0\n",
       "1990-2000    100.0\n",
       "1980-1990    100.0\n",
       "1960-1970    100.0\n",
       "dtype: float64"
      ]
     },
     "execution_count": 27,
     "metadata": {},
     "output_type": "execute_result"
    }
   ],
   "source": [
    "df.sum(axis=0)"
   ]
  },
  {
   "cell_type": "code",
   "execution_count": 28,
   "metadata": {},
   "outputs": [
    {
     "data": {
      "text/html": [
       "<div>\n",
       "<style scoped>\n",
       "    .dataframe tbody tr th:only-of-type {\n",
       "        vertical-align: middle;\n",
       "    }\n",
       "\n",
       "    .dataframe tbody tr th {\n",
       "        vertical-align: top;\n",
       "    }\n",
       "\n",
       "    .dataframe thead th {\n",
       "        text-align: right;\n",
       "    }\n",
       "</style>\n",
       "<table border=\"1\" class=\"dataframe\">\n",
       "  <thead>\n",
       "    <tr style=\"text-align: right;\">\n",
       "      <th></th>\n",
       "      <th>2010-2020</th>\n",
       "      <th>1970-1980</th>\n",
       "      <th>2000-2010</th>\n",
       "      <th>1990-2000</th>\n",
       "      <th>1980-1990</th>\n",
       "      <th>1960-1970</th>\n",
       "    </tr>\n",
       "  </thead>\n",
       "  <tbody>\n",
       "    <tr>\n",
       "      <th>Drama</th>\n",
       "      <td>17.854149</td>\n",
       "      <td>17.870722</td>\n",
       "      <td>17.105007</td>\n",
       "      <td>17.099812</td>\n",
       "      <td>13.768116</td>\n",
       "      <td>18.618619</td>\n",
       "    </tr>\n",
       "  </tbody>\n",
       "</table>\n",
       "</div>"
      ],
      "text/plain": [
       "       2010-2020  1970-1980  2000-2010  1990-2000  1980-1990  1960-1970\n",
       "Drama  17.854149  17.870722  17.105007  17.099812  13.768116  18.618619"
      ]
     },
     "execution_count": 28,
     "metadata": {},
     "output_type": "execute_result"
    }
   ],
   "source": [
    "df.nlargest(1,'1960-1970')"
   ]
  },
  {
   "cell_type": "code",
   "execution_count": 29,
   "metadata": {},
   "outputs": [
    {
     "data": {
      "text/plain": [
       "Index(['id', 'imdb_id', 'popularity', 'budget', 'revenue', 'original_title',\n",
       "       'cast', 'homepage', 'director', 'tagline', 'keywords', 'overview',\n",
       "       'runtime', 'genres', 'production_companies', 'release_date',\n",
       "       'vote_count', 'vote_average', 'release_year', 'budget_adj',\n",
       "       'revenue_adj', 'year_of_release', 'decade_of_release',\n",
       "       'month_of_release'],\n",
       "      dtype='object')"
      ]
     },
     "execution_count": 29,
     "metadata": {},
     "output_type": "execute_result"
    }
   ],
   "source": [
    "movie_df.columns"
   ]
  },
  {
   "cell_type": "code",
   "execution_count": 30,
   "metadata": {},
   "outputs": [],
   "source": [
    "genre_score = []\n",
    "curr_genre_score = []\n",
    "for i in range(len(movie_df)):\n",
    "    if type(movie_df.iloc[i]['genres'])==str:\n",
    "        each_movie_genre_score =0\n",
    "        each_movie_curr_genre_score = 0\n",
    "        decade_of_release = movie_df.iloc[i]['decade_of_release']\n",
    "        genres_as_list = movie_df.iloc[i]['genres'].split('|')\n",
    "        for each_genre_in_movie in genres_as_list:\n",
    "            each_movie_genre_score+=df[decade_of_release][each_genre_in_movie]\n",
    "            each_movie_curr_genre_score+=df['2010-2020'][each_genre_in_movie]\n",
    "    else:\n",
    "        each_movie_genre_score = 0\n",
    "        each_movie_curr_genre_score =0\n",
    "    curr_genre_score.append(each_movie_curr_genre_score)\n",
    "    genre_score.append(each_movie_genre_score)\n",
    "movie_df['genre_score'] = genre_score\n",
    "movie_df['curr_genre_score'] = curr_genre_score"
   ]
  },
  {
   "cell_type": "code",
   "execution_count": 31,
   "metadata": {},
   "outputs": [
    {
     "data": {
      "text/plain": [
       "count    5170.000000\n",
       "mean       25.072605\n",
       "std        10.895798\n",
       "min         0.000000\n",
       "25%        17.854149\n",
       "50%        23.526125\n",
       "75%        33.556859\n",
       "max        60.938810\n",
       "Name: curr_genre_score, dtype: float64"
      ]
     },
     "execution_count": 31,
     "metadata": {},
     "output_type": "execute_result"
    }
   ],
   "source": [
    "movie_df['curr_genre_score'].describe()"
   ]
  },
  {
   "cell_type": "code",
   "execution_count": 32,
   "metadata": {},
   "outputs": [
    {
     "data": {
      "text/plain": [
       "count    5170.000000\n",
       "mean       24.962696\n",
       "std        10.640711\n",
       "min         0.000000\n",
       "25%        17.602682\n",
       "50%        23.749651\n",
       "75%        32.768362\n",
       "max        60.677966\n",
       "Name: genre_score, dtype: float64"
      ]
     },
     "execution_count": 32,
     "metadata": {},
     "output_type": "execute_result"
    }
   ],
   "source": [
    "movie_df['genre_score'].describe()"
   ]
  },
  {
   "cell_type": "code",
   "execution_count": 33,
   "metadata": {},
   "outputs": [
    {
     "data": {
      "text/plain": [
       "2010-2020    100.0\n",
       "1970-1980    100.0\n",
       "2000-2010    100.0\n",
       "1990-2000    100.0\n",
       "1980-1990    100.0\n",
       "1960-1970    100.0\n",
       "dtype: float64"
      ]
     },
     "execution_count": 33,
     "metadata": {},
     "output_type": "execute_result"
    }
   ],
   "source": [
    "# Number of movies by decade\n",
    "df.sum(axis = 0, skipna = True) "
   ]
  },
  {
   "cell_type": "markdown",
   "metadata": {},
   "source": [
    "# Inflation Vs Profit"
   ]
  },
  {
   "cell_type": "code",
   "execution_count": 34,
   "metadata": {},
   "outputs": [],
   "source": [
    "inflation_df = pd.read_csv('infla.csv')\n",
    "inflation_df['DATE'] = pd.to_datetime(inflation_df['DATE'])\n",
    "inflation_df[\"year\"] = inflation_df[\"DATE\"].dt.year\n",
    "inflation_df[\"month\"] = inflation_df[\"DATE\"].dt.month"
   ]
  },
  {
   "cell_type": "code",
   "execution_count": 35,
   "metadata": {},
   "outputs": [
    {
     "data": {
      "text/html": [
       "<div>\n",
       "<style scoped>\n",
       "    .dataframe tbody tr th:only-of-type {\n",
       "        vertical-align: middle;\n",
       "    }\n",
       "\n",
       "    .dataframe tbody tr th {\n",
       "        vertical-align: top;\n",
       "    }\n",
       "\n",
       "    .dataframe thead th {\n",
       "        text-align: right;\n",
       "    }\n",
       "</style>\n",
       "<table border=\"1\" class=\"dataframe\">\n",
       "  <thead>\n",
       "    <tr style=\"text-align: right;\">\n",
       "      <th></th>\n",
       "      <th>DATE</th>\n",
       "      <th>CPIAUCNS_NBD19130101</th>\n",
       "      <th>year</th>\n",
       "      <th>month</th>\n",
       "    </tr>\n",
       "  </thead>\n",
       "  <tbody>\n",
       "    <tr>\n",
       "      <th>596</th>\n",
       "      <td>1965-09-01</td>\n",
       "      <td>12.27919</td>\n",
       "      <td>1965</td>\n",
       "      <td>9</td>\n",
       "    </tr>\n",
       "    <tr>\n",
       "      <th>511</th>\n",
       "      <td>1958-08-01</td>\n",
       "      <td>11.23002</td>\n",
       "      <td>1958</td>\n",
       "      <td>8</td>\n",
       "    </tr>\n",
       "    <tr>\n",
       "      <th>1140</th>\n",
       "      <td>2011-01-01</td>\n",
       "      <td>85.57467</td>\n",
       "      <td>2011</td>\n",
       "      <td>1</td>\n",
       "    </tr>\n",
       "  </tbody>\n",
       "</table>\n",
       "</div>"
      ],
      "text/plain": [
       "           DATE  CPIAUCNS_NBD19130101  year  month\n",
       "596  1965-09-01              12.27919  1965      9\n",
       "511  1958-08-01              11.23002  1958      8\n",
       "1140 2011-01-01              85.57467  2011      1"
      ]
     },
     "execution_count": 35,
     "metadata": {},
     "output_type": "execute_result"
    }
   ],
   "source": [
    "inflation_df.sample(3)"
   ]
  },
  {
   "cell_type": "code",
   "execution_count": 36,
   "metadata": {},
   "outputs": [
    {
     "data": {
      "text/plain": [
       "Index(['id', 'imdb_id', 'popularity', 'budget', 'revenue', 'original_title',\n",
       "       'cast', 'homepage', 'director', 'tagline', 'keywords', 'overview',\n",
       "       'runtime', 'genres', 'production_companies', 'release_date',\n",
       "       'vote_count', 'vote_average', 'release_year', 'budget_adj',\n",
       "       'revenue_adj', 'year_of_release', 'decade_of_release',\n",
       "       'month_of_release', 'genre_score', 'curr_genre_score'],\n",
       "      dtype='object')"
      ]
     },
     "execution_count": 36,
     "metadata": {},
     "output_type": "execute_result"
    }
   ],
   "source": [
    "movie_df.columns"
   ]
  },
  {
   "cell_type": "code",
   "execution_count": 37,
   "metadata": {},
   "outputs": [
    {
     "name": "stderr",
     "output_type": "stream",
     "text": [
      "/Users/mvsnbharath/anaconda3/lib/python3.7/site-packages/ipykernel_launcher.py:6: UserWarning: Boolean Series key will be reindexed to match DataFrame index.\n",
      "  \n",
      "/Users/mvsnbharath/anaconda3/lib/python3.7/site-packages/ipykernel_launcher.py:6: FutureWarning: `item` has been deprecated and will be removed in a future version\n",
      "  \n"
     ]
    }
   ],
   "source": [
    "inflated_budget =[]\n",
    "inflated_revenue = []\n",
    "inflated_profit = []\n",
    "\n",
    "for i in range(len(movie_df)):\n",
    "    cpi = inflation_df.loc[inflation_df.year == movie_df.iloc[i].year_of_release][inflation_df.month == movie_df.iloc[i].month_of_release]['CPIAUCNS_NBD19130101'].item()\n",
    "    inflated_budget.append(movie_df.iloc[i].budget/cpi)\n",
    "    inflated_revenue.append(movie_df.iloc[i].revenue/cpi)\n",
    "\n",
    "movie_df['inflated_budget'] = inflated_budget\n",
    "movie_df['inflated_revenue'] = inflated_revenue\n",
    "movie_df['inflated_profit'] = movie_df['inflated_revenue'] -movie_df['inflated_budget']"
   ]
  },
  {
   "cell_type": "code",
   "execution_count": 38,
   "metadata": {},
   "outputs": [
    {
     "data": {
      "text/html": [
       "<div>\n",
       "<style scoped>\n",
       "    .dataframe tbody tr th:only-of-type {\n",
       "        vertical-align: middle;\n",
       "    }\n",
       "\n",
       "    .dataframe tbody tr th {\n",
       "        vertical-align: top;\n",
       "    }\n",
       "\n",
       "    .dataframe thead th {\n",
       "        text-align: right;\n",
       "    }\n",
       "</style>\n",
       "<table border=\"1\" class=\"dataframe\">\n",
       "  <thead>\n",
       "    <tr style=\"text-align: right;\">\n",
       "      <th></th>\n",
       "      <th>inflated_budget</th>\n",
       "      <th>inflated_revenue</th>\n",
       "      <th>inflated_profit</th>\n",
       "    </tr>\n",
       "  </thead>\n",
       "  <tbody>\n",
       "    <tr>\n",
       "      <th>1491</th>\n",
       "      <td>2.384666e+05</td>\n",
       "      <td>6.213233e+04</td>\n",
       "      <td>-1.763343e+05</td>\n",
       "    </tr>\n",
       "    <tr>\n",
       "      <th>2008</th>\n",
       "      <td>1.179523e+06</td>\n",
       "      <td>3.401128e+06</td>\n",
       "      <td>2.221605e+06</td>\n",
       "    </tr>\n",
       "    <tr>\n",
       "      <th>4189</th>\n",
       "      <td>9.467578e+05</td>\n",
       "      <td>3.383665e+06</td>\n",
       "      <td>2.436907e+06</td>\n",
       "    </tr>\n",
       "  </tbody>\n",
       "</table>\n",
       "</div>"
      ],
      "text/plain": [
       "      inflated_budget  inflated_revenue  inflated_profit\n",
       "1491     2.384666e+05      6.213233e+04    -1.763343e+05\n",
       "2008     1.179523e+06      3.401128e+06     2.221605e+06\n",
       "4189     9.467578e+05      3.383665e+06     2.436907e+06"
      ]
     },
     "execution_count": 38,
     "metadata": {},
     "output_type": "execute_result"
    }
   ],
   "source": [
    "cols =['inflated_budget','inflated_revenue','inflated_profit']\n",
    "movie_df[cols].sample(3)"
   ]
  },
  {
   "cell_type": "markdown",
   "metadata": {},
   "source": [
    "# Length Vs Decade"
   ]
  },
  {
   "cell_type": "code",
   "execution_count": 39,
   "metadata": {},
   "outputs": [
    {
     "data": {
      "text/plain": [
       "count    5170.000000\n",
       "mean      107.093230\n",
       "std        22.808798\n",
       "min         0.000000\n",
       "25%        93.000000\n",
       "50%       103.000000\n",
       "75%       117.000000\n",
       "max       540.000000\n",
       "Name: runtime, dtype: float64"
      ]
     },
     "execution_count": 39,
     "metadata": {},
     "output_type": "execute_result"
    }
   ],
   "source": [
    "movie_df.runtime.describe()"
   ]
  },
  {
   "cell_type": "code",
   "execution_count": 40,
   "metadata": {},
   "outputs": [],
   "source": [
    "# cat1 = [0-90]\n",
    "# cat2 = [91-120]\n",
    "# cat3 = [>120]"
   ]
  },
  {
   "cell_type": "code",
   "execution_count": 41,
   "metadata": {},
   "outputs": [],
   "source": [
    "def get_category_by_length(duration):\n",
    "    if duration>=0 and duration <90:\n",
    "        return \"Less (dur)\"\n",
    "    elif duration >=90 and duration<120:\n",
    "        return \"Med (dur)\"\n",
    "    else:\n",
    "        return \"Long (dur)\""
   ]
  },
  {
   "cell_type": "code",
   "execution_count": 42,
   "metadata": {},
   "outputs": [],
   "source": [
    "duration_by_decade = collections.OrderedDict()\n",
    "for i in range(len(movie_df)):\n",
    "    decade = movie_df.iloc[i]['decade_of_release']\n",
    "    if decade not in duration_by_decade:\n",
    "        duration_by_decade[decade] = {}\n",
    "    movie_duration_category = get_category_by_length(movie_df.iloc[i]['runtime'])\n",
    "    if movie_duration_category not in duration_by_decade[decade]:\n",
    "        duration_by_decade[decade][movie_duration_category] =1\n",
    "    else:\n",
    "        duration_by_decade[decade][movie_duration_category]+=1"
   ]
  },
  {
   "cell_type": "code",
   "execution_count": 43,
   "metadata": {},
   "outputs": [
    {
     "data": {
      "text/html": [
       "<div>\n",
       "<style scoped>\n",
       "    .dataframe tbody tr th:only-of-type {\n",
       "        vertical-align: middle;\n",
       "    }\n",
       "\n",
       "    .dataframe tbody tr th {\n",
       "        vertical-align: top;\n",
       "    }\n",
       "\n",
       "    .dataframe thead th {\n",
       "        text-align: right;\n",
       "    }\n",
       "</style>\n",
       "<table border=\"1\" class=\"dataframe\">\n",
       "  <thead>\n",
       "    <tr style=\"text-align: right;\">\n",
       "      <th></th>\n",
       "      <th>1960-1970</th>\n",
       "      <th>1970-1980</th>\n",
       "      <th>1980-1990</th>\n",
       "      <th>1990-2000</th>\n",
       "      <th>2000-2010</th>\n",
       "      <th>2010-2020</th>\n",
       "    </tr>\n",
       "  </thead>\n",
       "  <tbody>\n",
       "    <tr>\n",
       "      <th>Long (dur)</th>\n",
       "      <td>63</td>\n",
       "      <td>67</td>\n",
       "      <td>89</td>\n",
       "      <td>256</td>\n",
       "      <td>390</td>\n",
       "      <td>258</td>\n",
       "    </tr>\n",
       "    <tr>\n",
       "      <th>Med (dur)</th>\n",
       "      <td>41</td>\n",
       "      <td>109</td>\n",
       "      <td>343</td>\n",
       "      <td>579</td>\n",
       "      <td>1258</td>\n",
       "      <td>993</td>\n",
       "    </tr>\n",
       "    <tr>\n",
       "      <th>Less (dur)</th>\n",
       "      <td>20</td>\n",
       "      <td>27</td>\n",
       "      <td>74</td>\n",
       "      <td>114</td>\n",
       "      <td>267</td>\n",
       "      <td>222</td>\n",
       "    </tr>\n",
       "  </tbody>\n",
       "</table>\n",
       "</div>"
      ],
      "text/plain": [
       "            1960-1970  1970-1980  1980-1990  1990-2000  2000-2010  2010-2020\n",
       "Long (dur)         63         67         89        256        390        258\n",
       "Med (dur)          41        109        343        579       1258        993\n",
       "Less (dur)         20         27         74        114        267        222"
      ]
     },
     "execution_count": 43,
     "metadata": {},
     "output_type": "execute_result"
    }
   ],
   "source": [
    "df = pd.DataFrame(duration_by_decade)\n",
    "cols= sorted(list(df.columns))\n",
    "df[cols]"
   ]
  },
  {
   "cell_type": "code",
   "execution_count": 44,
   "metadata": {},
   "outputs": [
    {
     "data": {
      "image/png": "[encoded data removed]",
      "text/plain": [
       "<Figure size 720x504 with 1 Axes>"
      ]
     },
     "metadata": {},
     "output_type": "display_data"
    }
   ],
   "source": [
    "plt.figure(figsize=(10,7))\n",
    "ax = plt.gca()\n",
    "\n",
    "df.plot(kind='line',y='1960-1970',ax=ax)\n",
    "df.plot(kind='line',y='1970-1980',ax=ax)\n",
    "df.plot(kind='line',y='1980-1990',ax=ax)\n",
    "df.plot(kind='line',y='1990-2000',ax=ax)\n",
    "df.plot(kind='line',y='2000-2010',ax=ax)\n",
    "df.plot(kind='line',y='2010-2020',ax=ax)\n",
    "\n",
    "plt.title(\"How Duration of Movies Varied with Time\",fontsize=15)\n",
    "plt.xlabel(\"Types of Duration\",fontsize=12)\n",
    "plt.ylabel(\"Count (No f Movies)\",fontsize=12)\n",
    "\n",
    "plt.show()"
   ]
  },
  {
   "cell_type": "code",
   "execution_count": 45,
   "metadata": {},
   "outputs": [
    {
     "data": {
      "text/html": [
       "<div>\n",
       "<style scoped>\n",
       "    .dataframe tbody tr th:only-of-type {\n",
       "        vertical-align: middle;\n",
       "    }\n",
       "\n",
       "    .dataframe tbody tr th {\n",
       "        vertical-align: top;\n",
       "    }\n",
       "\n",
       "    .dataframe thead th {\n",
       "        text-align: right;\n",
       "    }\n",
       "</style>\n",
       "<table border=\"1\" class=\"dataframe\">\n",
       "  <thead>\n",
       "    <tr style=\"text-align: right;\">\n",
       "      <th></th>\n",
       "      <th>1960-1970</th>\n",
       "      <th>1970-1980</th>\n",
       "      <th>1980-1990</th>\n",
       "      <th>1990-2000</th>\n",
       "      <th>2000-2010</th>\n",
       "      <th>2010-2020</th>\n",
       "    </tr>\n",
       "  </thead>\n",
       "  <tbody>\n",
       "    <tr>\n",
       "      <th>Long (dur)</th>\n",
       "      <td>50.806452</td>\n",
       "      <td>33.004926</td>\n",
       "      <td>17.588933</td>\n",
       "      <td>26.975764</td>\n",
       "      <td>20.365535</td>\n",
       "      <td>17.515275</td>\n",
       "    </tr>\n",
       "    <tr>\n",
       "      <th>Med (dur)</th>\n",
       "      <td>33.064516</td>\n",
       "      <td>53.694581</td>\n",
       "      <td>67.786561</td>\n",
       "      <td>61.011591</td>\n",
       "      <td>65.691906</td>\n",
       "      <td>67.413442</td>\n",
       "    </tr>\n",
       "    <tr>\n",
       "      <th>Less (dur)</th>\n",
       "      <td>16.129032</td>\n",
       "      <td>13.300493</td>\n",
       "      <td>14.624506</td>\n",
       "      <td>12.012645</td>\n",
       "      <td>13.942559</td>\n",
       "      <td>15.071283</td>\n",
       "    </tr>\n",
       "  </tbody>\n",
       "</table>\n",
       "</div>"
      ],
      "text/plain": [
       "            1960-1970  1970-1980  1980-1990  1990-2000  2000-2010  2010-2020\n",
       "Long (dur)  50.806452  33.004926  17.588933  26.975764  20.365535  17.515275\n",
       "Med (dur)   33.064516  53.694581  67.786561  61.011591  65.691906  67.413442\n",
       "Less (dur)  16.129032  13.300493  14.624506  12.012645  13.942559  15.071283"
      ]
     },
     "execution_count": 45,
     "metadata": {},
     "output_type": "execute_result"
    }
   ],
   "source": [
    "df_with_dur_scores = df.copy()\n",
    "columns = list(df.columns)\n",
    "for column in columns:\n",
    "    df_with_dur_scores[column] = 100*df_with_dur_scores[column] /  df_with_dur_scores[column].sum()\n",
    "cols= sorted(list(df.columns))\n",
    "df_with_dur_scores[cols]"
   ]
  },
  {
   "cell_type": "code",
   "execution_count": 46,
   "metadata": {},
   "outputs": [],
   "source": [
    "dur_score = []\n",
    "for i in range(len(movie_df)):\n",
    "    decade_of_release = movie_df.iloc[i]['decade_of_release']\n",
    "    d_score = df_with_dur_scores[decade_of_release][get_category_by_length(movie_df.iloc[i]['runtime'])]\n",
    "    dur_score.append(d_score)\n",
    "movie_df['dur_score'] = dur_score"
   ]
  },
  {
   "cell_type": "code",
   "execution_count": 47,
   "metadata": {},
   "outputs": [
    {
     "data": {
      "text/plain": [
       "81      15.071283\n",
       "4423    67.413442\n",
       "Name: dur_score, dtype: float64"
      ]
     },
     "execution_count": 47,
     "metadata": {},
     "output_type": "execute_result"
    }
   ],
   "source": [
    "movie_df['dur_score'].sample(2)"
   ]
  },
  {
   "cell_type": "code",
   "execution_count": 48,
   "metadata": {},
   "outputs": [],
   "source": [
    "directors_list = pd.read_csv('directors_list.csv', encoding='latin-1')\n",
    "movie_df_dirNew = pd.merge(movie_df,directors_list,left_on='director',right_on='Name', how='left') "
   ]
  },
  {
   "cell_type": "code",
   "execution_count": 49,
   "metadata": {},
   "outputs": [],
   "source": [
    "movie_df_dirNew['Description'].isna().sum()\n",
    "\n",
    "movie_df_dirNew['cast'] = movie_df_dirNew['cast'].astype('str')\n",
    "actors_df = pd.read_csv('actors_list.csv', encoding='latin-1')\n",
    "actress_df = pd.read_csv('actress_list.csv', encoding='latin-1')\n",
    "actress_df = actress_df.drop(['Position', 'Const', 'Created', 'Modified','Known For', 'Birth Date'], axis=1)\n",
    "actors_df = actors_df.drop(['Position', 'Const', 'Created', 'Modified','Known For', 'Birth Date'], axis=1)\n",
    "cast_df = pd.concat([actors_df, actress_df],axis=0)\n",
    "cast_df['Description'] = cast_df['Description'].apply(pd.to_numeric)\n",
    "cast_df_new = dict(zip(cast_df.Name, cast_df.Description))\n",
    "movie_df_dirNew['cast_points'] = 0"
   ]
  },
  {
   "cell_type": "code",
   "execution_count": 50,
   "metadata": {},
   "outputs": [],
   "source": [
    "l = []\n",
    "for index, row in movie_df_dirNew.iterrows():\n",
    "    s = row['cast']\n",
    "    x= s.split('|')\n",
    "    if len(x)>3:\n",
    "        x=x[:3]\n",
    "    count = 0\n",
    "    sum =0\n",
    "    for i in x:\n",
    "        if i in cast_df_new:\n",
    "            sum = sum + int(cast_df_new.get(i))\n",
    "        else:\n",
    "            sum = sum + 0\n",
    "    l.append(sum)"
   ]
  },
  {
   "cell_type": "code",
   "execution_count": 51,
   "metadata": {},
   "outputs": [],
   "source": [
    "movie_df_dirNew['cast_points'] = pd.Series(l)\n",
    "\n",
    "movie_df_dirNew['cast_points'].isnull().sum()\n",
    "\n",
    "companies_df = pd.read_csv('production_companies_data.csv', encoding='latin-1')\n",
    "\n",
    "companies_df['score'] = companies_df['count']+(companies_df['domestic']/10000000)+(companies_df['worldwide']/10000000)\n",
    "\n",
    "mydict_prod = dict(zip(companies_df.Company_name, companies_df.score))\n",
    "movie_df_dirNew['production_points'] = 0\n",
    "movie_df_dirNew['production_companies'] = movie_df_dirNew['production_companies'].astype('str')"
   ]
  },
  {
   "cell_type": "code",
   "execution_count": 52,
   "metadata": {},
   "outputs": [
    {
     "data": {
      "text/plain": [
       "0       4693.446534\n",
       "1          0.000000\n",
       "2          0.000000\n",
       "3       1943.631948\n",
       "4       2473.997248\n",
       "           ...     \n",
       "5191       0.000000\n",
       "5192       0.000000\n",
       "5193       0.000000\n",
       "5194    6066.473052\n",
       "5195       0.000000\n",
       "Name: production_points, Length: 5196, dtype: float64"
      ]
     },
     "execution_count": 52,
     "metadata": {},
     "output_type": "execute_result"
    }
   ],
   "source": [
    "l = []\n",
    "for index, row in movie_df_dirNew.iterrows():\n",
    "    s = row['production_companies']\n",
    "    x=s.split('|')\n",
    "    sum =0\n",
    "    for i in x:\n",
    "        if i in mydict_prod:\n",
    "            sum = sum + mydict_prod.get(i)\n",
    "    else:\n",
    "        sum = sum + 0\n",
    "    l.append(sum)\n",
    "    \n",
    "movie_df_dirNew['production_points'] = pd.Series(l)\n",
    "movie_df_dirNew['production_points']"
   ]
  },
  {
   "cell_type": "markdown",
   "metadata": {},
   "source": [
    "Oscar data"
   ]
  },
  {
   "cell_type": "code",
   "execution_count": 53,
   "metadata": {},
   "outputs": [],
   "source": [
    "awards_df = pd.read_csv('awards.csv', encoding='latin-1')"
   ]
  },
  {
   "cell_type": "code",
   "execution_count": 54,
   "metadata": {},
   "outputs": [
    {
     "data": {
      "text/plain": [
       "Index(['Year', 'Ceremony', 'Award', 'Winner', 'Unnamed: 4', 'Name', 'value'], dtype='object')"
      ]
     },
     "execution_count": 54,
     "metadata": {},
     "output_type": "execute_result"
    }
   ],
   "source": [
    "awards_df.columns"
   ]
  },
  {
   "cell_type": "code",
   "execution_count": 55,
   "metadata": {},
   "outputs": [
    {
     "data": {
      "text/plain": [
       "0       0.0\n",
       "1       0.0\n",
       "2       0.0\n",
       "3       0.0\n",
       "4       0.0\n",
       "       ... \n",
       "9959    0.0\n",
       "9960    0.0\n",
       "9961    1.0\n",
       "9962    1.0\n",
       "9963    0.0\n",
       "Name: Winner, Length: 9964, dtype: float64"
      ]
     },
     "execution_count": 55,
     "metadata": {},
     "output_type": "execute_result"
    }
   ],
   "source": [
    "awards_df['Winner'].fillna(0)"
   ]
  },
  {
   "cell_type": "code",
   "execution_count": 56,
   "metadata": {},
   "outputs": [],
   "source": [
    "awards_df_new = awards_df.groupby('Name').agg({'Winner':'sum'})"
   ]
  },
  {
   "cell_type": "code",
   "execution_count": 57,
   "metadata": {},
   "outputs": [
    {
     "data": {
      "text/plain": [
       "(6363, 1)"
      ]
     },
     "execution_count": 57,
     "metadata": {},
     "output_type": "execute_result"
    }
   ],
   "source": [
    "awards_df_new.shape"
   ]
  },
  {
   "cell_type": "code",
   "execution_count": 58,
   "metadata": {},
   "outputs": [
    {
     "data": {
      "text/plain": [
       "(5196, 36)"
      ]
     },
     "execution_count": 58,
     "metadata": {},
     "output_type": "execute_result"
    }
   ],
   "source": [
    "movie_df_dirNew.shape"
   ]
  },
  {
   "cell_type": "code",
   "execution_count": 59,
   "metadata": {},
   "outputs": [],
   "source": [
    "movie_df_dirNew=pd.merge(movie_df_dirNew,awards_df_new,on='Name', how='left') "
   ]
  },
  {
   "cell_type": "code",
   "execution_count": 60,
   "metadata": {},
   "outputs": [
    {
     "data": {
      "text/plain": [
       "(5196, 37)"
      ]
     },
     "execution_count": 60,
     "metadata": {},
     "output_type": "execute_result"
    }
   ],
   "source": [
    "movie_df_dirNew.shape"
   ]
  },
  {
   "cell_type": "code",
   "execution_count": 61,
   "metadata": {},
   "outputs": [
    {
     "data": {
      "text/plain": [
       "4256"
      ]
     },
     "execution_count": 61,
     "metadata": {},
     "output_type": "execute_result"
    }
   ],
   "source": [
    "movie_df_dirNew['Winner'].isna().sum()"
   ]
  },
  {
   "cell_type": "code",
   "execution_count": 62,
   "metadata": {},
   "outputs": [],
   "source": [
    "movie_df_dirNew['Winner'].fillna(-1,inplace=True)"
   ]
  },
  {
   "cell_type": "code",
   "execution_count": 63,
   "metadata": {},
   "outputs": [
    {
     "data": {
      "text/plain": [
       "Index(['id', 'imdb_id', 'popularity', 'budget', 'revenue', 'original_title',\n",
       "       'cast', 'homepage', 'director', 'tagline', 'keywords', 'overview',\n",
       "       'runtime', 'genres', 'production_companies', 'release_date',\n",
       "       'vote_count', 'vote_average', 'release_year', 'budget_adj',\n",
       "       'revenue_adj', 'year_of_release', 'decade_of_release',\n",
       "       'month_of_release', 'genre_score', 'curr_genre_score',\n",
       "       'inflated_budget', 'inflated_revenue', 'inflated_profit', 'dur_score',\n",
       "       'Position', 'Description', 'Name', 's', 'cast_points',\n",
       "       'production_points', 'Winner'],\n",
       "      dtype='object')"
      ]
     },
     "execution_count": 63,
     "metadata": {},
     "output_type": "execute_result"
    }
   ],
   "source": [
    "movie_df_dirNew.columns"
   ]
  },
  {
   "cell_type": "code",
   "execution_count": 64,
   "metadata": {},
   "outputs": [],
   "source": [
    "df_endurance = movie_df_dirNew.copy()"
   ]
  },
  {
   "cell_type": "code",
   "execution_count": 65,
   "metadata": {},
   "outputs": [
    {
     "data": {
      "text/html": [
       "<div>\n",
       "<style scoped>\n",
       "    .dataframe tbody tr th:only-of-type {\n",
       "        vertical-align: middle;\n",
       "    }\n",
       "\n",
       "    .dataframe tbody tr th {\n",
       "        vertical-align: top;\n",
       "    }\n",
       "\n",
       "    .dataframe thead th {\n",
       "        text-align: right;\n",
       "    }\n",
       "</style>\n",
       "<table border=\"1\" class=\"dataframe\">\n",
       "  <thead>\n",
       "    <tr style=\"text-align: right;\">\n",
       "      <th></th>\n",
       "      <th>budget_adj</th>\n",
       "      <th>genre_score</th>\n",
       "      <th>dur_score</th>\n",
       "    </tr>\n",
       "  </thead>\n",
       "  <tbody>\n",
       "    <tr>\n",
       "      <th>3811</th>\n",
       "      <td>1.469329e+07</td>\n",
       "      <td>19.927536</td>\n",
       "      <td>67.786561</td>\n",
       "    </tr>\n",
       "    <tr>\n",
       "      <th>3459</th>\n",
       "      <td>2.308891e+07</td>\n",
       "      <td>18.273914</td>\n",
       "      <td>20.365535</td>\n",
       "    </tr>\n",
       "    <tr>\n",
       "      <th>1379</th>\n",
       "      <td>2.025573e+06</td>\n",
       "      <td>20.358465</td>\n",
       "      <td>65.691906</td>\n",
       "    </tr>\n",
       "  </tbody>\n",
       "</table>\n",
       "</div>"
      ],
      "text/plain": [
       "        budget_adj  genre_score  dur_score\n",
       "3811  1.469329e+07    19.927536  67.786561\n",
       "3459  2.308891e+07    18.273914  20.365535\n",
       "1379  2.025573e+06    20.358465  65.691906"
      ]
     },
     "execution_count": 65,
     "metadata": {},
     "output_type": "execute_result"
    }
   ],
   "source": [
    "cols = ['budget_adj','genre_score','dur_score']\n",
    "df_old = movie_df_dirNew[cols]\n",
    "df_old.sample(3)\n"
   ]
  },
  {
   "cell_type": "code",
   "execution_count": 66,
   "metadata": {},
   "outputs": [],
   "source": [
    "from sklearn import preprocessing"
   ]
  },
  {
   "cell_type": "code",
   "execution_count": 67,
   "metadata": {},
   "outputs": [
    {
     "data": {
      "text/html": [
       "<div>\n",
       "<style scoped>\n",
       "    .dataframe tbody tr th:only-of-type {\n",
       "        vertical-align: middle;\n",
       "    }\n",
       "\n",
       "    .dataframe tbody tr th {\n",
       "        vertical-align: top;\n",
       "    }\n",
       "\n",
       "    .dataframe thead th {\n",
       "        text-align: right;\n",
       "    }\n",
       "</style>\n",
       "<table border=\"1\" class=\"dataframe\">\n",
       "  <thead>\n",
       "    <tr style=\"text-align: right;\">\n",
       "      <th></th>\n",
       "      <th>budget_adj</th>\n",
       "      <th>genre_score</th>\n",
       "      <th>dur_score</th>\n",
       "    </tr>\n",
       "  </thead>\n",
       "  <tbody>\n",
       "    <tr>\n",
       "      <th>count</th>\n",
       "      <td>5196.000000</td>\n",
       "      <td>5196.000000</td>\n",
       "      <td>5196.000000</td>\n",
       "    </tr>\n",
       "    <tr>\n",
       "      <th>mean</th>\n",
       "      <td>0.086995</td>\n",
       "      <td>0.411507</td>\n",
       "      <td>0.658534</td>\n",
       "    </tr>\n",
       "    <tr>\n",
       "      <th>std</th>\n",
       "      <td>0.098851</td>\n",
       "      <td>0.175217</td>\n",
       "      <td>0.401399</td>\n",
       "    </tr>\n",
       "    <tr>\n",
       "      <th>min</th>\n",
       "      <td>0.000000</td>\n",
       "      <td>0.000000</td>\n",
       "      <td>0.000000</td>\n",
       "    </tr>\n",
       "    <tr>\n",
       "      <th>25%</th>\n",
       "      <td>0.019064</td>\n",
       "      <td>0.290100</td>\n",
       "      <td>0.149763</td>\n",
       "    </tr>\n",
       "    <tr>\n",
       "      <th>50%</th>\n",
       "      <td>0.053618</td>\n",
       "      <td>0.391405</td>\n",
       "      <td>0.962444</td>\n",
       "    </tr>\n",
       "    <tr>\n",
       "      <th>75%</th>\n",
       "      <td>0.118224</td>\n",
       "      <td>0.540037</td>\n",
       "      <td>0.993310</td>\n",
       "    </tr>\n",
       "    <tr>\n",
       "      <th>max</th>\n",
       "      <td>1.000000</td>\n",
       "      <td>1.000000</td>\n",
       "      <td>1.000000</td>\n",
       "    </tr>\n",
       "  </tbody>\n",
       "</table>\n",
       "</div>"
      ],
      "text/plain": [
       "        budget_adj  genre_score    dur_score\n",
       "count  5196.000000  5196.000000  5196.000000\n",
       "mean      0.086995     0.411507     0.658534\n",
       "std       0.098851     0.175217     0.401399\n",
       "min       0.000000     0.000000     0.000000\n",
       "25%       0.019064     0.290100     0.149763\n",
       "50%       0.053618     0.391405     0.962444\n",
       "75%       0.118224     0.540037     0.993310\n",
       "max       1.000000     1.000000     1.000000"
      ]
     },
     "execution_count": 67,
     "metadata": {},
     "output_type": "execute_result"
    }
   ],
   "source": [
    "df_scaler = df_old.copy()\n",
    "ss = preprocessing.MinMaxScaler()\n",
    "df_scaler = pd.DataFrame(ss.fit_transform(df_old))\n",
    "columnNames = df_old.columns.to_list()\n",
    "df_scaler.columns = columnNames\n",
    "df_scaler.describe()"
   ]
  },
  {
   "cell_type": "code",
   "execution_count": 68,
   "metadata": {},
   "outputs": [],
   "source": [
    "weight_scale={\n",
    "    \"budget_adj\"     : 6, \n",
    "    \"genre_score\"    : 3,\n",
    "    \"dur_score\"      : 1, \n",
    "}\n",
    "for k,v in weight_scale.items():\n",
    "    df_scaler[k] = df_scaler[k] * v\n",
    "df_endurance['old_pop_score'] = np.sqrt(np.sum(np.square(df_scaler), axis=1))"
   ]
  },
  {
   "cell_type": "code",
   "execution_count": 69,
   "metadata": {},
   "outputs": [
    {
     "data": {
      "text/plain": [
       "count    5196.000000\n",
       "mean        1.640155\n",
       "std         0.573735\n",
       "min         0.015016\n",
       "25%         1.267272\n",
       "50%         1.564290\n",
       "75%         2.020677\n",
       "max         6.318676\n",
       "Name: old_pop_score, dtype: float64"
      ]
     },
     "execution_count": 69,
     "metadata": {},
     "output_type": "execute_result"
    }
   ],
   "source": [
    "df_endurance.old_pop_score.describe()"
   ]
  },
  {
   "cell_type": "code",
   "execution_count": 70,
   "metadata": {},
   "outputs": [],
   "source": [
    "x = df_endurance[['old_pop_score']].values.astype(float)\n",
    "\n",
    "# Create a minimum and maximum processor object\n",
    "min_max_scaler = preprocessing.MinMaxScaler()\n",
    "\n",
    "# Create an object to transform the data to fit minmax processor\n",
    "x_scaled = min_max_scaler.fit_transform(x)\n",
    "\n",
    "# Run the normalizer on the dataframe\n",
    "df_normalized = pd.DataFrame(x_scaled)\n",
    "df_normalized.columns = ['old_pop_score']\n",
    "df_endurance['old_pop_score'] = df_normalized['old_pop_score']*10"
   ]
  },
  {
   "cell_type": "code",
   "execution_count": 71,
   "metadata": {},
   "outputs": [
    {
     "data": {
      "text/plain": [
       "count    5196.000000\n",
       "mean        2.578089\n",
       "std         0.910161\n",
       "min         0.000000\n",
       "25%         1.986554\n",
       "50%         2.457737\n",
       "75%         3.181741\n",
       "max        10.000000\n",
       "Name: old_pop_score, dtype: float64"
      ]
     },
     "execution_count": 71,
     "metadata": {},
     "output_type": "execute_result"
    }
   ],
   "source": [
    "df_endurance.old_pop_score.describe()"
   ]
  },
  {
   "cell_type": "code",
   "execution_count": 72,
   "metadata": {},
   "outputs": [
    {
     "data": {
      "image/png": "[encoded data removed]",
      "text/plain": [
       "<Figure size 720x504 with 1 Axes>"
      ]
     },
     "metadata": {},
     "output_type": "display_data"
    }
   ],
   "source": [
    "plt.figure(figsize=(10,7))\n",
    "sns.distplot(df_endurance.old_pop_score)\n",
    "plt.xlabel(\"Popularity Score\",fontsize = 12)\n",
    "plt.title(\"Distribution of Movie Popularity at the time of release\",fontsize = 20)\n",
    "plt.show()"
   ]
  },
  {
   "cell_type": "code",
   "execution_count": 73,
   "metadata": {},
   "outputs": [
    {
     "data": {
      "text/html": [
       "<div>\n",
       "<style scoped>\n",
       "    .dataframe tbody tr th:only-of-type {\n",
       "        vertical-align: middle;\n",
       "    }\n",
       "\n",
       "    .dataframe tbody tr th {\n",
       "        vertical-align: top;\n",
       "    }\n",
       "\n",
       "    .dataframe thead th {\n",
       "        text-align: right;\n",
       "    }\n",
       "</style>\n",
       "<table border=\"1\" class=\"dataframe\">\n",
       "  <thead>\n",
       "    <tr style=\"text-align: right;\">\n",
       "      <th></th>\n",
       "      <th>vote_average</th>\n",
       "      <th>curr_genre_score</th>\n",
       "      <th>cast_points</th>\n",
       "      <th>production_points</th>\n",
       "      <th>inflated_profit</th>\n",
       "    </tr>\n",
       "  </thead>\n",
       "  <tbody>\n",
       "    <tr>\n",
       "      <th>1413</th>\n",
       "      <td>6.0</td>\n",
       "      <td>12.964515</td>\n",
       "      <td>3697</td>\n",
       "      <td>0.000000</td>\n",
       "      <td>-2.898742e+04</td>\n",
       "    </tr>\n",
       "    <tr>\n",
       "      <th>3499</th>\n",
       "      <td>5.8</td>\n",
       "      <td>23.749651</td>\n",
       "      <td>33028</td>\n",
       "      <td>0.000000</td>\n",
       "      <td>1.156134e+05</td>\n",
       "    </tr>\n",
       "    <tr>\n",
       "      <th>2451</th>\n",
       "      <td>6.9</td>\n",
       "      <td>25.677564</td>\n",
       "      <td>64611</td>\n",
       "      <td>6379.980627</td>\n",
       "      <td>1.300685e+06</td>\n",
       "    </tr>\n",
       "    <tr>\n",
       "      <th>3761</th>\n",
       "      <td>7.1</td>\n",
       "      <td>23.526125</td>\n",
       "      <td>0</td>\n",
       "      <td>0.000000</td>\n",
       "      <td>-1.448865e+04</td>\n",
       "    </tr>\n",
       "  </tbody>\n",
       "</table>\n",
       "</div>"
      ],
      "text/plain": [
       "      vote_average  curr_genre_score  cast_points  production_points  \\\n",
       "1413           6.0         12.964515         3697           0.000000   \n",
       "3499           5.8         23.749651        33028           0.000000   \n",
       "2451           6.9         25.677564        64611        6379.980627   \n",
       "3761           7.1         23.526125            0           0.000000   \n",
       "\n",
       "      inflated_profit  \n",
       "1413    -2.898742e+04  \n",
       "3499     1.156134e+05  \n",
       "2451     1.300685e+06  \n",
       "3761    -1.448865e+04  "
      ]
     },
     "execution_count": 73,
     "metadata": {},
     "output_type": "execute_result"
    }
   ],
   "source": [
    "cols = ['vote_average','curr_genre_score','cast_points','production_points','inflated_profit']\n",
    "df_new = movie_df_dirNew[cols]\n",
    "df_new.sample(4)"
   ]
  },
  {
   "cell_type": "code",
   "execution_count": 74,
   "metadata": {},
   "outputs": [],
   "source": [
    "df_scaler_new_score = df_new.copy()\n",
    "ss = preprocessing.MinMaxScaler()\n",
    "df_scaler_new_score = pd.DataFrame(ss.fit_transform(df_new))\n",
    "columnNames = df_new.columns.to_list()\n",
    "df_scaler_new_score.columns = columnNames"
   ]
  },
  {
   "cell_type": "code",
   "execution_count": 75,
   "metadata": {},
   "outputs": [
    {
     "data": {
      "text/plain": [
       "count    5196.000000\n",
       "mean        0.137551\n",
       "std         0.188650\n",
       "min         0.000000\n",
       "25%         0.000000\n",
       "50%         0.024126\n",
       "75%         0.284298\n",
       "max         1.000000\n",
       "Name: production_points, dtype: float64"
      ]
     },
     "execution_count": 75,
     "metadata": {},
     "output_type": "execute_result"
    }
   ],
   "source": [
    "df_scaler_new_score.production_points.describe()"
   ]
  },
  {
   "cell_type": "code",
   "execution_count": 76,
   "metadata": {},
   "outputs": [
    {
     "data": {
      "text/html": [
       "<div>\n",
       "<style scoped>\n",
       "    .dataframe tbody tr th:only-of-type {\n",
       "        vertical-align: middle;\n",
       "    }\n",
       "\n",
       "    .dataframe tbody tr th {\n",
       "        vertical-align: top;\n",
       "    }\n",
       "\n",
       "    .dataframe thead th {\n",
       "        text-align: right;\n",
       "    }\n",
       "</style>\n",
       "<table border=\"1\" class=\"dataframe\">\n",
       "  <thead>\n",
       "    <tr style=\"text-align: right;\">\n",
       "      <th></th>\n",
       "      <th>vote_average</th>\n",
       "      <th>curr_genre_score</th>\n",
       "      <th>cast_points</th>\n",
       "      <th>production_points</th>\n",
       "      <th>inflated_profit</th>\n",
       "    </tr>\n",
       "  </thead>\n",
       "  <tbody>\n",
       "    <tr>\n",
       "      <th>1526</th>\n",
       "      <td>0.73913</td>\n",
       "      <td>0.341128</td>\n",
       "      <td>0.000000</td>\n",
       "      <td>0.489577</td>\n",
       "      <td>0.191323</td>\n",
       "    </tr>\n",
       "    <tr>\n",
       "      <th>1314</th>\n",
       "      <td>0.73913</td>\n",
       "      <td>0.389729</td>\n",
       "      <td>0.092765</td>\n",
       "      <td>0.410386</td>\n",
       "      <td>0.151273</td>\n",
       "    </tr>\n",
       "  </tbody>\n",
       "</table>\n",
       "</div>"
      ],
      "text/plain": [
       "      vote_average  curr_genre_score  cast_points  production_points  \\\n",
       "1526       0.73913          0.341128     0.000000           0.489577   \n",
       "1314       0.73913          0.389729     0.092765           0.410386   \n",
       "\n",
       "      inflated_profit  \n",
       "1526         0.191323  \n",
       "1314         0.151273  "
      ]
     },
     "execution_count": 76,
     "metadata": {},
     "output_type": "execute_result"
    }
   ],
   "source": [
    "df_scaler_new_score.sample(2)"
   ]
  },
  {
   "cell_type": "code",
   "execution_count": 77,
   "metadata": {},
   "outputs": [],
   "source": [
    "weight_scale={\n",
    "    \"vote_average\" : 30,\n",
    "    \"curr_genre_score\": 15,\n",
    "    \"cast_points\": 15,\n",
    "    \"production_points\": 10,\n",
    "    \"inflated_profit\"    : 30\n",
    "}\n",
    "for k,v in weight_scale.items():\n",
    "    df_scaler_new_score[k] = df_scaler_new_score[k] * v\n",
    "df_endurance['curr_pop'] = np.sqrt(np.sum(np.square(df_scaler_new_score), axis=1))"
   ]
  },
  {
   "cell_type": "code",
   "execution_count": 78,
   "metadata": {},
   "outputs": [
    {
     "data": {
      "text/plain": [
       "count    5196.000000\n",
       "mean       21.589093\n",
       "std         3.899382\n",
       "min         4.113262\n",
       "25%        19.188923\n",
       "50%        21.820943\n",
       "75%        24.176097\n",
       "max        41.599555\n",
       "Name: curr_pop, dtype: float64"
      ]
     },
     "execution_count": 78,
     "metadata": {},
     "output_type": "execute_result"
    }
   ],
   "source": [
    "df_endurance.curr_pop.describe()"
   ]
  },
  {
   "cell_type": "code",
   "execution_count": 79,
   "metadata": {},
   "outputs": [],
   "source": [
    "x = df_endurance[['curr_pop']].values.astype(float)\n",
    "\n",
    "# Create a minimum and maximum processor object\n",
    "min_max_scaler = preprocessing.MinMaxScaler()\n",
    "\n",
    "# Create an object to transform the data to fit minmax processor\n",
    "x_scaled = min_max_scaler.fit_transform(x)\n",
    "\n",
    "# Run the normalizer on the dataframe\n",
    "df_normalized = pd.DataFrame(x_scaled)\n",
    "df_normalized.columns = ['curr_pop']\n",
    "df_endurance['curr_pop'] = df_normalized['curr_pop']*10"
   ]
  },
  {
   "cell_type": "code",
   "execution_count": 80,
   "metadata": {},
   "outputs": [
    {
     "data": {
      "text/plain": [
       "count    5196.000000\n",
       "mean        4.661926\n",
       "std         1.040216\n",
       "min         0.000000\n",
       "25%         4.021646\n",
       "50%         4.723775\n",
       "75%         5.352046\n",
       "max        10.000000\n",
       "Name: curr_pop, dtype: float64"
      ]
     },
     "execution_count": 80,
     "metadata": {},
     "output_type": "execute_result"
    }
   ],
   "source": [
    "df_endurance.curr_pop.describe()"
   ]
  },
  {
   "cell_type": "code",
   "execution_count": 81,
   "metadata": {},
   "outputs": [
    {
     "data": {
      "image/png": "[encoded data removed]",
      "text/plain": [
       "<Figure size 720x504 with 1 Axes>"
      ]
     },
     "metadata": {},
     "output_type": "display_data"
    }
   ],
   "source": [
    "plt.figure(figsize=(10,7))\n",
    "sns.distplot(df_endurance.curr_pop)\n",
    "plt.xlabel(\"Popularity Score\",fontsize = 12)\n",
    "plt.title(\"Distribution of Current Popularity\",fontsize = 20)\n",
    "plt.show()"
   ]
  },
  {
   "cell_type": "code",
   "execution_count": 82,
   "metadata": {},
   "outputs": [
    {
     "data": {
      "text/plain": [
       "Index(['id', 'imdb_id', 'popularity', 'budget', 'revenue', 'original_title',\n",
       "       'cast', 'homepage', 'director', 'tagline', 'keywords', 'overview',\n",
       "       'runtime', 'genres', 'production_companies', 'release_date',\n",
       "       'vote_count', 'vote_average', 'release_year', 'budget_adj',\n",
       "       'revenue_adj', 'year_of_release', 'decade_of_release',\n",
       "       'month_of_release', 'genre_score', 'curr_genre_score',\n",
       "       'inflated_budget', 'inflated_revenue', 'inflated_profit', 'dur_score',\n",
       "       'Position', 'Description', 'Name', 's', 'cast_points',\n",
       "       'production_points', 'Winner', 'old_pop_score', 'curr_pop'],\n",
       "      dtype='object')"
      ]
     },
     "execution_count": 82,
     "metadata": {},
     "output_type": "execute_result"
    }
   ],
   "source": [
    "df_endurance.columns"
   ]
  },
  {
   "cell_type": "code",
   "execution_count": 83,
   "metadata": {},
   "outputs": [],
   "source": [
    "df_endurance['endurance']= 0.65*df_endurance['curr_pop']+0.35*df_endurance['old_pop_score']"
   ]
  },
  {
   "cell_type": "code",
   "execution_count": 84,
   "metadata": {},
   "outputs": [
    {
     "data": {
      "image/png": "[encoded data removed]",
      "text/plain": [
       "<Figure size 720x504 with 1 Axes>"
      ]
     },
     "metadata": {},
     "output_type": "display_data"
    }
   ],
   "source": [
    "plt.figure(figsize=(10,7))\n",
    "sns.distplot(df_endurance.endurance)\n",
    "plt.xlabel(\"Popularity Score\",fontsize = 12)\n",
    "plt.title(\"Distribution of Endurance Score\",fontsize = 20)\n",
    "plt.show()"
   ]
  },
  {
   "cell_type": "code",
   "execution_count": 85,
   "metadata": {},
   "outputs": [
    {
     "data": {
      "text/html": [
       "<div>\n",
       "<style scoped>\n",
       "    .dataframe tbody tr th:only-of-type {\n",
       "        vertical-align: middle;\n",
       "    }\n",
       "\n",
       "    .dataframe tbody tr th {\n",
       "        vertical-align: top;\n",
       "    }\n",
       "\n",
       "    .dataframe thead th {\n",
       "        text-align: right;\n",
       "    }\n",
       "</style>\n",
       "<table border=\"1\" class=\"dataframe\">\n",
       "  <thead>\n",
       "    <tr style=\"text-align: right;\">\n",
       "      <th></th>\n",
       "      <th>original_title</th>\n",
       "    </tr>\n",
       "  </thead>\n",
       "  <tbody>\n",
       "    <tr>\n",
       "      <th>2420</th>\n",
       "      <td>Titanic</td>\n",
       "    </tr>\n",
       "    <tr>\n",
       "      <th>478</th>\n",
       "      <td>Avatar</td>\n",
       "    </tr>\n",
       "    <tr>\n",
       "      <th>2032</th>\n",
       "      <td>The Dark Knight Rises</td>\n",
       "    </tr>\n",
       "    <tr>\n",
       "      <th>1261</th>\n",
       "      <td>The Dark Knight</td>\n",
       "    </tr>\n",
       "    <tr>\n",
       "      <th>451</th>\n",
       "      <td>Star Wars</td>\n",
       "    </tr>\n",
       "    <tr>\n",
       "      <th>937</th>\n",
       "      <td>The Warrior's Way</td>\n",
       "    </tr>\n",
       "    <tr>\n",
       "      <th>4</th>\n",
       "      <td>Star Wars: The Force Awakens</td>\n",
       "    </tr>\n",
       "    <tr>\n",
       "      <th>728</th>\n",
       "      <td>Inception</td>\n",
       "    </tr>\n",
       "    <tr>\n",
       "      <th>15</th>\n",
       "      <td>Avengers: Age of Ultron</td>\n",
       "    </tr>\n",
       "    <tr>\n",
       "      <th>5104</th>\n",
       "      <td>The Exorcist</td>\n",
       "    </tr>\n",
       "  </tbody>\n",
       "</table>\n",
       "</div>"
      ],
      "text/plain": [
       "                    original_title\n",
       "2420                       Titanic\n",
       "478                         Avatar\n",
       "2032         The Dark Knight Rises\n",
       "1261               The Dark Knight\n",
       "451                      Star Wars\n",
       "937              The Warrior's Way\n",
       "4     Star Wars: The Force Awakens\n",
       "728                      Inception\n",
       "15         Avengers: Age of Ultron\n",
       "5104                  The Exorcist"
      ]
     },
     "execution_count": 85,
     "metadata": {},
     "output_type": "execute_result"
    }
   ],
   "source": [
    "a = df_endurance.nlargest(10, ['endurance'])['original_title'].to_frame()\n",
    "a"
   ]
  },
  {
   "cell_type": "code",
   "execution_count": 86,
   "metadata": {},
   "outputs": [
    {
     "data": {
      "text/plain": [
       "id                      475\n",
       "imdb_id                 475\n",
       "popularity              475\n",
       "budget                  475\n",
       "revenue                 475\n",
       "original_title          475\n",
       "cast                    475\n",
       "homepage                148\n",
       "director                475\n",
       "tagline                 418\n",
       "keywords                467\n",
       "overview                475\n",
       "runtime                 475\n",
       "genres                  475\n",
       "production_companies    475\n",
       "release_date            475\n",
       "vote_count              475\n",
       "vote_average            475\n",
       "release_year            475\n",
       "budget_adj              475\n",
       "revenue_adj             475\n",
       "year_of_release         475\n",
       "decade_of_release       475\n",
       "month_of_release        475\n",
       "genre_score             475\n",
       "curr_genre_score        475\n",
       "inflated_budget         475\n",
       "inflated_revenue        475\n",
       "inflated_profit         475\n",
       "dur_score               475\n",
       "Position                475\n",
       "Description             475\n",
       "Name                    475\n",
       "s                         0\n",
       "cast_points             475\n",
       "production_points       475\n",
       "Winner                  475\n",
       "old_pop_score           475\n",
       "curr_pop                475\n",
       "endurance               475\n",
       "dtype: int64"
      ]
     },
     "execution_count": 86,
     "metadata": {},
     "output_type": "execute_result"
    }
   ],
   "source": [
    "df_endurance[df_endurance['Winner']==0].count()"
   ]
  },
  {
   "cell_type": "code",
   "execution_count": 87,
   "metadata": {},
   "outputs": [
    {
     "name": "stdout",
     "output_type": "stream",
     "text": [
      "1.0\n",
      "1.0\n",
      "-1.0\n",
      "-1.0\n",
      "0.0\n",
      "-1.0\n",
      "-1.0\n",
      "-1.0\n",
      "-1.0\n",
      "1.0\n"
     ]
    }
   ],
   "source": [
    "for x in a.index:\n",
    "    print(df_endurance.loc[x]['Winner'])"
   ]
  },
  {
   "cell_type": "code",
   "execution_count": 88,
   "metadata": {},
   "outputs": [],
   "source": [
    "X_Columns = ['budget_adj','revenue_adj','genre_score','dur_score']\n",
    "Y_Columns = ['endurance']\n",
    "df_unscaled = df_endurance[X_Columns]\n",
    "Y_unscaled = df_endurance[Y_Columns]\n",
    "#Y = df_endurance[Y_Columns]"
   ]
  },
  {
   "cell_type": "code",
   "execution_count": 89,
   "metadata": {},
   "outputs": [],
   "source": [
    "# Create a minimum and maximum processor object\n",
    "min_max_scaler = preprocessing.MinMaxScaler()\n",
    "\n",
    "# Create an object to transform the data to fit minmax processor\n",
    "x_scaled = min_max_scaler.fit_transform(df_unscaled)\n",
    "\n",
    "# Run the normalizer on the dataframe\n",
    "df = pd.DataFrame(x_scaled)\n",
    "df.columns = list(df.columns)"
   ]
  },
  {
   "cell_type": "code",
   "execution_count": 90,
   "metadata": {},
   "outputs": [
    {
     "data": {
      "text/html": [
       "<div>\n",
       "<style scoped>\n",
       "    .dataframe tbody tr th:only-of-type {\n",
       "        vertical-align: middle;\n",
       "    }\n",
       "\n",
       "    .dataframe tbody tr th {\n",
       "        vertical-align: top;\n",
       "    }\n",
       "\n",
       "    .dataframe thead th {\n",
       "        text-align: right;\n",
       "    }\n",
       "</style>\n",
       "<table border=\"1\" class=\"dataframe\">\n",
       "  <thead>\n",
       "    <tr style=\"text-align: right;\">\n",
       "      <th></th>\n",
       "      <th>0</th>\n",
       "      <th>1</th>\n",
       "      <th>2</th>\n",
       "      <th>3</th>\n",
       "    </tr>\n",
       "  </thead>\n",
       "  <tbody>\n",
       "    <tr>\n",
       "      <th>count</th>\n",
       "      <td>5196.000000</td>\n",
       "      <td>5196.000000</td>\n",
       "      <td>5196.000000</td>\n",
       "      <td>5196.000000</td>\n",
       "    </tr>\n",
       "    <tr>\n",
       "      <th>mean</th>\n",
       "      <td>0.086995</td>\n",
       "      <td>0.036200</td>\n",
       "      <td>0.411507</td>\n",
       "      <td>0.658534</td>\n",
       "    </tr>\n",
       "    <tr>\n",
       "      <th>std</th>\n",
       "      <td>0.098851</td>\n",
       "      <td>0.069235</td>\n",
       "      <td>0.175217</td>\n",
       "      <td>0.401399</td>\n",
       "    </tr>\n",
       "    <tr>\n",
       "      <th>min</th>\n",
       "      <td>0.000000</td>\n",
       "      <td>0.000000</td>\n",
       "      <td>0.000000</td>\n",
       "      <td>0.000000</td>\n",
       "    </tr>\n",
       "    <tr>\n",
       "      <th>25%</th>\n",
       "      <td>0.019064</td>\n",
       "      <td>0.000000</td>\n",
       "      <td>0.290100</td>\n",
       "      <td>0.149763</td>\n",
       "    </tr>\n",
       "    <tr>\n",
       "      <th>50%</th>\n",
       "      <td>0.053618</td>\n",
       "      <td>0.010201</td>\n",
       "      <td>0.391405</td>\n",
       "      <td>0.962444</td>\n",
       "    </tr>\n",
       "    <tr>\n",
       "      <th>75%</th>\n",
       "      <td>0.118224</td>\n",
       "      <td>0.040198</td>\n",
       "      <td>0.540037</td>\n",
       "      <td>0.993310</td>\n",
       "    </tr>\n",
       "    <tr>\n",
       "      <th>max</th>\n",
       "      <td>1.000000</td>\n",
       "      <td>1.000000</td>\n",
       "      <td>1.000000</td>\n",
       "      <td>1.000000</td>\n",
       "    </tr>\n",
       "  </tbody>\n",
       "</table>\n",
       "</div>"
      ],
      "text/plain": [
       "                 0            1            2            3\n",
       "count  5196.000000  5196.000000  5196.000000  5196.000000\n",
       "mean      0.086995     0.036200     0.411507     0.658534\n",
       "std       0.098851     0.069235     0.175217     0.401399\n",
       "min       0.000000     0.000000     0.000000     0.000000\n",
       "25%       0.019064     0.000000     0.290100     0.149763\n",
       "50%       0.053618     0.010201     0.391405     0.962444\n",
       "75%       0.118224     0.040198     0.540037     0.993310\n",
       "max       1.000000     1.000000     1.000000     1.000000"
      ]
     },
     "execution_count": 90,
     "metadata": {},
     "output_type": "execute_result"
    }
   ],
   "source": [
    "df.describe()"
   ]
  },
  {
   "cell_type": "code",
   "execution_count": 91,
   "metadata": {},
   "outputs": [],
   "source": [
    "# Create a minimum and maximum processor object\n",
    "min_max_scaler = preprocessing.MinMaxScaler()\n",
    "\n",
    "# Create an object to transform the data to fit minmax processor\n",
    "x_scaled = min_max_scaler.fit_transform(Y_unscaled)\n",
    "\n",
    "# Run the normalizer on the dataframe\n",
    "Y = pd.DataFrame(x_scaled)\n",
    "Y.columns = list(Y_unscaled.columns)"
   ]
  },
  {
   "cell_type": "code",
   "execution_count": 92,
   "metadata": {},
   "outputs": [
    {
     "data": {
      "text/html": [
       "<div>\n",
       "<style scoped>\n",
       "    .dataframe tbody tr th:only-of-type {\n",
       "        vertical-align: middle;\n",
       "    }\n",
       "\n",
       "    .dataframe tbody tr th {\n",
       "        vertical-align: top;\n",
       "    }\n",
       "\n",
       "    .dataframe thead th {\n",
       "        text-align: right;\n",
       "    }\n",
       "</style>\n",
       "<table border=\"1\" class=\"dataframe\">\n",
       "  <thead>\n",
       "    <tr style=\"text-align: right;\">\n",
       "      <th></th>\n",
       "      <th>endurance</th>\n",
       "    </tr>\n",
       "  </thead>\n",
       "  <tbody>\n",
       "    <tr>\n",
       "      <th>count</th>\n",
       "      <td>5196.000000</td>\n",
       "    </tr>\n",
       "    <tr>\n",
       "      <th>mean</th>\n",
       "      <td>0.479803</td>\n",
       "    </tr>\n",
       "    <tr>\n",
       "      <th>std</th>\n",
       "      <td>0.103326</td>\n",
       "    </tr>\n",
       "    <tr>\n",
       "      <th>min</th>\n",
       "      <td>0.000000</td>\n",
       "    </tr>\n",
       "    <tr>\n",
       "      <th>25%</th>\n",
       "      <td>0.416845</td>\n",
       "    </tr>\n",
       "    <tr>\n",
       "      <th>50%</th>\n",
       "      <td>0.484898</td>\n",
       "    </tr>\n",
       "    <tr>\n",
       "      <th>75%</th>\n",
       "      <td>0.547765</td>\n",
       "    </tr>\n",
       "    <tr>\n",
       "      <th>max</th>\n",
       "      <td>1.000000</td>\n",
       "    </tr>\n",
       "  </tbody>\n",
       "</table>\n",
       "</div>"
      ],
      "text/plain": [
       "         endurance\n",
       "count  5196.000000\n",
       "mean      0.479803\n",
       "std       0.103326\n",
       "min       0.000000\n",
       "25%       0.416845\n",
       "50%       0.484898\n",
       "75%       0.547765\n",
       "max       1.000000"
      ]
     },
     "execution_count": 92,
     "metadata": {},
     "output_type": "execute_result"
    }
   ],
   "source": [
    "Y.describe()"
   ]
  },
  {
   "cell_type": "code",
   "execution_count": 93,
   "metadata": {},
   "outputs": [],
   "source": [
    "# sklearn libraries\n",
    "from sklearn.preprocessing import MinMaxScaler\n",
    "from sklearn.preprocessing import StandardScaler\n",
    "from scipy.spatial.distance import pdist, squareform\n",
    "from sklearn.linear_model import LinearRegression\n",
    "from sklearn.linear_model import LogisticRegression\n",
    "from sklearn.metrics import roc_auc_score\n",
    "from sklearn.metrics import classification_report\n",
    "from sklearn.metrics import confusion_matrix\n",
    "from sklearn.metrics import mean_squared_error\n",
    "from sklearn.model_selection import train_test_split\n",
    "from sklearn.linear_model import Ridge\n",
    "from sklearn.linear_model import RidgeCV\n",
    "from sklearn.linear_model import Lasso\n",
    "from sklearn.linear_model import LassoCV\n",
    "from sklearn.model_selection import permutation_test_score\n",
    "from sklearn.svm import SVC\n",
    "from sklearn.model_selection import StratifiedKFold\n",
    "from sklearn.model_selection import permutation_test_score\n",
    "from sklearn import metrics"
   ]
  },
  {
   "cell_type": "code",
   "execution_count": 94,
   "metadata": {},
   "outputs": [],
   "source": [
    "X_train, X_test, y_train, y_test = train_test_split(df, Y, test_size=0.25, random_state=42)"
   ]
  },
  {
   "cell_type": "code",
   "execution_count": 95,
   "metadata": {},
   "outputs": [],
   "source": [
    "def plot_top_coefficients(model, top_n = 2):\n",
    "    '''\n",
    "    Plots the magnitude of top and bottom n coefficients\n",
    "    '''\n",
    "    cols = X_train.columns\n",
    "    coef = model.coef_\n",
    "    zipped = list(zip(cols, coef))\n",
    "    zipped.sort(key=lambda x: x[1], reverse = True)\n",
    "    top_coefficients = pd.DataFrame(zipped).head(top_n).sort_values(1)\n",
    "    #bottom_coefficients = pd.DataFrame(zipped).tail(top_n).sort_values(1,ascending=True)\n",
    "    combined = pd.concat([top_coefficients], axis=0)\n",
    "    combined.columns = ['Feature', 'Coefficient']\n",
    "    return top_coefficients"
   ]
  },
  {
   "cell_type": "code",
   "execution_count": 96,
   "metadata": {},
   "outputs": [],
   "source": [
    "result ={}"
   ]
  },
  {
   "cell_type": "markdown",
   "metadata": {},
   "source": [
    "# 1) Linear Regression"
   ]
  },
  {
   "cell_type": "code",
   "execution_count": 101,
   "metadata": {},
   "outputs": [
    {
     "name": "stdout",
     "output_type": "stream",
     "text": [
      "RMS Error: 0.1032\n"
     ]
    }
   ],
   "source": [
    "lm = LinearRegression()\n",
    "lmPred = lm.fit(X_train,y_train)\n",
    "predictions = lmPred.predict(X_test)\n",
    "rms_error = np.sqrt(mean_squared_error((y_test), (predictions)))\n",
    "result[\"Linear Regression\"] = rms_error\n",
    "print(\"RMS Error: \"+str(rms_error ))"
   ]
  },
  {
   "cell_type": "markdown",
   "metadata": {},
   "source": [
    "# 2) Ridge"
   ]
  },
  {
   "cell_type": "code",
   "execution_count": 102,
   "metadata": {},
   "outputs": [
    {
     "name": "stdout",
     "output_type": "stream",
     "text": [
      "Ridge RMS Error: 0.107\n"
     ]
    }
   ],
   "source": [
    "ridge = Ridge()\n",
    "raw_ridge = ridge.fit(X_train, y_train)\n",
    "predictions = raw_ridge.predict(X_test)\n",
    "rms_error = np.sqrt(mean_squared_error((y_test), (predictions)))\n",
    "result[\"Ridge\"] = rms_error\n",
    "print(\"Ridge RMS Error: \"+str(rms_error))"
   ]
  },
  {
   "cell_type": "markdown",
   "metadata": {},
   "source": [
    "# 3) Lasso"
   ]
  },
  {
   "cell_type": "code",
   "execution_count": 103,
   "metadata": {},
   "outputs": [
    {
     "name": "stdout",
     "output_type": "stream",
     "text": [
      "Lasso RMS Error: 0.1032\n"
     ]
    }
   ],
   "source": [
    "lasso = Lasso()\n",
    "raw_lasso = lasso.fit(X_train, y_train)\n",
    "predictions = raw_lasso.predict(X_test)\n",
    "rms_error = np.sqrt(mean_squared_error((y_test), (predictions)))\n",
    "result[\"Lasso\"] = rms_error\n",
    "print(\"Lasso RMS Error: \"+str(np.sqrt(mean_squared_error((y_test), (predictions)))))"
   ]
  },
  {
   "cell_type": "markdown",
   "metadata": {},
   "source": [
    "# 4) Ridge CV"
   ]
  },
  {
   "cell_type": "code",
   "execution_count": 100,
   "metadata": {},
   "outputs": [
    {
     "name": "stdout",
     "output_type": "stream",
     "text": [
      "RidgeCV RMS Error: 0.0735963199867618\n"
     ]
    }
   ],
   "source": [
    "alphas = np.logspace(-6,6,20)\n",
    "ridgecv = RidgeCV(alphas=alphas)\n",
    "ridgecv = RidgeCV(alphas=alphas)\n",
    "raw_ridge_cv = ridgecv.fit(X_train, y_train)\n",
    "predictions = raw_ridge_cv.predict(X_test)\n",
    "rms_error = np.sqrt(mean_squared_error((y_test), (predictions)))\n",
    "result[\"RidgeCV\"] = rms_error\n",
    "print(\"RidgeCV RMS Error: \"+str(rms_error))"
   ]
  },
  {
   "cell_type": "markdown",
   "metadata": {},
   "source": [
    "# 5) Lasso CV"
   ]
  },
  {
   "cell_type": "code",
   "execution_count": 99,
   "metadata": {},
   "outputs": [
    {
     "name": "stdout",
     "output_type": "stream",
     "text": [
      "LassoCV RMS Error: 0.07361600802453067\n"
     ]
    },
    {
     "name": "stderr",
     "output_type": "stream",
     "text": [
      "/Users/mvsnbharath/anaconda3/lib/python3.7/site-packages/sklearn/linear_model/coordinate_descent.py:1100: DataConversionWarning: A column-vector y was passed when a 1d array was expected. Please change the shape of y to (n_samples, ), for example using ravel().\n",
      "  y = column_or_1d(y, warn=True)\n",
      "/Users/mvsnbharath/anaconda3/lib/python3.7/site-packages/sklearn/model_selection/_split.py:1978: FutureWarning: The default value of cv will change from 3 to 5 in version 0.22. Specify it explicitly to silence this warning.\n",
      "  warnings.warn(CV_WARNING, FutureWarning)\n"
     ]
    }
   ],
   "source": [
    "lassocv = LassoCV(alphas=alphas)\n",
    "raw_lasso_cv = lassocv.fit(X_train, y_train)\n",
    "predictions = lassocv.predict(X_test)\n",
    "rms_error = np.sqrt(mean_squared_error((y_test), (predictions)))\n",
    "result[\"LassoCV\"] = rms_error\n",
    "print(\"LassoCV RMS Error: \"+str(np.sqrt(mean_squared_error((y_test), (predictions)))))"
   ]
  }
 ],
 "metadata": {
  "kernelspec": {
   "display_name": "Python 3",
   "language": "python",
   "name": "python3"
  },
  "language_info": {
   "codemirror_mode": {
    "name": "ipython",
    "version": 3
   },
   "file_extension": ".py",
   "mimetype": "text/x-python",
   "name": "python",
   "nbconvert_exporter": "python",
   "pygments_lexer": "ipython3",
   "version": "3.7.3"
  }
 },
 "nbformat": 4,
 "nbformat_minor": 2
}
