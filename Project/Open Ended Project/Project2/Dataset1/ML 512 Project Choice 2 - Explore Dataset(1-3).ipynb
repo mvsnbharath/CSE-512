{
 "cells": [
  {
   "cell_type": "markdown",
   "metadata": {},
   "source": [
    "# ML 512 Project Choice 2 - Explore Dataset(1-3)"
   ]
  },
  {
   "cell_type": "markdown",
   "metadata": {
    "_cell_guid": "54a989a4-01a7-09e6-3e75-6e7db66352ff"
   },
   "source": [
    "## The following is an Implementation of Binary Decision Tree Classifier with cross-validation to detect fraudulent transactions."
   ]
  },
  {
   "cell_type": "code",
   "execution_count": 1,
   "metadata": {
    "_cell_guid": "904fb4c5-5baf-87e5-db78-2c24def64f64"
   },
   "outputs": [],
   "source": [
    "import os\n",
    "import numpy as np\n",
    "import pandas as pd\n",
    "import matplotlib.pyplot as plt\n",
    "from sklearn.utils import shuffle\n",
    "from sklearn.tree import DecisionTreeClassifier\n",
    "from sklearn.metrics import roc_auc_score\n",
    "from sklearn.metrics import accuracy_score\n",
    "from sklearn.metrics import f1_score"
   ]
  },
  {
   "cell_type": "markdown",
   "metadata": {
    "_cell_guid": "549db069-193e-58e4-5f78-5af925b649bd"
   },
   "source": [
    "load and shuffle original data"
   ]
  },
  {
   "cell_type": "code",
   "execution_count": 15,
   "metadata": {},
   "outputs": [
    {
     "data": {
      "text/plain": [
       "284807"
      ]
     },
     "execution_count": 15,
     "metadata": {},
     "output_type": "execute_result"
    }
   ],
   "source": [
    "len(df['Class']==1)"
   ]
  },
  {
   "cell_type": "code",
   "execution_count": 2,
   "metadata": {
    "_cell_guid": "83cb108e-86a0-29a6-964a-c74b1587eda1"
   },
   "outputs": [
    {
     "data": {
      "text/html": [
       "<div>\n",
       "<style scoped>\n",
       "    .dataframe tbody tr th:only-of-type {\n",
       "        vertical-align: middle;\n",
       "    }\n",
       "\n",
       "    .dataframe tbody tr th {\n",
       "        vertical-align: top;\n",
       "    }\n",
       "\n",
       "    .dataframe thead th {\n",
       "        text-align: right;\n",
       "    }\n",
       "</style>\n",
       "<table border=\"1\" class=\"dataframe\">\n",
       "  <thead>\n",
       "    <tr style=\"text-align: right;\">\n",
       "      <th></th>\n",
       "      <th>Time</th>\n",
       "      <th>V1</th>\n",
       "      <th>V2</th>\n",
       "      <th>V3</th>\n",
       "      <th>V4</th>\n",
       "      <th>V5</th>\n",
       "      <th>V6</th>\n",
       "      <th>V7</th>\n",
       "      <th>V8</th>\n",
       "      <th>V9</th>\n",
       "      <th>...</th>\n",
       "      <th>V21</th>\n",
       "      <th>V22</th>\n",
       "      <th>V23</th>\n",
       "      <th>V24</th>\n",
       "      <th>V25</th>\n",
       "      <th>V26</th>\n",
       "      <th>V27</th>\n",
       "      <th>V28</th>\n",
       "      <th>Amount</th>\n",
       "      <th>Class</th>\n",
       "    </tr>\n",
       "  </thead>\n",
       "  <tbody>\n",
       "    <tr>\n",
       "      <th>0</th>\n",
       "      <td>146698.0</td>\n",
       "      <td>1.348232</td>\n",
       "      <td>-1.529678</td>\n",
       "      <td>-0.685076</td>\n",
       "      <td>0.680334</td>\n",
       "      <td>-0.886074</td>\n",
       "      <td>0.263299</td>\n",
       "      <td>-0.292228</td>\n",
       "      <td>0.162271</td>\n",
       "      <td>1.722673</td>\n",
       "      <td>...</td>\n",
       "      <td>-0.158074</td>\n",
       "      <td>-0.842733</td>\n",
       "      <td>0.049524</td>\n",
       "      <td>-0.523975</td>\n",
       "      <td>-0.403743</td>\n",
       "      <td>-0.989577</td>\n",
       "      <td>0.007246</td>\n",
       "      <td>0.005735</td>\n",
       "      <td>308.56</td>\n",
       "      <td>0</td>\n",
       "    </tr>\n",
       "    <tr>\n",
       "      <th>1</th>\n",
       "      <td>33072.0</td>\n",
       "      <td>-0.840299</td>\n",
       "      <td>1.016702</td>\n",
       "      <td>0.983929</td>\n",
       "      <td>-1.648990</td>\n",
       "      <td>0.772095</td>\n",
       "      <td>-0.158747</td>\n",
       "      <td>1.048795</td>\n",
       "      <td>-0.625722</td>\n",
       "      <td>0.589914</td>\n",
       "      <td>...</td>\n",
       "      <td>-0.083030</td>\n",
       "      <td>-0.081414</td>\n",
       "      <td>-0.185360</td>\n",
       "      <td>-0.699430</td>\n",
       "      <td>-0.269445</td>\n",
       "      <td>0.710254</td>\n",
       "      <td>-0.946378</td>\n",
       "      <td>-0.378661</td>\n",
       "      <td>2.23</td>\n",
       "      <td>0</td>\n",
       "    </tr>\n",
       "    <tr>\n",
       "      <th>2</th>\n",
       "      <td>157180.0</td>\n",
       "      <td>-1.063758</td>\n",
       "      <td>0.113201</td>\n",
       "      <td>-2.634973</td>\n",
       "      <td>-1.065677</td>\n",
       "      <td>-5.844907</td>\n",
       "      <td>2.601784</td>\n",
       "      <td>3.354567</td>\n",
       "      <td>0.370484</td>\n",
       "      <td>-1.412220</td>\n",
       "      <td>...</td>\n",
       "      <td>-0.049377</td>\n",
       "      <td>0.379200</td>\n",
       "      <td>0.853626</td>\n",
       "      <td>-0.428217</td>\n",
       "      <td>-2.306819</td>\n",
       "      <td>-0.774324</td>\n",
       "      <td>0.444321</td>\n",
       "      <td>-0.191635</td>\n",
       "      <td>1042.89</td>\n",
       "      <td>0</td>\n",
       "    </tr>\n",
       "    <tr>\n",
       "      <th>3</th>\n",
       "      <td>121636.0</td>\n",
       "      <td>-1.276312</td>\n",
       "      <td>-0.569920</td>\n",
       "      <td>-0.820109</td>\n",
       "      <td>0.050616</td>\n",
       "      <td>0.456772</td>\n",
       "      <td>-0.474659</td>\n",
       "      <td>1.746255</td>\n",
       "      <td>-0.382566</td>\n",
       "      <td>-0.412594</td>\n",
       "      <td>...</td>\n",
       "      <td>0.245373</td>\n",
       "      <td>0.882830</td>\n",
       "      <td>-0.225087</td>\n",
       "      <td>-0.414461</td>\n",
       "      <td>0.220484</td>\n",
       "      <td>-0.043790</td>\n",
       "      <td>0.212478</td>\n",
       "      <td>-0.062417</td>\n",
       "      <td>397.00</td>\n",
       "      <td>0</td>\n",
       "    </tr>\n",
       "    <tr>\n",
       "      <th>4</th>\n",
       "      <td>51254.0</td>\n",
       "      <td>1.095718</td>\n",
       "      <td>-0.044888</td>\n",
       "      <td>1.109118</td>\n",
       "      <td>1.148836</td>\n",
       "      <td>-0.482017</td>\n",
       "      <td>0.741354</td>\n",
       "      <td>-0.694085</td>\n",
       "      <td>0.334385</td>\n",
       "      <td>0.370752</td>\n",
       "      <td>...</td>\n",
       "      <td>0.191912</td>\n",
       "      <td>0.752361</td>\n",
       "      <td>-0.123699</td>\n",
       "      <td>-0.260270</td>\n",
       "      <td>0.468724</td>\n",
       "      <td>-0.212945</td>\n",
       "      <td>0.083702</td>\n",
       "      <td>0.021338</td>\n",
       "      <td>10.00</td>\n",
       "      <td>0</td>\n",
       "    </tr>\n",
       "  </tbody>\n",
       "</table>\n",
       "<p>5 rows × 31 columns</p>\n",
       "</div>"
      ],
      "text/plain": [
       "       Time        V1        V2        V3        V4        V5        V6  \\\n",
       "0  146698.0  1.348232 -1.529678 -0.685076  0.680334 -0.886074  0.263299   \n",
       "1   33072.0 -0.840299  1.016702  0.983929 -1.648990  0.772095 -0.158747   \n",
       "2  157180.0 -1.063758  0.113201 -2.634973 -1.065677 -5.844907  2.601784   \n",
       "3  121636.0 -1.276312 -0.569920 -0.820109  0.050616  0.456772 -0.474659   \n",
       "4   51254.0  1.095718 -0.044888  1.109118  1.148836 -0.482017  0.741354   \n",
       "\n",
       "         V7        V8        V9  ...       V21       V22       V23       V24  \\\n",
       "0 -0.292228  0.162271  1.722673  ... -0.158074 -0.842733  0.049524 -0.523975   \n",
       "1  1.048795 -0.625722  0.589914  ... -0.083030 -0.081414 -0.185360 -0.699430   \n",
       "2  3.354567  0.370484 -1.412220  ... -0.049377  0.379200  0.853626 -0.428217   \n",
       "3  1.746255 -0.382566 -0.412594  ...  0.245373  0.882830 -0.225087 -0.414461   \n",
       "4 -0.694085  0.334385  0.370752  ...  0.191912  0.752361 -0.123699 -0.260270   \n",
       "\n",
       "        V25       V26       V27       V28   Amount  Class  \n",
       "0 -0.403743 -0.989577  0.007246  0.005735   308.56      0  \n",
       "1 -0.269445  0.710254 -0.946378 -0.378661     2.23      0  \n",
       "2 -2.306819 -0.774324  0.444321 -0.191635  1042.89      0  \n",
       "3  0.220484 -0.043790  0.212478 -0.062417   397.00      0  \n",
       "4  0.468724 -0.212945  0.083702  0.021338    10.00      0  \n",
       "\n",
       "[5 rows x 31 columns]"
      ]
     },
     "execution_count": 2,
     "metadata": {},
     "output_type": "execute_result"
    }
   ],
   "source": [
    "# from subprocess import check_output\n",
    "# print(check_output([\"ls\", \"../input\"]).decode(\"utf8\"))\n",
    "df = pd.read_csv(\"creditcard.csv\")\n",
    "df =  shuffle(df).reset_index(drop=True)\n",
    "df.head()"
   ]
  },
  {
   "cell_type": "markdown",
   "metadata": {
    "_cell_guid": "f5c1c188-7798-545e-21c7-e8fdc9590847"
   },
   "source": [
    "Separate dataset into train and test sets"
   ]
  },
  {
   "cell_type": "code",
   "execution_count": 3,
   "metadata": {
    "_cell_guid": "d1d53212-9c3a-b888-af16-a3cb3f77e30a"
   },
   "outputs": [],
   "source": [
    "frac = 0.80 \n",
    "X_train = df.sample(frac=frac)\n",
    "count_FRAUDE = len(X_train)\n",
    "\n",
    "#X_test contains all the transaction not in X_train.\n",
    "X_test = df.loc[~df.index.isin(X_train.index)].reset_index(drop=True).astype(float)\n",
    "\n",
    "#Add our target feat1ures to y_train and y_test.\n",
    "y_train = pd.DataFrame({'Class':X_train.Class.reset_index(drop=True)})\n",
    "\n",
    "\n",
    "\n",
    "y_test = pd.DataFrame({'Class':X_test.Class.reset_index(drop=True)})\n",
    "\n",
    "#Drop target features from predictors X_train and X_test.\n",
    "X_train = X_train.drop(['Class'], axis = 1).reset_index(drop=True)\n",
    "X_test = X_test.drop(['Class'], axis = 1).reset_index(drop=True)\n"
   ]
  },
  {
   "cell_type": "code",
   "execution_count": 4,
   "metadata": {},
   "outputs": [
    {
     "name": "stdout",
     "output_type": "stream",
     "text": [
      "Training class balance is currently 0.0017  +1, 0.9983 -1\n",
      "Test class balance is currently 0.0017  +1, 0.9983 -1\n",
      "Overall Dataset class balance is currently 0.0017  +1, 0.9983 -1\n"
     ]
    }
   ],
   "source": [
    "def get_class_balance(y):\n",
    "    uniqueValues, counts = np.unique(y,return_counts=True)\n",
    "    total = np.shape(y)[0]\n",
    "    positiveValues = 0\n",
    "    negativeValues = 0\n",
    "    for index, value in enumerate(uniqueValues):\n",
    "        if value == 1:\n",
    "            positiveValues = counts[index]\n",
    "        else:\n",
    "            negativeValues = counts[index]\n",
    "    assert(positiveValues+negativeValues == total), \"Something wrong please check\"\n",
    "        \n",
    "    return positiveValues/total, negativeValues/total\n",
    "\n",
    "print ('Training class balance is currently %.4f  +1, %.4f -1' % get_class_balance(y_train))\n",
    "print ('Test class balance is currently %.4f  +1, %.4f -1' % get_class_balance(y_test))\n",
    "print ('Overall Dataset class balance is currently %.4f  +1, %.4f -1' % get_class_balance(df['Class']))"
   ]
  },
  {
   "cell_type": "markdown",
   "metadata": {
    "_cell_guid": "e1be12d9-94ac-1a4c-2be9-c6b5c90a0da4"
   },
   "source": [
    "Normalized Dataset except for target variable"
   ]
  },
  {
   "cell_type": "code",
   "execution_count": 5,
   "metadata": {
    "_cell_guid": "c29447da-26ef-f064-e5c2-8603cfa67e80"
   },
   "outputs": [],
   "source": [
    "features = X_train.columns.values\n",
    "for feature in features:\n",
    "    mean, std = df[feature].mean(), df[feature].std()\n",
    "    X_train.loc[:, feature] = (X_train[feature] - mean) / std\n",
    "    X_test.loc[:, feature] = (X_test[feature] - mean) / std"
   ]
  },
  {
   "cell_type": "markdown",
   "metadata": {
    "_cell_guid": "620e99fc-a14e-31f2-51ac-a97f2e205b2d"
   },
   "source": [
    "Prepare The training and perform x-validation to see which tree depth minimizes the Minimum Squared Error (MSE)"
   ]
  },
  {
   "cell_type": "code",
   "execution_count": 6,
   "metadata": {
    "_cell_guid": "337c771f-12fd-36ac-3734-196a0b76cf64"
   },
   "outputs": [
    {
     "name": "stderr",
     "output_type": "stream",
     "text": [
      "/Users/mvsnbharath/anaconda3/lib/python3.7/site-packages/ipykernel_launcher.py:10: FutureWarning: Method .as_matrix will be removed in a future version. Use .values instead.\n",
      "  # Remove the CWD from sys.path while we load stuff.\n",
      "/Users/mvsnbharath/anaconda3/lib/python3.7/site-packages/ipykernel_launcher.py:11: FutureWarning: Method .as_matrix will be removed in a future version. Use .values instead.\n",
      "  # This is added back by InteractiveShellApp.init_path()\n",
      "/Users/mvsnbharath/anaconda3/lib/python3.7/site-packages/ipykernel_launcher.py:12: FutureWarning: Method .as_matrix will be removed in a future version. Use .values instead.\n",
      "  if sys.path[0] == '':\n",
      "/Users/mvsnbharath/anaconda3/lib/python3.7/site-packages/ipykernel_launcher.py:13: FutureWarning: Method .as_matrix will be removed in a future version. Use .values instead.\n",
      "  del sys.path[0]\n",
      "/Users/mvsnbharath/anaconda3/lib/python3.7/site-packages/ipykernel_launcher.py:10: FutureWarning: Method .as_matrix will be removed in a future version. Use .values instead.\n",
      "  # Remove the CWD from sys.path while we load stuff.\n",
      "/Users/mvsnbharath/anaconda3/lib/python3.7/site-packages/ipykernel_launcher.py:11: FutureWarning: Method .as_matrix will be removed in a future version. Use .values instead.\n",
      "  # This is added back by InteractiveShellApp.init_path()\n",
      "/Users/mvsnbharath/anaconda3/lib/python3.7/site-packages/ipykernel_launcher.py:12: FutureWarning: Method .as_matrix will be removed in a future version. Use .values instead.\n",
      "  if sys.path[0] == '':\n",
      "/Users/mvsnbharath/anaconda3/lib/python3.7/site-packages/ipykernel_launcher.py:13: FutureWarning: Method .as_matrix will be removed in a future version. Use .values instead.\n",
      "  del sys.path[0]\n",
      "/Users/mvsnbharath/anaconda3/lib/python3.7/site-packages/ipykernel_launcher.py:10: FutureWarning: Method .as_matrix will be removed in a future version. Use .values instead.\n",
      "  # Remove the CWD from sys.path while we load stuff.\n",
      "/Users/mvsnbharath/anaconda3/lib/python3.7/site-packages/ipykernel_launcher.py:11: FutureWarning: Method .as_matrix will be removed in a future version. Use .values instead.\n",
      "  # This is added back by InteractiveShellApp.init_path()\n",
      "/Users/mvsnbharath/anaconda3/lib/python3.7/site-packages/ipykernel_launcher.py:12: FutureWarning: Method .as_matrix will be removed in a future version. Use .values instead.\n",
      "  if sys.path[0] == '':\n",
      "/Users/mvsnbharath/anaconda3/lib/python3.7/site-packages/ipykernel_launcher.py:13: FutureWarning: Method .as_matrix will be removed in a future version. Use .values instead.\n",
      "  del sys.path[0]\n",
      "/Users/mvsnbharath/anaconda3/lib/python3.7/site-packages/ipykernel_launcher.py:10: FutureWarning: Method .as_matrix will be removed in a future version. Use .values instead.\n",
      "  # Remove the CWD from sys.path while we load stuff.\n",
      "/Users/mvsnbharath/anaconda3/lib/python3.7/site-packages/ipykernel_launcher.py:11: FutureWarning: Method .as_matrix will be removed in a future version. Use .values instead.\n",
      "  # This is added back by InteractiveShellApp.init_path()\n",
      "/Users/mvsnbharath/anaconda3/lib/python3.7/site-packages/ipykernel_launcher.py:12: FutureWarning: Method .as_matrix will be removed in a future version. Use .values instead.\n",
      "  if sys.path[0] == '':\n",
      "/Users/mvsnbharath/anaconda3/lib/python3.7/site-packages/ipykernel_launcher.py:13: FutureWarning: Method .as_matrix will be removed in a future version. Use .values instead.\n",
      "  del sys.path[0]\n",
      "/Users/mvsnbharath/anaconda3/lib/python3.7/site-packages/ipykernel_launcher.py:10: FutureWarning: Method .as_matrix will be removed in a future version. Use .values instead.\n",
      "  # Remove the CWD from sys.path while we load stuff.\n",
      "/Users/mvsnbharath/anaconda3/lib/python3.7/site-packages/ipykernel_launcher.py:11: FutureWarning: Method .as_matrix will be removed in a future version. Use .values instead.\n",
      "  # This is added back by InteractiveShellApp.init_path()\n",
      "/Users/mvsnbharath/anaconda3/lib/python3.7/site-packages/ipykernel_launcher.py:12: FutureWarning: Method .as_matrix will be removed in a future version. Use .values instead.\n",
      "  if sys.path[0] == '':\n",
      "/Users/mvsnbharath/anaconda3/lib/python3.7/site-packages/ipykernel_launcher.py:13: FutureWarning: Method .as_matrix will be removed in a future version. Use .values instead.\n",
      "  del sys.path[0]\n",
      "/Users/mvsnbharath/anaconda3/lib/python3.7/site-packages/ipykernel_launcher.py:10: FutureWarning: Method .as_matrix will be removed in a future version. Use .values instead.\n",
      "  # Remove the CWD from sys.path while we load stuff.\n",
      "/Users/mvsnbharath/anaconda3/lib/python3.7/site-packages/ipykernel_launcher.py:11: FutureWarning: Method .as_matrix will be removed in a future version. Use .values instead.\n",
      "  # This is added back by InteractiveShellApp.init_path()\n",
      "/Users/mvsnbharath/anaconda3/lib/python3.7/site-packages/ipykernel_launcher.py:12: FutureWarning: Method .as_matrix will be removed in a future version. Use .values instead.\n",
      "  if sys.path[0] == '':\n",
      "/Users/mvsnbharath/anaconda3/lib/python3.7/site-packages/ipykernel_launcher.py:13: FutureWarning: Method .as_matrix will be removed in a future version. Use .values instead.\n",
      "  del sys.path[0]\n",
      "/Users/mvsnbharath/anaconda3/lib/python3.7/site-packages/ipykernel_launcher.py:10: FutureWarning: Method .as_matrix will be removed in a future version. Use .values instead.\n",
      "  # Remove the CWD from sys.path while we load stuff.\n",
      "/Users/mvsnbharath/anaconda3/lib/python3.7/site-packages/ipykernel_launcher.py:11: FutureWarning: Method .as_matrix will be removed in a future version. Use .values instead.\n",
      "  # This is added back by InteractiveShellApp.init_path()\n",
      "/Users/mvsnbharath/anaconda3/lib/python3.7/site-packages/ipykernel_launcher.py:12: FutureWarning: Method .as_matrix will be removed in a future version. Use .values instead.\n",
      "  if sys.path[0] == '':\n",
      "/Users/mvsnbharath/anaconda3/lib/python3.7/site-packages/ipykernel_launcher.py:13: FutureWarning: Method .as_matrix will be removed in a future version. Use .values instead.\n",
      "  del sys.path[0]\n",
      "/Users/mvsnbharath/anaconda3/lib/python3.7/site-packages/ipykernel_launcher.py:10: FutureWarning: Method .as_matrix will be removed in a future version. Use .values instead.\n",
      "  # Remove the CWD from sys.path while we load stuff.\n",
      "/Users/mvsnbharath/anaconda3/lib/python3.7/site-packages/ipykernel_launcher.py:11: FutureWarning: Method .as_matrix will be removed in a future version. Use .values instead.\n",
      "  # This is added back by InteractiveShellApp.init_path()\n",
      "/Users/mvsnbharath/anaconda3/lib/python3.7/site-packages/ipykernel_launcher.py:12: FutureWarning: Method .as_matrix will be removed in a future version. Use .values instead.\n",
      "  if sys.path[0] == '':\n",
      "/Users/mvsnbharath/anaconda3/lib/python3.7/site-packages/ipykernel_launcher.py:13: FutureWarning: Method .as_matrix will be removed in a future version. Use .values instead.\n",
      "  del sys.path[0]\n",
      "/Users/mvsnbharath/anaconda3/lib/python3.7/site-packages/ipykernel_launcher.py:10: FutureWarning: Method .as_matrix will be removed in a future version. Use .values instead.\n",
      "  # Remove the CWD from sys.path while we load stuff.\n",
      "/Users/mvsnbharath/anaconda3/lib/python3.7/site-packages/ipykernel_launcher.py:11: FutureWarning: Method .as_matrix will be removed in a future version. Use .values instead.\n",
      "  # This is added back by InteractiveShellApp.init_path()\n",
      "/Users/mvsnbharath/anaconda3/lib/python3.7/site-packages/ipykernel_launcher.py:12: FutureWarning: Method .as_matrix will be removed in a future version. Use .values instead.\n",
      "  if sys.path[0] == '':\n",
      "/Users/mvsnbharath/anaconda3/lib/python3.7/site-packages/ipykernel_launcher.py:13: FutureWarning: Method .as_matrix will be removed in a future version. Use .values instead.\n",
      "  del sys.path[0]\n"
     ]
    }
   ],
   "source": [
    "nrow = len(X_train)\n",
    "depthList = np.array(range(1,10))\n",
    "xvalMSE =[]\n",
    "epoch = 1\n",
    "score_history =[]\n",
    "for iDepth in depthList:\n",
    "\n",
    "    for ixval in range(epoch):\n",
    "\n",
    "        xTrain = X_train.as_matrix()\n",
    "        yTrain = y_train.as_matrix().ravel()\n",
    "        xTest = X_test.as_matrix()\n",
    "        yTest = y_test.as_matrix().ravel()\n",
    "\n",
    "    \n",
    "        treeModel = DecisionTreeClassifier(max_depth = iDepth)\n",
    "        treeModel.fit(xTrain, yTrain)\n",
    "        \n",
    "        treePrediction = treeModel.predict(xTest)\n",
    "        treePrediction=np.array(treePrediction,dtype=np.float32)\n",
    "        yTest = np.array(yTest,dtype=np.float32)\n",
    "        \n",
    "        error = [yTest[r] - treePrediction[r] for r in range(len(yTest))]\n",
    "\n",
    "        \n",
    "        if ixval == 0:\n",
    "            oosErrors = sum([e*e for e in error])\n",
    "        else:\n",
    "            oosErrors += sum([e*e for e in error])\n",
    "    score = roc_auc_score(yTest, treePrediction)\n",
    "    score_history.append(score)    \n",
    "    mse = oosErrors/nrow\n",
    "    xvalMSE.append(mse)"
   ]
  },
  {
   "cell_type": "code",
   "execution_count": 7,
   "metadata": {
    "_cell_guid": "393b6e8c-922c-3eb8-2c51-d22cbbcdbb28"
   },
   "outputs": [
    {
     "data": {
      "text/plain": [
       "[<matplotlib.lines.Line2D at 0x7fad6f577be0>]"
      ]
     },
     "execution_count": 7,
     "metadata": {},
     "output_type": "execute_result"
    },
    {
     "data": {
      "image/png": "[encoded data removed]",
      "text/plain": [
       "<Figure size 432x288 with 1 Axes>"
      ]
     },
     "metadata": {
      "needs_background": "light"
     },
     "output_type": "display_data"
    }
   ],
   "source": [
    "plt.figure()\n",
    "plt.plot(depthList,xvalMSE)\n",
    "plt.axis(\"tight\")\n",
    "plt.xlabel(\"Tree Depth\")\n",
    "plt.ylabel(\"MSE\")\n",
    "opt_depth = depthList[np.argmin(xvalMSE)]\n",
    "plt.plot(opt_depth,np.amin(xvalMSE),\"or\")"
   ]
  },
  {
   "cell_type": "code",
   "execution_count": 8,
   "metadata": {
    "_cell_guid": "0970dcc9-3572-3761-dd6c-92206b761e09"
   },
   "outputs": [
    {
     "data": {
      "image/png": "[encoded data removed]",
      "text/plain": [
       "<Figure size 432x288 with 1 Axes>"
      ]
     },
     "metadata": {
      "needs_background": "light"
     },
     "output_type": "display_data"
    }
   ],
   "source": [
    "plt.figure()\n",
    "plt.plot(depthList,score_history)\n",
    "plt.axis(\"tight\")\n",
    "plt.xlabel(\"Tree Depth\")\n",
    "plt.ylabel(\"ROC AUC Scores\")\n",
    "plt.show()"
   ]
  },
  {
   "cell_type": "code",
   "execution_count": 9,
   "metadata": {
    "_cell_guid": "700bdef7-1173-3a72-11e7-32556550dd9c"
   },
   "outputs": [
    {
     "name": "stdout",
     "output_type": "stream",
     "text": [
      "Minimum MSE: 0.00014044573966626582\n",
      "Maximum ROC AUC Score: 0.8887130245154936\n"
     ]
    }
   ],
   "source": [
    "print(\"Minimum MSE:\",np.amin(xvalMSE))\n",
    "print(\"Maximum ROC AUC Score:\", np.amax(score_history))"
   ]
  },
  {
   "cell_type": "code",
   "execution_count": 10,
   "metadata": {},
   "outputs": [
    {
     "name": "stdout",
     "output_type": "stream",
     "text": [
      "0.9993679886237953\n",
      "0.8085106382978724\n"
     ]
    }
   ],
   "source": [
    "print(accuracy_score(y_test, treePrediction))\n",
    "print(f1_score(y_test, treePrediction))"
   ]
  }
 ],
 "metadata": {
  "_change_revision": 40,
  "_is_fork": false,
  "kernelspec": {
   "display_name": "Python 3",
   "language": "python",
   "name": "python3"
  },
  "language_info": {
   "codemirror_mode": {
    "name": "ipython",
    "version": 3
   },
   "file_extension": ".py",
   "mimetype": "text/x-python",
   "name": "python",
   "nbconvert_exporter": "python",
   "pygments_lexer": "ipython3",
   "version": "3.7.3"
  }
 },
 "nbformat": 4,
 "nbformat_minor": 1
}
